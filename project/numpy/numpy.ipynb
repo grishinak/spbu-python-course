{
  "cells": [
    {
      "cell_type": "markdown",
      "metadata": {
        "id": "pRDcZqu8v33Q"
      },
      "source": [
        "# Task#8. Numpy"
      ]
    },
    {
      "cell_type": "markdown",
      "metadata": {
        "id": "hSHbHin9QuwL"
      },
      "source": [
        "# Текст задачи"
      ]
    },
    {
      "cell_type": "markdown",
      "metadata": {
        "id": "KsTjzjjtveLK"
      },
      "source": [
        "## Задача 8. numpy\n",
        "\n",
        "* **Дедлайн**: 21.11.2024, 23:59\n",
        "* Полный балл: 5\n",
        "\n",
        "## Задача\n",
        "\n",
        "Все пункты задания выполняются в ноутбуке, в PR стоит прикладывать сам ноутбук, ссылку на него в облачном сервисе (к примеру, Google colab) и файлы датасета\n",
        "\n",
        "- Выполняется с помощью numpy и базовой функциональности python.\n",
        "  - [ ] Получить датасет [**Ирис**](https://archive.ics.uci.edu/ml/machine-learning-databases/iris/iris.data)\n",
        "  - [ ] Представить датасет одномерный/двумерный массивы (признаки поместить в матрицу `(n, 4)`, названия самого ириса --- вектор размера n). Отобразите сколько места он занимает.\n",
        "  - [ ] Нормализуйте данные на промежуток от 0 до 1 для каждой колонки\n",
        "  - [ ] Представьте один из признаков в виде категориальной переменной и её на три типа используя квантили:\n",
        "    - < 0.25 --- small\n",
        "    - 0.25-0.75 --- medium\n",
        "    - \\> 0.75 --- big\n",
        "  - [ ] Разделите датасет на две случайные выборки (0.8 / 0.2)\n",
        "- Выполняется с помощью пакетов sklearn и numpy\n",
        "  - [ ] Выберите один из [методов классификации](https://scikit-learn.org/stable/supervised_learning.html) \\(к примеру, [SVC](https://scikit-learn.org/stable/modules/svm.html)), обучите на тренировочном датасете, оцените результат на тестовом и сделайте выводы\n",
        "  - [ ] Проведите три эксперимента изменяя гиперпараметры модели или условия препроцессинга данных (например, нормализованные или нет данные), сделайте выводы\n",
        "  - [ ] Пользуясь методами [уменьшения размерности](https://ru.wikipedia.org/wiki/%D0%A1%D0%BD%D0%B8%D0%B6%D0%B5%D0%BD%D0%B8%D0%B5_%D1%80%D0%B0%D0%B7%D0%BC%D0%B5%D1%80%D0%BD%D0%BE%D1%81%D1%82%D0%B8) ([PCA](https://scikit-learn.org/stable/modules/generated/sklearn.decomposition.PCA.html), [t-sne](https://scikit-learn.org/stable/modules/generated/sklearn.manifold.TSNE.html)) визуализируйте датасет.\n",
        "  Это должен быть scatter plot, где точка это отдельный ирис, ее координаты -- признаки со сжатой выбранной вам размерностью, а цвет -- тип ириса. Нарисуйте этот график дважды, где\n",
        "    - Тип ириса выбирается из оригинальных данных\n",
        "    - Тип ириса выбирается из предсказанных данных\n",
        "- [ ] **(Доп., +3 балла)** Создайте матрицу с произвольными значениями в стандартной конфигурации Google colab. Владельцы трёх наибольших матриц получат +3 балла\n",
        "  - Задание делается в отдельном ноутбуке и сдаётся очно\n",
        "  - В матрице должно быть более 2 различных значений\n",
        "  - Вы можете сами присваивать значения и устанавливать их порядок\n",
        "  - В каждой строчке и каждом столбце должен быть ненулевой элемент\n",
        "  - Матрица должна быть конечной --- последний элемент должен быть извлекаемым и ненулевым\n",
        "  - Можно использовать numpy, pandas, scipy\n",
        "  - Баллы за задание получат только владельцы трёх наибольших матриц. Итог подводится в день дедлайна"
      ]
    },
    {
      "cell_type": "markdown",
      "metadata": {
        "id": "77t87liDRtzk"
      },
      "source": [
        "# $\\circ$ Выполняется с помощью numpy и базовой функциональности python."
      ]
    },
    {
      "cell_type": "markdown",
      "metadata": {
        "id": "0R6u7pwZSB4J"
      },
      "source": [
        "## $\\blacksquare$ Получить датасет Ирис"
      ]
    },
    {
      "cell_type": "markdown",
      "metadata": {
        "id": "QeLDngGySFsd"
      },
      "source": [
        "Получаем датасет Ирис с [UCI](https://archive.ics.uci.edu/ml/machine-learning-databases/iris/iris.data) по url запросу.\n",
        "\n",
        "P.S. наверное, можно было загрузить локально и подгрузить, или с `scikit-learn`-а достать, но в указании к задачи лежал url и сказано не `скачать`, как в прошлом задании а `получить`, поэтому подумала что нужно так сделать."
      ]
    },
    {
      "cell_type": "markdown",
      "metadata": {
        "id": "QQHD0ba-II7J"
      },
      "source": [
        "Подключаем google drive в корне"
      ]
    },
    {
      "cell_type": "markdown",
      "metadata": {},
      "source": [
        "####  Тут часть ячеек, которая была написана в google colab, в виде текста, после них идут ячейки подготовки данных из vs code, т.к. библиотека google.colab недоступна  "
      ]
    },
    {
      "cell_type": "code",
      "execution_count": 1,
      "metadata": {},
      "outputs": [],
      "source": [
        "# Эти ячейки ниже закомментированы, т.к. работу выполняла в google colab,\n",
        "# а это дубликат того ноутбука, для того чтобы отправить PR. \n",
        "\n",
        "# Для того чтобы код был корректен и vs code, выполнял (и не выдавал ошибок об отсутствии drive),\n",
        "# после них загружу файл локально.\n"
      ]
    },
    {
      "cell_type": "code",
      "execution_count": 2,
      "metadata": {
        "colab": {
          "base_uri": "https://localhost:8080/"
        },
        "id": "VCs-SszvAwQV",
        "outputId": "bf8931ee-b226-42ed-9723-6b556592d121"
      },
      "outputs": [],
      "source": [
        "# from google.colab import drive\n",
        "# drive.mount('/content/drive')"
      ]
    },
    {
      "cell_type": "code",
      "execution_count": 3,
      "metadata": {
        "colab": {
          "base_uri": "https://localhost:8080/"
        },
        "id": "JC6j7wMXENCj",
        "outputId": "473072f3-726d-46e6-95e7-e2c3da58f4b5"
      },
      "outputs": [],
      "source": [
        "# !ls # Check"
      ]
    },
    {
      "cell_type": "markdown",
      "metadata": {
        "id": "YNd0oj-HH9Hv"
      },
      "source": [
        "Получаем файл с данными по url"
      ]
    },
    {
      "cell_type": "code",
      "execution_count": 4,
      "metadata": {
        "colab": {
          "base_uri": "https://localhost:8080/"
        },
        "id": "hWsakj7_XMtK",
        "outputId": "e643e80c-721c-473c-d1e8-828dbe0891ef"
      },
      "outputs": [],
      "source": [
        "# import urllib.request\n",
        "\n",
        "# # URL to download the data\n",
        "# url = \"https://archive.ics.uci.edu/ml/machine-learning-databases/iris/iris.data\"\n",
        "# # (IrisDataset dir already exists)\n",
        "# file_path = \"/content/drive/MyDrive/spbu-python-course/task#8/iris_dataset/iris.data\"  # Local file name\n",
        "\n",
        "# # Download and save the file\n",
        "# urllib.request.urlretrieve(url, file_path)\n",
        "\n",
        "# print(f\"The file was downloaded and saved as {file_path}\")"
      ]
    },
    {
      "cell_type": "markdown",
      "metadata": {},
      "source": [
        "#### Тут же локально загружаю файлы чтобы vs code не выдавал ошибку по отсутстующего `import google.colab import drive`"
      ]
    },
    {
      "cell_type": "code",
      "execution_count": 5,
      "metadata": {},
      "outputs": [
        {
          "name": "stdout",
          "output_type": "stream",
          "text": [
            "iris_dataset  numpy.ipynb\n"
          ]
        }
      ],
      "source": [
        "!ls # Сheck where I am now"
      ]
    },
    {
      "cell_type": "code",
      "execution_count": 6,
      "metadata": {},
      "outputs": [],
      "source": [
        "file_path = \"iris_dataset//iris.data\""
      ]
    },
    {
      "cell_type": "markdown",
      "metadata": {
        "id": "DoJPmR7lIC6_"
      },
      "source": [
        "### Загружаем данные из файла"
      ]
    },
    {
      "cell_type": "code",
      "execution_count": 7,
      "metadata": {
        "id": "_ymlVrIoIaTn"
      },
      "outputs": [],
      "source": [
        "import numpy as np\n",
        "\n",
        "try:\n",
        "  # Download data as ndarray\n",
        "  data = np.genfromtxt(file_path, delimiter=\",\", dtype=str)\n",
        "except Exception:\n",
        "  print(f\"Something went wrong while downloading the data file:{Exception}\")"
      ]
    },
    {
      "cell_type": "markdown",
      "metadata": {
        "id": "Eb5bCyoXNU8_"
      },
      "source": [
        "Проверим загрузку и посмотрим на струкутру файла"
      ]
    },
    {
      "cell_type": "code",
      "execution_count": 8,
      "metadata": {
        "colab": {
          "base_uri": "https://localhost:8080/"
        },
        "id": "576EF-6rLsFv",
        "outputId": "0ed02c22-3b73-44d8-e227-87832457ddf5"
      },
      "outputs": [
        {
          "name": "stdout",
          "output_type": "stream",
          "text": [
            "Data type: <class 'numpy.ndarray'>\n",
            "Data shape: (150, 5)\n",
            "First 5 rows of data: \n",
            "[['5.1' '3.5' '1.4' '0.2' 'Iris-setosa']\n",
            " ['4.9' '3.0' '1.4' '0.2' 'Iris-setosa']\n",
            " ['4.7' '3.2' '1.3' '0.2' 'Iris-setosa']\n",
            " ['4.6' '3.1' '1.5' '0.2' 'Iris-setosa']\n",
            " ['5.0' '3.6' '1.4' '0.2' 'Iris-setosa']]\n"
          ]
        }
      ],
      "source": [
        "print(f\"Data type: {type(data)}\")\n",
        "print(f\"Data shape: {data.shape}\")\n",
        "print(f\"First 5 rows of data: \\n{data[:5]}\")"
      ]
    },
    {
      "cell_type": "markdown",
      "metadata": {
        "id": "x4PCip1pHuSH"
      },
      "source": [
        " ## $\\blacksquare$ Представить датасет одномерный/двумерный массивы (признаки поместить в матрицу `(n, 4)`, названия самого ириса --- вектор размера `n`). Отобразите сколько места он занимает."
      ]
    },
    {
      "cell_type": "markdown",
      "metadata": {
        "id": "M_1XY8kSRVIM"
      },
      "source": [
        "### Разделяем данные на признаки и метки с названиями Ирисов. Проверка размерностей"
      ]
    },
    {
      "cell_type": "code",
      "execution_count": 9,
      "metadata": {
        "colab": {
          "base_uri": "https://localhost:8080/"
        },
        "id": "OLUU1uuJRi56",
        "outputId": "6159dab5-2eef-4bc6-c1ea-ba9f58d2dcb6"
      },
      "outputs": [
        {
          "name": "stdout",
          "output_type": "stream",
          "text": [
            "The features matrix :\n",
            " [[5.1 3.5 1.4 0.2]\n",
            " [4.9 3.  1.4 0.2]] \n",
            "...\n",
            " [[6.2 3.4 5.4 2.3]\n",
            " [5.9 3.  5.1 1.8]]\n",
            "Dimension: (150, 4)\n",
            "\n",
            "The labels_str vector :\n",
            " ['Iris-setosa' 'Iris-setosa'] ... ['Iris-virginica' 'Iris-virginica']\n",
            "Dimension: (150,)\n"
          ]
        }
      ],
      "source": [
        "try:\n",
        "  # Divide data into features (first 4 cols) and labels (last col)\n",
        "  features = data[:, :4].astype(float)  # Convert to float for numerical operations\n",
        "  labels_str = data[:, 4].astype(str)  # Leave labels_str as strings\n",
        "except Exception:\n",
        "  print(f\"Something went wrong while dividing the data :{Exception}\")\n",
        "\n",
        "print(\"The features matrix :\\n\", features[:2],\"\\n...\\n\", features[data.shape[0]-2:data.shape[0]])\n",
        "print(f\"Dimension: {features.shape}\\n\")\n",
        "print(\"The labels_str vector :\\n\", labels_str[:2], \"...\", labels_str[data.shape[0]-2:data.shape[0]])\n",
        "print(f\"Dimension: {labels_str.shape}\")"
      ]
    },
    {
      "cell_type": "markdown",
      "metadata": {
        "id": "vSqSMz-qdsOO"
      },
      "source": [
        "Видно, что размерности корректны (`(150, 4)` и `(150,)` (у нас `n`=150))"
      ]
    },
    {
      "cell_type": "code",
      "execution_count": 10,
      "metadata": {
        "colab": {
          "base_uri": "https://localhost:8080/"
        },
        "id": "fn7dp_BPeqPa",
        "outputId": "f12b06e7-2d9b-4329-bf1c-fd779235064e"
      },
      "outputs": [
        {
          "name": "stdout",
          "output_type": "stream",
          "text": [
            "The size of the label vector (labels_str): (150,), takes 9000 bytes\n"
          ]
        }
      ],
      "source": [
        "# Check number of bytes with str labels\n",
        "print(f\"The size of the label vector (labels_str): {labels_str.shape}, takes {labels_str.nbytes} bytes\")"
      ]
    },
    {
      "cell_type": "markdown",
      "metadata": {
        "id": "q91TKNA4Vuk9"
      },
      "source": [
        "Преобразуем метки в целочисленный тип `int` для дальнейшего удобства (и экономии памяти)"
      ]
    },
    {
      "cell_type": "code",
      "execution_count": 11,
      "metadata": {
        "colab": {
          "base_uri": "https://localhost:8080/"
        },
        "id": "XjdsZa9hSXu4",
        "outputId": "ac99c72b-0bc0-4f0c-e724-c681578ed72d"
      },
      "outputs": [
        {
          "name": "stdout",
          "output_type": "stream",
          "text": [
            "First 5 labels : [0 0 0 0 0], elements type: <class 'numpy.int64'>,\n",
            "\n",
            "labels type: <class 'numpy.ndarray'>,\n",
            "labels shape: (150,)\n"
          ]
        }
      ],
      "source": [
        "unique_labels, labels = np.unique(labels_str, return_inverse=True)\n",
        "\n",
        "print(f\"First 5 labels : {labels[:5]}, elements type: {type(labels[1])},\\n\")\n",
        "print(f\"labels type: {type(labels)},\\nlabels shape: {labels.shape}\")"
      ]
    },
    {
      "cell_type": "markdown",
      "metadata": {
        "id": "KR2lwZVkWLf0"
      },
      "source": [
        "### Сколько места они занимают:"
      ]
    },
    {
      "cell_type": "markdown",
      "metadata": {
        "id": "rCaYgNEocOdr"
      },
      "source": [
        "С помощью `nbytes` определим размер в байтах и вновь проверим размерности разделенных массивов"
      ]
    },
    {
      "cell_type": "code",
      "execution_count": 12,
      "metadata": {
        "colab": {
          "base_uri": "https://localhost:8080/"
        },
        "id": "iC9fVwBcbj8n",
        "outputId": "87d9a68e-ded8-4167-e117-549d48c532ec"
      },
      "outputs": [
        {
          "name": "stdout",
          "output_type": "stream",
          "text": [
            "The size of the feature matrix (features): (150, 4), takes 4800 bytes\n",
            "The size of the label vector (labels): (150,), takes 1200 bytes\n"
          ]
        }
      ],
      "source": [
        "print(f\"The size of the feature matrix (features): {features.shape}, takes {features.nbytes} bytes\")\n",
        "print(f\"The size of the label vector (labels): {labels.shape}, takes {labels.nbytes} bytes\")"
      ]
    },
    {
      "cell_type": "markdown",
      "metadata": {
        "id": "ScvdYdOOdx7j"
      },
      "source": [
        "Как видно из вывода выше, размерности матрицы признаков и названий `(150, 4)` и `(150,)` что корректно (у нас `n`=150),\n",
        "\n",
        "а также, что они занимают **4800** и **1200** байтов соответственно"
      ]
    },
    {
      "cell_type": "markdown",
      "metadata": {
        "id": "geDb844mdgGb"
      },
      "source": [
        " ## $\\blacksquare$ Нормализуйте данные на промежуток от 0 до 1 для каждой колонки"
      ]
    },
    {
      "cell_type": "markdown",
      "metadata": {
        "id": "-cb5SqLQdpJw"
      },
      "source": [
        "Теперь нормализуем данные в `features` на интервал от 0 до 1 для каждого столбца (признака):"
      ]
    },
    {
      "cell_type": "code",
      "execution_count": 13,
      "metadata": {
        "colab": {
          "base_uri": "https://localhost:8080/"
        },
        "id": "tWdxFsZNdofr",
        "outputId": "aea28646-47b0-41d3-a628-47fa2013d584"
      },
      "outputs": [
        {
          "data": {
            "text/plain": [
              "array([[0.22222222, 0.625     , 0.06779661, 0.04166667],\n",
              "       [0.16666667, 0.41666667, 0.06779661, 0.04166667],\n",
              "       [0.11111111, 0.5       , 0.05084746, 0.04166667],\n",
              "       [0.08333333, 0.45833333, 0.08474576, 0.04166667]])"
            ]
          },
          "execution_count": 13,
          "metadata": {},
          "output_type": "execute_result"
        }
      ],
      "source": [
        "features_min = features.min(axis=0) # 0 is vertical axis (cols)\n",
        "features_max = features.max(axis=0)\n",
        "\n",
        "features_normalized = (features - features_min)/(features_max - features_min) # values in [0;1]\n",
        "features_normalized[:4]"
      ]
    },
    {
      "cell_type": "markdown",
      "metadata": {
        "id": "iWI_pEwelrpV"
      },
      "source": [
        "Нормализованные данные о признаках: `features_normalized`"
      ]
    },
    {
      "cell_type": "markdown",
      "metadata": {
        "id": "2wX5X5Jeliw6"
      },
      "source": [
        "## $\\blacksquare$ Представьте один из признаков в виде категориальной переменной и разделите её на три типа используя квантили:\n",
        "    - < 0.25 --- small\n",
        "    - 0.25-0.75 --- medium\n",
        "    - > 0.75 --- big"
      ]
    },
    {
      "cell_type": "markdown",
      "metadata": {
        "id": "wlt-HxZCmamc"
      },
      "source": [
        "Представим предпоследний (из 3 колонки, который интерпретируется как длина лепестка в др. источниках) признак как категориальный с соответственными категориями по разбиеню с данными квантилями"
      ]
    },
    {
      "cell_type": "code",
      "execution_count": 14,
      "metadata": {
        "colab": {
          "base_uri": "https://localhost:8080/"
        },
        "id": "tLcgU_SSmbC7",
        "outputId": "3395c901-1d17-4e7e-f303-ec62c8d5a95a"
      },
      "outputs": [
        {
          "name": "stdout",
          "output_type": "stream",
          "text": [
            "Third feature categories:\n",
            " ['small' 'small' 'small' 'small' 'small'] ...['big' 'medium' 'big' 'big' 'medium']\n"
          ]
        }
      ],
      "source": [
        "# Choose feature for categorisation (third)\n",
        "third_feature = features_normalized[:, 2]\n",
        "\n",
        "# Create empty nparray for future categories\n",
        "categories_3 = np.empty_like(third_feature, dtype = object)\n",
        "\n",
        "# Define quantiles\n",
        "q25 = np.quantile(third_feature, 0.25)\n",
        "q75 = np.quantile(third_feature, 0.75)\n",
        "\n",
        "# Add values by its category\n",
        "categories_3[third_feature < q25] = 'small'\n",
        "categories_3[(third_feature >= q25) & (third_feature <= q75)] = 'medium'\n",
        "categories_3[third_feature > q75] = 'big'\n",
        "\n",
        "print(f\"Third feature categories:\\n {categories_3[:5]} ...{categories_3[145:categories_3.shape[0]]}\")"
      ]
    },
    {
      "cell_type": "markdown",
      "metadata": {
        "id": "am7TZg89upXq"
      },
      "source": [
        "Таким образом, разделили на категории третий столбец"
      ]
    },
    {
      "cell_type": "markdown",
      "metadata": {
        "id": "MkU3cXstui8V"
      },
      "source": [
        " ## $\\blacksquare$ Разделите датасет на две случайные выборки (0.8 / 0.2)"
      ]
    },
    {
      "cell_type": "markdown",
      "metadata": {
        "id": "7HIa2_Mvuzyb"
      },
      "source": [
        "Разделим данные на две случайные выборки для обучения и тестирования по 80% и 20% соответственно.\n",
        "\n",
        "Применим обозначения (`X` - признаки,`Y`- метки) и установим состояние сида равное `42` как общепринято"
      ]
    },
    {
      "cell_type": "code",
      "execution_count": 15,
      "metadata": {
        "colab": {
          "base_uri": "https://localhost:8080/"
        },
        "id": "bOgOHUgPuzi-",
        "outputId": "abe27f46-ba25-43a8-eacc-b09e3af6fe35"
      },
      "outputs": [
        {
          "name": "stdout",
          "output_type": "stream",
          "text": [
            "The size of the training sample (X_train): (120, 4)\n",
            "The size of the test sample (X_test): (30, 4)\n"
          ]
        }
      ],
      "source": [
        "X = features_normalized\n",
        "y = labels\n",
        "\n",
        "# Fixing a random seed for reproducibility\n",
        "np.random.seed(42)\n",
        "\n",
        "# Shuffle the indexes and define the boundary for the training and test samples\n",
        "indices = np.random.permutation(X.shape[0])\n",
        "train_size = int(0.8 * X.shape[0])\n",
        "\n",
        "# Separation into training and test samples using X and Y\n",
        "X_train = X[indices[:train_size]] # First 80%\n",
        "y_train = y[indices[:train_size]]\n",
        "X_test = X[indices[train_size:]] # Rest 20%\n",
        "y_test = y[indices[train_size:]]\n",
        "\n",
        "print(\"The size of the training sample (X_train):\", X_train.shape)\n",
        "print(\"The size of the test sample (X_test):\", X_test.shape)"
      ]
    },
    {
      "cell_type": "markdown",
      "metadata": {
        "id": "gudAdU0i9IVC"
      },
      "source": [
        "# $\\circ$ Выполняется с помощью пакетов sklearn и numpy"
      ]
    },
    {
      "cell_type": "markdown",
      "metadata": {
        "id": "ouIzee9M9UHv"
      },
      "source": [
        " ## $\\blacksquare$ Выберите один из [методов классификации](https://scikit-learn.org/stable/supervised_learning.html) \\(к примеру, [SVC](https://scikit-learn.org/stable/modules/svm.html)), обучите на тренировочном датасете, оцените результат на тестовом и сделайте выводы"
      ]
    },
    {
      "cell_type": "markdown",
      "metadata": {
        "id": "Vkz4jLrn9xMS"
      },
      "source": [
        "Выбрала стандартный метод классификации SVC"
      ]
    },
    {
      "cell_type": "code",
      "execution_count": 16,
      "metadata": {
        "id": "JUzlN3CFGqtG"
      },
      "outputs": [],
      "source": [
        "from sklearn.svm import SVC\n",
        "from sklearn.metrics import accuracy_score"
      ]
    },
    {
      "cell_type": "code",
      "execution_count": 17,
      "metadata": {
        "id": "sq9WtW-kGxdp"
      },
      "outputs": [],
      "source": [
        "# Creating the default SVC model\n",
        "model = SVC()"
      ]
    },
    {
      "cell_type": "markdown",
      "metadata": {
        "id": "0serQb43HtUU"
      },
      "source": [
        "Обучаем модель на обучающей выборке"
      ]
    },
    {
      "cell_type": "code",
      "execution_count": 18,
      "metadata": {
        "colab": {
          "base_uri": "https://localhost:8080/",
          "height": 80
        },
        "id": "-TO5rktgG16s",
        "outputId": "b685bd41-dc73-4e13-e326-48bbdac52336"
      },
      "outputs": [
        {
          "data": {
            "text/html": [
              "<style>#sk-container-id-1 {\n",
              "  /* Definition of color scheme common for light and dark mode */\n",
              "  --sklearn-color-text: black;\n",
              "  --sklearn-color-line: gray;\n",
              "  /* Definition of color scheme for unfitted estimators */\n",
              "  --sklearn-color-unfitted-level-0: #fff5e6;\n",
              "  --sklearn-color-unfitted-level-1: #f6e4d2;\n",
              "  --sklearn-color-unfitted-level-2: #ffe0b3;\n",
              "  --sklearn-color-unfitted-level-3: chocolate;\n",
              "  /* Definition of color scheme for fitted estimators */\n",
              "  --sklearn-color-fitted-level-0: #f0f8ff;\n",
              "  --sklearn-color-fitted-level-1: #d4ebff;\n",
              "  --sklearn-color-fitted-level-2: #b3dbfd;\n",
              "  --sklearn-color-fitted-level-3: cornflowerblue;\n",
              "\n",
              "  /* Specific color for light theme */\n",
              "  --sklearn-color-text-on-default-background: var(--sg-text-color, var(--theme-code-foreground, var(--jp-content-font-color1, black)));\n",
              "  --sklearn-color-background: var(--sg-background-color, var(--theme-background, var(--jp-layout-color0, white)));\n",
              "  --sklearn-color-border-box: var(--sg-text-color, var(--theme-code-foreground, var(--jp-content-font-color1, black)));\n",
              "  --sklearn-color-icon: #696969;\n",
              "\n",
              "  @media (prefers-color-scheme: dark) {\n",
              "    /* Redefinition of color scheme for dark theme */\n",
              "    --sklearn-color-text-on-default-background: var(--sg-text-color, var(--theme-code-foreground, var(--jp-content-font-color1, white)));\n",
              "    --sklearn-color-background: var(--sg-background-color, var(--theme-background, var(--jp-layout-color0, #111)));\n",
              "    --sklearn-color-border-box: var(--sg-text-color, var(--theme-code-foreground, var(--jp-content-font-color1, white)));\n",
              "    --sklearn-color-icon: #878787;\n",
              "  }\n",
              "}\n",
              "\n",
              "#sk-container-id-1 {\n",
              "  color: var(--sklearn-color-text);\n",
              "}\n",
              "\n",
              "#sk-container-id-1 pre {\n",
              "  padding: 0;\n",
              "}\n",
              "\n",
              "#sk-container-id-1 input.sk-hidden--visually {\n",
              "  border: 0;\n",
              "  clip: rect(1px 1px 1px 1px);\n",
              "  clip: rect(1px, 1px, 1px, 1px);\n",
              "  height: 1px;\n",
              "  margin: -1px;\n",
              "  overflow: hidden;\n",
              "  padding: 0;\n",
              "  position: absolute;\n",
              "  width: 1px;\n",
              "}\n",
              "\n",
              "#sk-container-id-1 div.sk-dashed-wrapped {\n",
              "  border: 1px dashed var(--sklearn-color-line);\n",
              "  margin: 0 0.4em 0.5em 0.4em;\n",
              "  box-sizing: border-box;\n",
              "  padding-bottom: 0.4em;\n",
              "  background-color: var(--sklearn-color-background);\n",
              "}\n",
              "\n",
              "#sk-container-id-1 div.sk-container {\n",
              "  /* jupyter's `normalize.less` sets `[hidden] { display: none; }`\n",
              "     but bootstrap.min.css set `[hidden] { display: none !important; }`\n",
              "     so we also need the `!important` here to be able to override the\n",
              "     default hidden behavior on the sphinx rendered scikit-learn.org.\n",
              "     See: https://github.com/scikit-learn/scikit-learn/issues/21755 */\n",
              "  display: inline-block !important;\n",
              "  position: relative;\n",
              "}\n",
              "\n",
              "#sk-container-id-1 div.sk-text-repr-fallback {\n",
              "  display: none;\n",
              "}\n",
              "\n",
              "div.sk-parallel-item,\n",
              "div.sk-serial,\n",
              "div.sk-item {\n",
              "  /* draw centered vertical line to link estimators */\n",
              "  background-image: linear-gradient(var(--sklearn-color-text-on-default-background), var(--sklearn-color-text-on-default-background));\n",
              "  background-size: 2px 100%;\n",
              "  background-repeat: no-repeat;\n",
              "  background-position: center center;\n",
              "}\n",
              "\n",
              "/* Parallel-specific style estimator block */\n",
              "\n",
              "#sk-container-id-1 div.sk-parallel-item::after {\n",
              "  content: \"\";\n",
              "  width: 100%;\n",
              "  border-bottom: 2px solid var(--sklearn-color-text-on-default-background);\n",
              "  flex-grow: 1;\n",
              "}\n",
              "\n",
              "#sk-container-id-1 div.sk-parallel {\n",
              "  display: flex;\n",
              "  align-items: stretch;\n",
              "  justify-content: center;\n",
              "  background-color: var(--sklearn-color-background);\n",
              "  position: relative;\n",
              "}\n",
              "\n",
              "#sk-container-id-1 div.sk-parallel-item {\n",
              "  display: flex;\n",
              "  flex-direction: column;\n",
              "}\n",
              "\n",
              "#sk-container-id-1 div.sk-parallel-item:first-child::after {\n",
              "  align-self: flex-end;\n",
              "  width: 50%;\n",
              "}\n",
              "\n",
              "#sk-container-id-1 div.sk-parallel-item:last-child::after {\n",
              "  align-self: flex-start;\n",
              "  width: 50%;\n",
              "}\n",
              "\n",
              "#sk-container-id-1 div.sk-parallel-item:only-child::after {\n",
              "  width: 0;\n",
              "}\n",
              "\n",
              "/* Serial-specific style estimator block */\n",
              "\n",
              "#sk-container-id-1 div.sk-serial {\n",
              "  display: flex;\n",
              "  flex-direction: column;\n",
              "  align-items: center;\n",
              "  background-color: var(--sklearn-color-background);\n",
              "  padding-right: 1em;\n",
              "  padding-left: 1em;\n",
              "}\n",
              "\n",
              "\n",
              "/* Toggleable style: style used for estimator/Pipeline/ColumnTransformer box that is\n",
              "clickable and can be expanded/collapsed.\n",
              "- Pipeline and ColumnTransformer use this feature and define the default style\n",
              "- Estimators will overwrite some part of the style using the `sk-estimator` class\n",
              "*/\n",
              "\n",
              "/* Pipeline and ColumnTransformer style (default) */\n",
              "\n",
              "#sk-container-id-1 div.sk-toggleable {\n",
              "  /* Default theme specific background. It is overwritten whether we have a\n",
              "  specific estimator or a Pipeline/ColumnTransformer */\n",
              "  background-color: var(--sklearn-color-background);\n",
              "}\n",
              "\n",
              "/* Toggleable label */\n",
              "#sk-container-id-1 label.sk-toggleable__label {\n",
              "  cursor: pointer;\n",
              "  display: block;\n",
              "  width: 100%;\n",
              "  margin-bottom: 0;\n",
              "  padding: 0.5em;\n",
              "  box-sizing: border-box;\n",
              "  text-align: center;\n",
              "}\n",
              "\n",
              "#sk-container-id-1 label.sk-toggleable__label-arrow:before {\n",
              "  /* Arrow on the left of the label */\n",
              "  content: \"▸\";\n",
              "  float: left;\n",
              "  margin-right: 0.25em;\n",
              "  color: var(--sklearn-color-icon);\n",
              "}\n",
              "\n",
              "#sk-container-id-1 label.sk-toggleable__label-arrow:hover:before {\n",
              "  color: var(--sklearn-color-text);\n",
              "}\n",
              "\n",
              "/* Toggleable content - dropdown */\n",
              "\n",
              "#sk-container-id-1 div.sk-toggleable__content {\n",
              "  max-height: 0;\n",
              "  max-width: 0;\n",
              "  overflow: hidden;\n",
              "  text-align: left;\n",
              "  /* unfitted */\n",
              "  background-color: var(--sklearn-color-unfitted-level-0);\n",
              "}\n",
              "\n",
              "#sk-container-id-1 div.sk-toggleable__content.fitted {\n",
              "  /* fitted */\n",
              "  background-color: var(--sklearn-color-fitted-level-0);\n",
              "}\n",
              "\n",
              "#sk-container-id-1 div.sk-toggleable__content pre {\n",
              "  margin: 0.2em;\n",
              "  border-radius: 0.25em;\n",
              "  color: var(--sklearn-color-text);\n",
              "  /* unfitted */\n",
              "  background-color: var(--sklearn-color-unfitted-level-0);\n",
              "}\n",
              "\n",
              "#sk-container-id-1 div.sk-toggleable__content.fitted pre {\n",
              "  /* unfitted */\n",
              "  background-color: var(--sklearn-color-fitted-level-0);\n",
              "}\n",
              "\n",
              "#sk-container-id-1 input.sk-toggleable__control:checked~div.sk-toggleable__content {\n",
              "  /* Expand drop-down */\n",
              "  max-height: 200px;\n",
              "  max-width: 100%;\n",
              "  overflow: auto;\n",
              "}\n",
              "\n",
              "#sk-container-id-1 input.sk-toggleable__control:checked~label.sk-toggleable__label-arrow:before {\n",
              "  content: \"▾\";\n",
              "}\n",
              "\n",
              "/* Pipeline/ColumnTransformer-specific style */\n",
              "\n",
              "#sk-container-id-1 div.sk-label input.sk-toggleable__control:checked~label.sk-toggleable__label {\n",
              "  color: var(--sklearn-color-text);\n",
              "  background-color: var(--sklearn-color-unfitted-level-2);\n",
              "}\n",
              "\n",
              "#sk-container-id-1 div.sk-label.fitted input.sk-toggleable__control:checked~label.sk-toggleable__label {\n",
              "  background-color: var(--sklearn-color-fitted-level-2);\n",
              "}\n",
              "\n",
              "/* Estimator-specific style */\n",
              "\n",
              "/* Colorize estimator box */\n",
              "#sk-container-id-1 div.sk-estimator input.sk-toggleable__control:checked~label.sk-toggleable__label {\n",
              "  /* unfitted */\n",
              "  background-color: var(--sklearn-color-unfitted-level-2);\n",
              "}\n",
              "\n",
              "#sk-container-id-1 div.sk-estimator.fitted input.sk-toggleable__control:checked~label.sk-toggleable__label {\n",
              "  /* fitted */\n",
              "  background-color: var(--sklearn-color-fitted-level-2);\n",
              "}\n",
              "\n",
              "#sk-container-id-1 div.sk-label label.sk-toggleable__label,\n",
              "#sk-container-id-1 div.sk-label label {\n",
              "  /* The background is the default theme color */\n",
              "  color: var(--sklearn-color-text-on-default-background);\n",
              "}\n",
              "\n",
              "/* On hover, darken the color of the background */\n",
              "#sk-container-id-1 div.sk-label:hover label.sk-toggleable__label {\n",
              "  color: var(--sklearn-color-text);\n",
              "  background-color: var(--sklearn-color-unfitted-level-2);\n",
              "}\n",
              "\n",
              "/* Label box, darken color on hover, fitted */\n",
              "#sk-container-id-1 div.sk-label.fitted:hover label.sk-toggleable__label.fitted {\n",
              "  color: var(--sklearn-color-text);\n",
              "  background-color: var(--sklearn-color-fitted-level-2);\n",
              "}\n",
              "\n",
              "/* Estimator label */\n",
              "\n",
              "#sk-container-id-1 div.sk-label label {\n",
              "  font-family: monospace;\n",
              "  font-weight: bold;\n",
              "  display: inline-block;\n",
              "  line-height: 1.2em;\n",
              "}\n",
              "\n",
              "#sk-container-id-1 div.sk-label-container {\n",
              "  text-align: center;\n",
              "}\n",
              "\n",
              "/* Estimator-specific */\n",
              "#sk-container-id-1 div.sk-estimator {\n",
              "  font-family: monospace;\n",
              "  border: 1px dotted var(--sklearn-color-border-box);\n",
              "  border-radius: 0.25em;\n",
              "  box-sizing: border-box;\n",
              "  margin-bottom: 0.5em;\n",
              "  /* unfitted */\n",
              "  background-color: var(--sklearn-color-unfitted-level-0);\n",
              "}\n",
              "\n",
              "#sk-container-id-1 div.sk-estimator.fitted {\n",
              "  /* fitted */\n",
              "  background-color: var(--sklearn-color-fitted-level-0);\n",
              "}\n",
              "\n",
              "/* on hover */\n",
              "#sk-container-id-1 div.sk-estimator:hover {\n",
              "  /* unfitted */\n",
              "  background-color: var(--sklearn-color-unfitted-level-2);\n",
              "}\n",
              "\n",
              "#sk-container-id-1 div.sk-estimator.fitted:hover {\n",
              "  /* fitted */\n",
              "  background-color: var(--sklearn-color-fitted-level-2);\n",
              "}\n",
              "\n",
              "/* Specification for estimator info (e.g. \"i\" and \"?\") */\n",
              "\n",
              "/* Common style for \"i\" and \"?\" */\n",
              "\n",
              ".sk-estimator-doc-link,\n",
              "a:link.sk-estimator-doc-link,\n",
              "a:visited.sk-estimator-doc-link {\n",
              "  float: right;\n",
              "  font-size: smaller;\n",
              "  line-height: 1em;\n",
              "  font-family: monospace;\n",
              "  background-color: var(--sklearn-color-background);\n",
              "  border-radius: 1em;\n",
              "  height: 1em;\n",
              "  width: 1em;\n",
              "  text-decoration: none !important;\n",
              "  margin-left: 1ex;\n",
              "  /* unfitted */\n",
              "  border: var(--sklearn-color-unfitted-level-1) 1pt solid;\n",
              "  color: var(--sklearn-color-unfitted-level-1);\n",
              "}\n",
              "\n",
              ".sk-estimator-doc-link.fitted,\n",
              "a:link.sk-estimator-doc-link.fitted,\n",
              "a:visited.sk-estimator-doc-link.fitted {\n",
              "  /* fitted */\n",
              "  border: var(--sklearn-color-fitted-level-1) 1pt solid;\n",
              "  color: var(--sklearn-color-fitted-level-1);\n",
              "}\n",
              "\n",
              "/* On hover */\n",
              "div.sk-estimator:hover .sk-estimator-doc-link:hover,\n",
              ".sk-estimator-doc-link:hover,\n",
              "div.sk-label-container:hover .sk-estimator-doc-link:hover,\n",
              ".sk-estimator-doc-link:hover {\n",
              "  /* unfitted */\n",
              "  background-color: var(--sklearn-color-unfitted-level-3);\n",
              "  color: var(--sklearn-color-background);\n",
              "  text-decoration: none;\n",
              "}\n",
              "\n",
              "div.sk-estimator.fitted:hover .sk-estimator-doc-link.fitted:hover,\n",
              ".sk-estimator-doc-link.fitted:hover,\n",
              "div.sk-label-container:hover .sk-estimator-doc-link.fitted:hover,\n",
              ".sk-estimator-doc-link.fitted:hover {\n",
              "  /* fitted */\n",
              "  background-color: var(--sklearn-color-fitted-level-3);\n",
              "  color: var(--sklearn-color-background);\n",
              "  text-decoration: none;\n",
              "}\n",
              "\n",
              "/* Span, style for the box shown on hovering the info icon */\n",
              ".sk-estimator-doc-link span {\n",
              "  display: none;\n",
              "  z-index: 9999;\n",
              "  position: relative;\n",
              "  font-weight: normal;\n",
              "  right: .2ex;\n",
              "  padding: .5ex;\n",
              "  margin: .5ex;\n",
              "  width: min-content;\n",
              "  min-width: 20ex;\n",
              "  max-width: 50ex;\n",
              "  color: var(--sklearn-color-text);\n",
              "  box-shadow: 2pt 2pt 4pt #999;\n",
              "  /* unfitted */\n",
              "  background: var(--sklearn-color-unfitted-level-0);\n",
              "  border: .5pt solid var(--sklearn-color-unfitted-level-3);\n",
              "}\n",
              "\n",
              ".sk-estimator-doc-link.fitted span {\n",
              "  /* fitted */\n",
              "  background: var(--sklearn-color-fitted-level-0);\n",
              "  border: var(--sklearn-color-fitted-level-3);\n",
              "}\n",
              "\n",
              ".sk-estimator-doc-link:hover span {\n",
              "  display: block;\n",
              "}\n",
              "\n",
              "/* \"?\"-specific style due to the `<a>` HTML tag */\n",
              "\n",
              "#sk-container-id-1 a.estimator_doc_link {\n",
              "  float: right;\n",
              "  font-size: 1rem;\n",
              "  line-height: 1em;\n",
              "  font-family: monospace;\n",
              "  background-color: var(--sklearn-color-background);\n",
              "  border-radius: 1rem;\n",
              "  height: 1rem;\n",
              "  width: 1rem;\n",
              "  text-decoration: none;\n",
              "  /* unfitted */\n",
              "  color: var(--sklearn-color-unfitted-level-1);\n",
              "  border: var(--sklearn-color-unfitted-level-1) 1pt solid;\n",
              "}\n",
              "\n",
              "#sk-container-id-1 a.estimator_doc_link.fitted {\n",
              "  /* fitted */\n",
              "  border: var(--sklearn-color-fitted-level-1) 1pt solid;\n",
              "  color: var(--sklearn-color-fitted-level-1);\n",
              "}\n",
              "\n",
              "/* On hover */\n",
              "#sk-container-id-1 a.estimator_doc_link:hover {\n",
              "  /* unfitted */\n",
              "  background-color: var(--sklearn-color-unfitted-level-3);\n",
              "  color: var(--sklearn-color-background);\n",
              "  text-decoration: none;\n",
              "}\n",
              "\n",
              "#sk-container-id-1 a.estimator_doc_link.fitted:hover {\n",
              "  /* fitted */\n",
              "  background-color: var(--sklearn-color-fitted-level-3);\n",
              "}\n",
              "</style><div id=\"sk-container-id-1\" class=\"sk-top-container\"><div class=\"sk-text-repr-fallback\"><pre>SVC()</pre><b>In a Jupyter environment, please rerun this cell to show the HTML representation or trust the notebook. <br />On GitHub, the HTML representation is unable to render, please try loading this page with nbviewer.org.</b></div><div class=\"sk-container\" hidden><div class=\"sk-item\"><div class=\"sk-estimator fitted sk-toggleable\"><input class=\"sk-toggleable__control sk-hidden--visually\" id=\"sk-estimator-id-1\" type=\"checkbox\" checked><label for=\"sk-estimator-id-1\" class=\"sk-toggleable__label fitted sk-toggleable__label-arrow fitted\">&nbsp;&nbsp;SVC<a class=\"sk-estimator-doc-link fitted\" rel=\"noreferrer\" target=\"_blank\" href=\"https://scikit-learn.org/1.5/modules/generated/sklearn.svm.SVC.html\">?<span>Documentation for SVC</span></a><span class=\"sk-estimator-doc-link fitted\">i<span>Fitted</span></span></label><div class=\"sk-toggleable__content fitted\"><pre>SVC()</pre></div> </div></div></div></div>"
            ],
            "text/plain": [
              "SVC()"
            ]
          },
          "execution_count": 18,
          "metadata": {},
          "output_type": "execute_result"
        }
      ],
      "source": [
        "# Train model on training data\n",
        "model.fit(X_train, y_train)"
      ]
    },
    {
      "cell_type": "markdown",
      "metadata": {
        "id": "9zKj_mBcHzKR"
      },
      "source": [
        "Оцениваем на тестовой выборке"
      ]
    },
    {
      "cell_type": "code",
      "execution_count": 19,
      "metadata": {
        "id": "0OYxCX2GG5zi"
      },
      "outputs": [],
      "source": [
        "# Making prediction on test sample\n",
        "y_pred = model.predict(X_test)"
      ]
    },
    {
      "cell_type": "code",
      "execution_count": 20,
      "metadata": {
        "colab": {
          "base_uri": "https://localhost:8080/"
        },
        "id": "mjiDyGWRG7y6",
        "outputId": "165b0626-ca90-4cac-ebf9-eadd239d8166"
      },
      "outputs": [
        {
          "name": "stdout",
          "output_type": "stream",
          "text": [
            "Model accuracy based on test data: 0.9666666666666667\n"
          ]
        }
      ],
      "source": [
        "# Calculate and output the accuracy on the test data\n",
        "accuracy = accuracy_score(y_test, y_pred)\n",
        "print(\"Model accuracy based on test data:\", accuracy)"
      ]
    },
    {
      "cell_type": "markdown",
      "metadata": {
        "id": "qA6QUX7cJ8fS"
      },
      "source": [
        "### $\\Rightarrow$ Вывод (стандартный `SVC`)"
      ]
    },
    {
      "cell_type": "markdown",
      "metadata": {
        "id": "Ju4KaIy9H8tz"
      },
      "source": [
        "Исходя из точности в почти 97% можно сделать вывод, что данную модель хорошо обучилась и ее можно использовать.\n",
        "\n",
        "(Также, можно подумать о переобучении модели, но на этом датасете вроде такого не должно происходить в виду простоты как данных, так и модели, но могу ошибаться)"
      ]
    },
    {
      "cell_type": "markdown",
      "metadata": {
        "id": "Ae0PzV5-KG_g"
      },
      "source": [
        "  ## $\\blacksquare$ Проведите три эксперимента изменяя гиперпараметры модели или условия препроцессинга данных (например, нормализованные или нет данные), сделайте выводы"
      ]
    },
    {
      "cell_type": "markdown",
      "metadata": {
        "id": "vG__iNIiK0xY"
      },
      "source": [
        "### Эксперимент 1\n",
        "(Используем измененный гиперпараметр `C` - регуляризационный параметр)"
      ]
    },
    {
      "cell_type": "code",
      "execution_count": 21,
      "metadata": {
        "colab": {
          "base_uri": "https://localhost:8080/"
        },
        "id": "Gp2ud-VI9wtm",
        "outputId": "894b74a2-0e0f-4d6a-b02b-fd3ac6f5f407"
      },
      "outputs": [
        {
          "name": "stdout",
          "output_type": "stream",
          "text": [
            "The accuracy of the model with a high C value (C=10): 1.0\n",
            "The accuracy of the model with a low C value (C=0.1): 0.9666666666666667\n"
          ]
        }
      ],
      "source": [
        "# model with increased C value\n",
        "model_high_C = SVC(C=10.0, random_state=42)\n",
        "model_high_C.fit(X_train, y_train)\n",
        "y_pred_high_C = model_high_C.predict(X_test)\n",
        "accuracy_high_C = accuracy_score(y_test, y_pred_high_C)\n",
        "print(f\"The accuracy of the model with a high C value (C=10): {accuracy_high_C}\")\n",
        "\n",
        "# model with decreased C value\n",
        "model_low_C = SVC(C=0.1, random_state=42)\n",
        "model_low_C.fit(X_train, y_train)\n",
        "y_pred_low_C = model_low_C.predict(X_test)\n",
        "accuracy_low_C = accuracy_score(y_test, y_pred_low_C)\n",
        "print(f\"The accuracy of the model with a low C value (C=0.1): {accuracy_low_C}\")"
      ]
    },
    {
      "cell_type": "markdown",
      "metadata": {
        "id": "Q1fx6y7VQ2nE"
      },
      "source": [
        "### $\\Rightarrow$ Вывод (`C=10` и `C=0.1`)"
      ]
    },
    {
      "cell_type": "markdown",
      "metadata": {
        "id": "2eRKvdC3RcSL"
      },
      "source": [
        "- Высокое значение `C` приводит к более точному (100%), но менее устойчивому результату. Приводит к переобучению.\n",
        "\n",
        "- Низкие (1 и <1) значения `C` помогают модели лучше обобщать и избегать переобучения. (Результаты как в стандартном `SVC`)"
      ]
    },
    {
      "cell_type": "markdown",
      "metadata": {
        "id": "bhlG8Cp5K9pQ"
      },
      "source": [
        "### Эксперимент 2\n",
        "(Используем ядро `poly`, `degree = 3`)"
      ]
    },
    {
      "cell_type": "code",
      "execution_count": 22,
      "metadata": {
        "colab": {
          "base_uri": "https://localhost:8080/"
        },
        "id": "YnFdVu7NLA8q",
        "outputId": "0045d193-6b47-4764-90d9-e6bdaeb54057"
      },
      "outputs": [
        {
          "name": "stdout",
          "output_type": "stream",
          "text": [
            "The accuracy of the polynomial core model (degree=3): 1.0\n"
          ]
        }
      ],
      "source": [
        "model_poly = SVC(kernel='poly', degree=3, random_state=42)\n",
        "model_poly.fit(X_train, y_train)\n",
        "y_pred_poly = model_poly.predict(X_test)\n",
        "accuracy_poly = accuracy_score(y_test, y_pred_poly)\n",
        "print(f\"The accuracy of the polynomial core model (degree=3): {accuracy_poly}\")"
      ]
    },
    {
      "cell_type": "markdown",
      "metadata": {
        "id": "SBzjr1KrP_pA"
      },
      "source": [
        "### $\\Rightarrow$ Вывод (`poly`, `degree=3`)"
      ]
    },
    {
      "cell_type": "markdown",
      "metadata": {
        "id": "4-fz6q1eQQ_j"
      },
      "source": [
        "Полиномиальное ядро со степенью 3 обеспечило 100% точность, что показывает его способность выявлять сложные паттерны. Но, опять же, высокая точность может говорить о риске переобучения."
      ]
    },
    {
      "cell_type": "markdown",
      "metadata": {
        "id": "sIScTTWcK_EV"
      },
      "source": [
        "### Эксперимент 3\n",
        "(Используем `ненормализованные данные`)"
      ]
    },
    {
      "cell_type": "code",
      "execution_count": 23,
      "metadata": {
        "colab": {
          "base_uri": "https://localhost:8080/"
        },
        "id": "RcPDBIXQLBU0",
        "outputId": "8d506026-0ed9-4a15-a8fe-76045611981a"
      },
      "outputs": [
        {
          "name": "stdout",
          "output_type": "stream",
          "text": [
            "The size of the training sample (X_train_no_normalised): (120, 4)\n",
            "The size of the test sample (X_test_no_normalised): (30, 4)\n"
          ]
        }
      ],
      "source": [
        "X = features\n",
        "\n",
        "np.random.seed(42)\n",
        "\n",
        "# Shuffle the indexes and define the boundary for the training and test samples (no normalised)\n",
        "indices = np.random.permutation(X.shape[0])\n",
        "train_size = int(0.8 * X.shape[0])\n",
        "\n",
        "# Separation into training and test samples using X\n",
        "X_train_no_normalised = X[indices[:train_size]] # First 80%\n",
        "X_test_no_normalised = X[indices[train_size:]] # Rest 20%\n",
        "\n",
        "\n",
        "print(\"The size of the training sample (X_train_no_normalised):\", X_train_no_normalised.shape)\n",
        "print(\"The size of the test sample (X_test_no_normalised):\", X_test_no_normalised.shape)"
      ]
    },
    {
      "cell_type": "code",
      "execution_count": 24,
      "metadata": {
        "colab": {
          "base_uri": "https://localhost:8080/"
        },
        "id": "Wbe2yUT11fG-",
        "outputId": "f1d27aa7-d8c4-4336-ac80-a5ce0715c2d4"
      },
      "outputs": [
        {
          "name": "stdout",
          "output_type": "stream",
          "text": [
            "The accuracy of the non-normalised features: 0.9666666666666667\n"
          ]
        }
      ],
      "source": [
        "model_no_normalised = SVC()\n",
        "model_no_normalised.fit(X_train_no_normalised, y_train)\n",
        "y_pred_no_normalised = model_no_normalised.predict(X_test_no_normalised)\n",
        "accuracy_no_normalised = accuracy_score(y_test, y_pred_no_normalised)\n",
        "print(f\"The accuracy of the non-normalised features: {accuracy_no_normalised}\")"
      ]
    },
    {
      "cell_type": "markdown",
      "metadata": {
        "id": "d_G4-zzuS8iG"
      },
      "source": [
        "### $\\Rightarrow$ Вывод (`no_normalised`)"
      ]
    },
    {
      "cell_type": "markdown",
      "metadata": {
        "id": "ZR2qIn3y2hax"
      },
      "source": [
        "Результаты точности для нормализованных и ненормализованных данных оказались одинаковыми (97%). Это говорит о том, что для данного набора данных нормализация не оказала существенного влияния на качество модели. Вероятно это из-за того, что признаки в исходном наборе данных уже находятся в сопоставимом диапазоне значений, что снижает необходимость нормализации.\n",
        "\n",
        "Тем не менее, в большинстве задач нормализация остается полезным шагом, особенно если признаки сильно разнятся по масштабу"
      ]
    },
    {
      "cell_type": "markdown",
      "metadata": {
        "id": "ptxSF1lmKcwK"
      },
      "source": [
        "  ## $\\blacksquare$ Пользуясь методами [уменьшения размерности](https://ru.wikipedia.org/wiki/%D0%A1%D0%BD%D0%B8%D0%B6%D0%B5%D0%BD%D0%B8%D0%B5_%D1%80%D0%B0%D0%B7%D0%BC%D0%B5%D1%80%D0%BD%D0%BE%D1%81%D1%82%D0%B8) ([PCA](https://scikit-learn.org/stable/modules/generated/sklearn.decomposition.PCA.html), [t-sne](https://scikit-learn.org/stable/modules/generated/sklearn.manifold.TSNE.html)) визуализируйте датасет.\n",
        "  Это должен быть scatter plot, где точка это отдельный ирис, ее координаты -- признаки со сжатой выбранной вам размерностью, а цвет -- тип ириса. Нарисуйте этот график дважды, где\n",
        "  \n",
        "    - Тип ириса выбирается из оригинальных данных\n",
        "    - Тип ириса выбирается из предсказанных данных"
      ]
    },
    {
      "cell_type": "code",
      "execution_count": 25,
      "metadata": {
        "id": "18NxadUtUBSK"
      },
      "outputs": [],
      "source": [
        "import matplotlib.pyplot as plt\n",
        "from sklearn.decomposition import PCA\n",
        "from sklearn.manifold import TSNE"
      ]
    },
    {
      "cell_type": "code",
      "execution_count": 26,
      "metadata": {
        "id": "_XuiSwzjOCQ8"
      },
      "outputs": [],
      "source": [
        "# prediction on all data on a model trained by propper data (no_normalized)\n",
        "y_pred_all = model_no_normalised.predict(features)"
      ]
    },
    {
      "cell_type": "code",
      "execution_count": 27,
      "metadata": {
        "colab": {
          "base_uri": "https://localhost:8080/"
        },
        "id": "YYisJc9Md8xx",
        "outputId": "ec5ee34c-ba32-4bba-b280-53e78356a8ff"
      },
      "outputs": [
        {
          "name": "stdout",
          "output_type": "stream",
          "text": [
            "X: [[5.1 3.5 1.4 0.2]\n",
            " [4.9 3.  1.4 0.2]\n",
            " [4.7 3.2 1.3 0.2]\n",
            " [4.6 3.1 1.5 0.2]\n",
            " [5.  3.6 1.4 0.2]]\n",
            "y: [0 0 0 0 0 0 0 0 0 0 1 1 1 1 1 1 1 1 1 1 2 2 2 2 2 2 2 2 2 2]\n",
            "y_pred_all: [0 0 0 0 0 0 0 0 0 0 1 1 1 1 1 1 1 1 1 1 2 2 2 2 2 2 2 2 2 2]\n"
          ]
        }
      ],
      "source": [
        "# Check that\n",
        "# X-all features standard; y - all labels standard(int); y_pred_all - predicted in all x(int)\n",
        "print(\"X:\",X[:5])\n",
        "print(\"y:\",y[::5])\n",
        "print(\"y_pred_all:\",y_pred_all[::5])"
      ]
    },
    {
      "cell_type": "markdown",
      "metadata": {
        "id": "slqg0XhYYYc5"
      },
      "source": [
        "### `PCA`"
      ]
    },
    {
      "cell_type": "code",
      "execution_count": 28,
      "metadata": {
        "id": "oxnvJ1W_UF1d"
      },
      "outputs": [],
      "source": [
        "# use PCA to reduce the dimension\n",
        "pca = PCA(n_components=2, random_state=42)\n",
        "X_pca = pca.fit_transform(X)  # apply PCA to the entire dataset (both training and test data)"
      ]
    },
    {
      "cell_type": "code",
      "execution_count": 29,
      "metadata": {
        "colab": {
          "base_uri": "https://localhost:8080/",
          "height": 487
        },
        "id": "oYj0dId_UKKj",
        "outputId": "ce21b22b-0001-4d37-f894-e945c4cbf552"
      },
      "outputs": [
        {
          "data": {
            "image/png": "[encoded data removed]",
            "text/plain": [
              "<Figure size 1000x500 with 4 Axes>"
            ]
          },
          "metadata": {},
          "output_type": "display_data"
        }
      ],
      "source": [
        "# Visualization with PCA and true labels\n",
        "plt.figure(figsize=(10, 5))\n",
        "plt.subplot(1, 2, 1)\n",
        "plt.scatter(X_pca[:, 0], X_pca[:, 1], c=y)  # Using y (true labels)\n",
        "plt.title('PCA Visualization with True Labels')\n",
        "plt.xlabel('PCA Component 1')\n",
        "plt.ylabel('PCA Component 2')\n",
        "plt.colorbar()\n",
        "\n",
        "# Visualization with PCA and predicted labels\n",
        "plt.subplot(1, 2, 2)\n",
        "plt.scatter(X_pca[:, 0], X_pca[:, 1], c=y_pred_all)  # Using y_pred_all (predicted labels)\n",
        "plt.title('PCA Visualization with Predicted Labels')\n",
        "plt.xlabel('PCA Component 1')\n",
        "plt.ylabel('PCA Component 2')\n",
        "plt.colorbar()\n",
        "plt.show()"
      ]
    },
    {
      "cell_type": "markdown",
      "metadata": {
        "id": "jClPB8lvYLzq"
      },
      "source": [
        "### `t-sne`"
      ]
    },
    {
      "cell_type": "code",
      "execution_count": 30,
      "metadata": {
        "id": "31cR6RDhXLvF"
      },
      "outputs": [],
      "source": [
        "# use t-SNE to reduce the dimension\n",
        "tsne = TSNE(n_components=2, random_state=42)\n",
        "X_tsne = tsne.fit_transform(X)  # Apply t-SNE to the entire dataset (both training and test data)"
      ]
    },
    {
      "cell_type": "code",
      "execution_count": 31,
      "metadata": {
        "colab": {
          "base_uri": "https://localhost:8080/",
          "height": 487
        },
        "id": "aQoFxe_gFMGa",
        "outputId": "712acfa4-abbb-4411-9947-67d37f127f73"
      },
      "outputs": [
        {
          "data": {
            "image/png": "[encoded data removed]",
            "text/plain": [
              "<Figure size 1000x500 with 4 Axes>"
            ]
          },
          "metadata": {},
          "output_type": "display_data"
        }
      ],
      "source": [
        "# Visualization with t-SNE and true labels\n",
        "plt.figure(figsize=(10, 5))\n",
        "plt.subplot(1, 2, 1)\n",
        "plt.scatter(X_tsne[:, 0], X_tsne[:, 1], c=y, marker='s')  # Using y (true labels)\n",
        "plt.title('t-SNE Visualization with True Labels')\n",
        "plt.xlabel('t-SNE Component 1')\n",
        "plt.ylabel('t-SNE Component 2')\n",
        "plt.colorbar()\n",
        "\n",
        "# Visualization with t-SNE and predicted labels\n",
        "plt.subplot(1, 2, 2)\n",
        "plt.scatter(X_tsne[:, 0], X_tsne[:, 1], c=y_pred_all, marker='s')  # Using y_pred_all (predicted labels)\n",
        "plt.title('t-SNE Visualization with Predicted Labels')\n",
        "plt.xlabel('t-SNE Component 1')\n",
        "plt.ylabel('t-SNE Component 2')\n",
        "plt.colorbar()\n",
        "plt.show()"
      ]
    }
  ],
  "metadata": {
    "colab": {
      "provenance": []
    },
    "kernelspec": {
      "display_name": "Python 3",
      "name": "python3"
    },
    "language_info": {
      "codemirror_mode": {
        "name": "ipython",
        "version": 3
      },
      "file_extension": ".py",
      "mimetype": "text/x-python",
      "name": "python",
      "nbconvert_exporter": "python",
      "pygments_lexer": "ipython3",
      "version": "3.11.6"
    }
  },
  "nbformat": 4,
  "nbformat_minor": 0
}
