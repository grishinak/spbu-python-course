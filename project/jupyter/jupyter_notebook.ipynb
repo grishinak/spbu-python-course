{
  "cells": [
    {
      "cell_type": "markdown",
      "metadata": {
        "id": "4Q30BW6UKklX"
      },
      "source": [
        "# Task#7. Jupyter"
      ]
    },
    {
      "cell_type": "markdown",
      "metadata": {
        "id": "tFaousH9JG_n"
      },
      "source": [
        " # Текст задачи\n"
      ]
    },
    {
      "cell_type": "markdown",
      "metadata": {
        "id": "fOUupxilHpFo"
      },
      "source": [
        "**Задача 7. Jupyter**\n",
        "* **Дедлайн**: 14.11.2024, 23:59\n",
        "* Полный балл: 5\n",
        "\n",
        "**Задача**\n",
        "\n",
        "- [ ] Подготовка данных\n",
        "  - Скачать известный датасет **Титаник** (train и test)\n",
        "  - Загрузить их как `pandas.DataFrame`\n",
        "  - Корректно конкатенировать их в один DataFrame по ключу `PassengerID`.\n",
        "  Отсутствующие данные должны быть `Nan`. Все столбцы должны быть корректных типов, в частности, выживание, класс и пол должны быть категориальными\n",
        "- [ ] Анализ таблицы\n",
        "  - Визуализировать базовую статистику таблицы. В каком классе было больше всего пассажиров?\n",
        "  - Группировать таблицу в два уровня: класс и пол, по среднему значению возраста. Кто из возможных комбинаций самый юный, кто самый взрослый? Насколько отличаются эти значения?\n",
        "  - Отобрать только выживших пассажиров с фамилией, начинающейся на “K”. Отсортировать их по убыванию стоимости билета. Кто заплатил больше всех? Кто меньше всех?\n",
        "  - Какое максимальное количество родных было с выжившим пассажиром?\n",
        "  - Посчитайте среднюю стоимость билета пассажиров, для которых указана каюта (Cabin) и для тех, у кого она не указана, во сколько раз они отличаются?\n",
        "- [ ] Визуализация\n",
        "  - Необходимо построить по данным таблицы 10 *различных* графиков на своё усмотрение и фантазию.\n",
        "  Использовать можно любые средства, однако рекомендуется Seaborn и Plotly.\n",
        "  - 5 графиков должно быть интерактивными\n",
        "  - 1 график необходимо сделать 3D\n",
        "  - Среди представленных графиков должны быть\n",
        "    - [ ] Scatter plot\n",
        "    - [ ] Linear plot (with several lines)\n",
        "    - [ ] Histogram\n",
        "    - [ ] Bar chart\n",
        "    - [ ] Horizontal bar chart\n",
        "    - [ ] Pie chart\n",
        "    - [ ] Box chart\n",
        "    - [ ] Sunburst chart\n",
        "- [ ] **(Доп., +2 балла)** Сделать [Sankey Diagram](https://plotly.com/python/sankey-diagram/) в Plotly на данных датасета\n",
        "\n",
        "**Требования по оформлению**\n",
        "\n",
        "- Задания необходимо выполнять в Jupyter Notebook\n",
        "- Результат выполнения необходимо либо внести ссылкой в Readme репозитория (если выполняли в облачном сервисе), либо загрузить готовый Notebook в репозиторий.\n",
        "- Сдача проводится также, путём создания PR с запросом review\n",
        "- Задания должны отделяться заголовками\n",
        "- Ключевые шаги решения необходимо пояснять с помощью Markdown текста\n",
        "- Ответы на вопросы должны быть написаны с помощью Markdown текста"
      ]
    },
    {
      "cell_type": "markdown",
      "metadata": {
        "id": "0Q0UXxdO7S9h"
      },
      "source": [
        "# $\\blacksquare$ Подготовка данных"
      ]
    },
    {
      "cell_type": "markdown",
      "metadata": {
        "id": "cw-QynawBzYy"
      },
      "source": [
        "## $\\circ$ Скачать известный датасет Титаник (train и test)"
      ]
    },
    {
      "cell_type": "markdown",
      "metadata": {
        "id": "JLVPbBrzqmw-"
      },
      "source": [
        "Скачала датасет Титаника (train и test) с [Kaggle](https://www.kaggle.com/competitions/titanic/data)"
      ]
    },
    {
      "cell_type": "markdown",
      "metadata": {
        "id": "l5INbVfaKVZ1"
      },
      "source": [
        "## $\\circ$ Загрузить их как pandas.DataFrame\n",
        "\n"
      ]
    },
    {
      "cell_type": "markdown",
      "metadata": {},
      "source": [
        "####  Тут часть ячеек, которая была написана в google colab, в виде текста, после них идут ячейки подготовки данных из vs code, т.к. библиотека google.colab "
      ]
    },
    {
      "cell_type": "code",
      "execution_count": 1,
      "metadata": {
        "id": "VVJgmLOWKUys"
      },
      "outputs": [],
      "source": [
        "# import os\n",
        "# from google.colab import drive"
      ]
    },
    {
      "cell_type": "code",
      "execution_count": 2,
      "metadata": {
        "id": "Gdtyb5NVUQZ7"
      },
      "outputs": [],
      "source": [
        "# import pandas as pd"
      ]
    },
    {
      "cell_type": "code",
      "execution_count": 3,
      "metadata": {
        "colab": {
          "base_uri": "https://localhost:8080/"
        },
        "id": "5KOOZvGePyMf",
        "outputId": "55254bd3-5ca6-4339-e05e-dc77704106b4"
      },
      "outputs": [],
      "source": [
        "# # Connect Google Drive to the Collab\n",
        "# gdrive_dir = '/content/drive/'\n",
        "\n",
        "# drive.mount(gdrive_dir, force_remount = True)"
      ]
    },
    {
      "cell_type": "code",
      "execution_count": 4,
      "metadata": {},
      "outputs": [],
      "source": [
        "# !ls # Сheck where I am now"
      ]
    },
    {
      "cell_type": "code",
      "execution_count": 5,
      "metadata": {
        "id": "ffcoT2KHYYqR"
      },
      "outputs": [],
      "source": [
        "# # Read data\n",
        "# train_df = pd.read_csv('/content/drive/MyDrive/spbu-python-course/task#7/TitanicDataset/train.csv')\n",
        "# test_df = pd.read_csv('/content/drive/MyDrive/spbu-python-course/task#7/TitanicDataset/test.csv')"
      ]
    },
    {
      "cell_type": "markdown",
      "metadata": {},
      "source": [
        "#### Тут же локально загружаю файлы чтобы vs code не выдавал ошибку по отсутстующего import google.colab import drive"
      ]
    },
    {
      "cell_type": "code",
      "execution_count": 6,
      "metadata": {
        "colab": {
          "base_uri": "https://localhost:8080/"
        },
        "id": "74tFP619aGxV",
        "outputId": "f4028c0f-14ac-4efb-d84b-5115b4125274"
      },
      "outputs": [
        {
          "name": "stdout",
          "output_type": "stream",
          "text": [
            "README.md  TitanicDataset  jupyter_notebook.ipynb\n"
          ]
        }
      ],
      "source": [
        "!ls # Сheck where I am now"
      ]
    },
    {
      "cell_type": "code",
      "execution_count": 7,
      "metadata": {},
      "outputs": [],
      "source": [
        "import pandas as pd\n",
        "\n",
        "# Локальные пути к файлам\n",
        "train_df = pd.read_csv('TitanicDataset/train.csv')\n",
        "test_df = pd.read_csv('TitanicDataset/test.csv')\n"
      ]
    },
    {
      "cell_type": "markdown",
      "metadata": {
        "id": "BDKwobfVdAcc"
      },
      "source": [
        "Посмотрим первые строки каждого набора"
      ]
    },
    {
      "cell_type": "code",
      "execution_count": 8,
      "metadata": {
        "colab": {
          "base_uri": "https://localhost:8080/",
          "height": 482
        },
        "id": "PhRxImNadA5f",
        "outputId": "e77e911c-576f-4bab-a64f-4add75a18b56"
      },
      "outputs": [
        {
          "data": {
            "text/html": [
              "<div>\n",
              "<style scoped>\n",
              "    .dataframe tbody tr th:only-of-type {\n",
              "        vertical-align: middle;\n",
              "    }\n",
              "\n",
              "    .dataframe tbody tr th {\n",
              "        vertical-align: top;\n",
              "    }\n",
              "\n",
              "    .dataframe thead th {\n",
              "        text-align: right;\n",
              "    }\n",
              "</style>\n",
              "<table border=\"1\" class=\"dataframe\">\n",
              "  <thead>\n",
              "    <tr style=\"text-align: right;\">\n",
              "      <th></th>\n",
              "      <th>PassengerId</th>\n",
              "      <th>Survived</th>\n",
              "      <th>Pclass</th>\n",
              "      <th>Name</th>\n",
              "      <th>Sex</th>\n",
              "      <th>Age</th>\n",
              "      <th>SibSp</th>\n",
              "      <th>Parch</th>\n",
              "      <th>Ticket</th>\n",
              "      <th>Fare</th>\n",
              "      <th>Cabin</th>\n",
              "      <th>Embarked</th>\n",
              "    </tr>\n",
              "  </thead>\n",
              "  <tbody>\n",
              "    <tr>\n",
              "      <th>0</th>\n",
              "      <td>1</td>\n",
              "      <td>0</td>\n",
              "      <td>3</td>\n",
              "      <td>Braund, Mr. Owen Harris</td>\n",
              "      <td>male</td>\n",
              "      <td>22.0</td>\n",
              "      <td>1</td>\n",
              "      <td>0</td>\n",
              "      <td>A/5 21171</td>\n",
              "      <td>7.2500</td>\n",
              "      <td>NaN</td>\n",
              "      <td>S</td>\n",
              "    </tr>\n",
              "    <tr>\n",
              "      <th>1</th>\n",
              "      <td>2</td>\n",
              "      <td>1</td>\n",
              "      <td>1</td>\n",
              "      <td>Cumings, Mrs. John Bradley (Florence Briggs Th...</td>\n",
              "      <td>female</td>\n",
              "      <td>38.0</td>\n",
              "      <td>1</td>\n",
              "      <td>0</td>\n",
              "      <td>PC 17599</td>\n",
              "      <td>71.2833</td>\n",
              "      <td>C85</td>\n",
              "      <td>C</td>\n",
              "    </tr>\n",
              "    <tr>\n",
              "      <th>2</th>\n",
              "      <td>3</td>\n",
              "      <td>1</td>\n",
              "      <td>3</td>\n",
              "      <td>Heikkinen, Miss. Laina</td>\n",
              "      <td>female</td>\n",
              "      <td>26.0</td>\n",
              "      <td>0</td>\n",
              "      <td>0</td>\n",
              "      <td>STON/O2. 3101282</td>\n",
              "      <td>7.9250</td>\n",
              "      <td>NaN</td>\n",
              "      <td>S</td>\n",
              "    </tr>\n",
              "    <tr>\n",
              "      <th>3</th>\n",
              "      <td>4</td>\n",
              "      <td>1</td>\n",
              "      <td>1</td>\n",
              "      <td>Futrelle, Mrs. Jacques Heath (Lily May Peel)</td>\n",
              "      <td>female</td>\n",
              "      <td>35.0</td>\n",
              "      <td>1</td>\n",
              "      <td>0</td>\n",
              "      <td>113803</td>\n",
              "      <td>53.1000</td>\n",
              "      <td>C123</td>\n",
              "      <td>S</td>\n",
              "    </tr>\n",
              "    <tr>\n",
              "      <th>4</th>\n",
              "      <td>5</td>\n",
              "      <td>0</td>\n",
              "      <td>3</td>\n",
              "      <td>Allen, Mr. William Henry</td>\n",
              "      <td>male</td>\n",
              "      <td>35.0</td>\n",
              "      <td>0</td>\n",
              "      <td>0</td>\n",
              "      <td>373450</td>\n",
              "      <td>8.0500</td>\n",
              "      <td>NaN</td>\n",
              "      <td>S</td>\n",
              "    </tr>\n",
              "  </tbody>\n",
              "</table>\n",
              "</div>"
            ],
            "text/plain": [
              "   PassengerId  Survived  Pclass  \\\n",
              "0            1         0       3   \n",
              "1            2         1       1   \n",
              "2            3         1       3   \n",
              "3            4         1       1   \n",
              "4            5         0       3   \n",
              "\n",
              "                                                Name     Sex   Age  SibSp  \\\n",
              "0                            Braund, Mr. Owen Harris    male  22.0      1   \n",
              "1  Cumings, Mrs. John Bradley (Florence Briggs Th...  female  38.0      1   \n",
              "2                             Heikkinen, Miss. Laina  female  26.0      0   \n",
              "3       Futrelle, Mrs. Jacques Heath (Lily May Peel)  female  35.0      1   \n",
              "4                           Allen, Mr. William Henry    male  35.0      0   \n",
              "\n",
              "   Parch            Ticket     Fare Cabin Embarked  \n",
              "0      0         A/5 21171   7.2500   NaN        S  \n",
              "1      0          PC 17599  71.2833   C85        C  \n",
              "2      0  STON/O2. 3101282   7.9250   NaN        S  \n",
              "3      0            113803  53.1000  C123        S  \n",
              "4      0            373450   8.0500   NaN        S  "
            ]
          },
          "metadata": {},
          "output_type": "display_data"
        },
        {
          "data": {
            "text/html": [
              "<div>\n",
              "<style scoped>\n",
              "    .dataframe tbody tr th:only-of-type {\n",
              "        vertical-align: middle;\n",
              "    }\n",
              "\n",
              "    .dataframe tbody tr th {\n",
              "        vertical-align: top;\n",
              "    }\n",
              "\n",
              "    .dataframe thead th {\n",
              "        text-align: right;\n",
              "    }\n",
              "</style>\n",
              "<table border=\"1\" class=\"dataframe\">\n",
              "  <thead>\n",
              "    <tr style=\"text-align: right;\">\n",
              "      <th></th>\n",
              "      <th>PassengerId</th>\n",
              "      <th>Pclass</th>\n",
              "      <th>Name</th>\n",
              "      <th>Sex</th>\n",
              "      <th>Age</th>\n",
              "      <th>SibSp</th>\n",
              "      <th>Parch</th>\n",
              "      <th>Ticket</th>\n",
              "      <th>Fare</th>\n",
              "      <th>Cabin</th>\n",
              "      <th>Embarked</th>\n",
              "    </tr>\n",
              "  </thead>\n",
              "  <tbody>\n",
              "    <tr>\n",
              "      <th>0</th>\n",
              "      <td>892</td>\n",
              "      <td>3</td>\n",
              "      <td>Kelly, Mr. James</td>\n",
              "      <td>male</td>\n",
              "      <td>34.5</td>\n",
              "      <td>0</td>\n",
              "      <td>0</td>\n",
              "      <td>330911</td>\n",
              "      <td>7.8292</td>\n",
              "      <td>NaN</td>\n",
              "      <td>Q</td>\n",
              "    </tr>\n",
              "    <tr>\n",
              "      <th>1</th>\n",
              "      <td>893</td>\n",
              "      <td>3</td>\n",
              "      <td>Wilkes, Mrs. James (Ellen Needs)</td>\n",
              "      <td>female</td>\n",
              "      <td>47.0</td>\n",
              "      <td>1</td>\n",
              "      <td>0</td>\n",
              "      <td>363272</td>\n",
              "      <td>7.0000</td>\n",
              "      <td>NaN</td>\n",
              "      <td>S</td>\n",
              "    </tr>\n",
              "    <tr>\n",
              "      <th>2</th>\n",
              "      <td>894</td>\n",
              "      <td>2</td>\n",
              "      <td>Myles, Mr. Thomas Francis</td>\n",
              "      <td>male</td>\n",
              "      <td>62.0</td>\n",
              "      <td>0</td>\n",
              "      <td>0</td>\n",
              "      <td>240276</td>\n",
              "      <td>9.6875</td>\n",
              "      <td>NaN</td>\n",
              "      <td>Q</td>\n",
              "    </tr>\n",
              "    <tr>\n",
              "      <th>3</th>\n",
              "      <td>895</td>\n",
              "      <td>3</td>\n",
              "      <td>Wirz, Mr. Albert</td>\n",
              "      <td>male</td>\n",
              "      <td>27.0</td>\n",
              "      <td>0</td>\n",
              "      <td>0</td>\n",
              "      <td>315154</td>\n",
              "      <td>8.6625</td>\n",
              "      <td>NaN</td>\n",
              "      <td>S</td>\n",
              "    </tr>\n",
              "    <tr>\n",
              "      <th>4</th>\n",
              "      <td>896</td>\n",
              "      <td>3</td>\n",
              "      <td>Hirvonen, Mrs. Alexander (Helga E Lindqvist)</td>\n",
              "      <td>female</td>\n",
              "      <td>22.0</td>\n",
              "      <td>1</td>\n",
              "      <td>1</td>\n",
              "      <td>3101298</td>\n",
              "      <td>12.2875</td>\n",
              "      <td>NaN</td>\n",
              "      <td>S</td>\n",
              "    </tr>\n",
              "  </tbody>\n",
              "</table>\n",
              "</div>"
            ],
            "text/plain": [
              "   PassengerId  Pclass                                          Name     Sex  \\\n",
              "0          892       3                              Kelly, Mr. James    male   \n",
              "1          893       3              Wilkes, Mrs. James (Ellen Needs)  female   \n",
              "2          894       2                     Myles, Mr. Thomas Francis    male   \n",
              "3          895       3                              Wirz, Mr. Albert    male   \n",
              "4          896       3  Hirvonen, Mrs. Alexander (Helga E Lindqvist)  female   \n",
              "\n",
              "    Age  SibSp  Parch   Ticket     Fare Cabin Embarked  \n",
              "0  34.5      0      0   330911   7.8292   NaN        Q  \n",
              "1  47.0      1      0   363272   7.0000   NaN        S  \n",
              "2  62.0      0      0   240276   9.6875   NaN        Q  \n",
              "3  27.0      0      0   315154   8.6625   NaN        S  \n",
              "4  22.0      1      1  3101298  12.2875   NaN        S  "
            ]
          },
          "metadata": {},
          "output_type": "display_data"
        }
      ],
      "source": [
        "# Viewing first rows of each dataframe\n",
        "display(train_df.head())\n",
        "display(test_df.head())"
      ]
    },
    {
      "cell_type": "markdown",
      "metadata": {
        "id": "f5GIKyFFOSq4"
      },
      "source": [
        "## $\\circ$ Корректно конкатенировать их в один DataFrame по ключу PassengerID. Отсутствующие данные должны быть Nan. Все столбцы должны быть корректных типов, в частности, выживание, класс и пол должны быть категориальными"
      ]
    },
    {
      "cell_type": "markdown",
      "metadata": {
        "id": "EoaSR1bTki_p"
      },
      "source": [
        "Конкатенирую:"
      ]
    },
    {
      "cell_type": "code",
      "execution_count": 9,
      "metadata": {
        "id": "J9cDto0rm3sW"
      },
      "outputs": [],
      "source": [
        "data = pd.concat([train_df, test_df], axis=0, ignore_index=True)"
      ]
    },
    {
      "cell_type": "markdown",
      "metadata": {
        "id": "AIfG16kPkxfo"
      },
      "source": [
        "Привожу типы данных полей выживания`Survived`, класса `Pclass` и пола `Sex`к категориальному:"
      ]
    },
    {
      "cell_type": "code",
      "execution_count": 10,
      "metadata": {
        "colab": {
          "base_uri": "https://localhost:8080/",
          "height": 461
        },
        "id": "Z6aDAxzPjuSE",
        "outputId": "e75a94dd-7484-46b1-9580-19277a17bad0"
      },
      "outputs": [
        {
          "data": {
            "text/plain": [
              "PassengerId       int64\n",
              "Survived       category\n",
              "Pclass         category\n",
              "Name             object\n",
              "Sex            category\n",
              "Age             float64\n",
              "SibSp             int64\n",
              "Parch             int64\n",
              "Ticket           object\n",
              "Fare            float64\n",
              "Cabin            object\n",
              "Embarked         object\n",
              "dtype: object"
            ]
          },
          "execution_count": 10,
          "metadata": {},
          "output_type": "execute_result"
        }
      ],
      "source": [
        "data['Survived'] = data['Survived'].astype('category')\n",
        "data['Pclass'] = data['Pclass'].astype('category')\n",
        "data['Sex'] = data['Sex'].astype('category')\n",
        "\n",
        "# Check types\n",
        "data.dtypes"
      ]
    },
    {
      "cell_type": "markdown",
      "metadata": {
        "id": "i2eLj5zQp7pP"
      },
      "source": [
        "# $\\blacksquare$ Анализ таблицы"
      ]
    },
    {
      "cell_type": "markdown",
      "metadata": {
        "id": "_bunHPzZpvbQ"
      },
      "source": [
        "## $\\circ$ Визуализировать базовую статистику таблицы. В каком классе было больше всего пассажиров?"
      ]
    },
    {
      "cell_type": "markdown",
      "metadata": {
        "id": "e1UEPQJUqx4d"
      },
      "source": [
        "Базовая статистика таблицы:"
      ]
    },
    {
      "cell_type": "code",
      "execution_count": 11,
      "metadata": {
        "colab": {
          "base_uri": "https://localhost:8080/",
          "height": 449
        },
        "id": "ttTEjkK4qwgH",
        "outputId": "53d5e7fa-f870-4451-f659-22f8b83a448b"
      },
      "outputs": [
        {
          "data": {
            "text/html": [
              "<div>\n",
              "<style scoped>\n",
              "    .dataframe tbody tr th:only-of-type {\n",
              "        vertical-align: middle;\n",
              "    }\n",
              "\n",
              "    .dataframe tbody tr th {\n",
              "        vertical-align: top;\n",
              "    }\n",
              "\n",
              "    .dataframe thead th {\n",
              "        text-align: right;\n",
              "    }\n",
              "</style>\n",
              "<table border=\"1\" class=\"dataframe\">\n",
              "  <thead>\n",
              "    <tr style=\"text-align: right;\">\n",
              "      <th></th>\n",
              "      <th>PassengerId</th>\n",
              "      <th>Survived</th>\n",
              "      <th>Pclass</th>\n",
              "      <th>Name</th>\n",
              "      <th>Sex</th>\n",
              "      <th>Age</th>\n",
              "      <th>SibSp</th>\n",
              "      <th>Parch</th>\n",
              "      <th>Ticket</th>\n",
              "      <th>Fare</th>\n",
              "      <th>Cabin</th>\n",
              "      <th>Embarked</th>\n",
              "    </tr>\n",
              "  </thead>\n",
              "  <tbody>\n",
              "    <tr>\n",
              "      <th>count</th>\n",
              "      <td>1309.000000</td>\n",
              "      <td>891.0</td>\n",
              "      <td>1309.0</td>\n",
              "      <td>1309</td>\n",
              "      <td>1309</td>\n",
              "      <td>1046.000000</td>\n",
              "      <td>1309.000000</td>\n",
              "      <td>1309.000000</td>\n",
              "      <td>1309</td>\n",
              "      <td>1308.000000</td>\n",
              "      <td>295</td>\n",
              "      <td>1307</td>\n",
              "    </tr>\n",
              "    <tr>\n",
              "      <th>unique</th>\n",
              "      <td>NaN</td>\n",
              "      <td>2.0</td>\n",
              "      <td>3.0</td>\n",
              "      <td>1307</td>\n",
              "      <td>2</td>\n",
              "      <td>NaN</td>\n",
              "      <td>NaN</td>\n",
              "      <td>NaN</td>\n",
              "      <td>929</td>\n",
              "      <td>NaN</td>\n",
              "      <td>186</td>\n",
              "      <td>3</td>\n",
              "    </tr>\n",
              "    <tr>\n",
              "      <th>top</th>\n",
              "      <td>NaN</td>\n",
              "      <td>0.0</td>\n",
              "      <td>3.0</td>\n",
              "      <td>Connolly, Miss. Kate</td>\n",
              "      <td>male</td>\n",
              "      <td>NaN</td>\n",
              "      <td>NaN</td>\n",
              "      <td>NaN</td>\n",
              "      <td>CA. 2343</td>\n",
              "      <td>NaN</td>\n",
              "      <td>C23 C25 C27</td>\n",
              "      <td>S</td>\n",
              "    </tr>\n",
              "    <tr>\n",
              "      <th>freq</th>\n",
              "      <td>NaN</td>\n",
              "      <td>549.0</td>\n",
              "      <td>709.0</td>\n",
              "      <td>2</td>\n",
              "      <td>843</td>\n",
              "      <td>NaN</td>\n",
              "      <td>NaN</td>\n",
              "      <td>NaN</td>\n",
              "      <td>11</td>\n",
              "      <td>NaN</td>\n",
              "      <td>6</td>\n",
              "      <td>914</td>\n",
              "    </tr>\n",
              "    <tr>\n",
              "      <th>mean</th>\n",
              "      <td>655.000000</td>\n",
              "      <td>NaN</td>\n",
              "      <td>NaN</td>\n",
              "      <td>NaN</td>\n",
              "      <td>NaN</td>\n",
              "      <td>29.881138</td>\n",
              "      <td>0.498854</td>\n",
              "      <td>0.385027</td>\n",
              "      <td>NaN</td>\n",
              "      <td>33.295479</td>\n",
              "      <td>NaN</td>\n",
              "      <td>NaN</td>\n",
              "    </tr>\n",
              "    <tr>\n",
              "      <th>std</th>\n",
              "      <td>378.020061</td>\n",
              "      <td>NaN</td>\n",
              "      <td>NaN</td>\n",
              "      <td>NaN</td>\n",
              "      <td>NaN</td>\n",
              "      <td>14.413493</td>\n",
              "      <td>1.041658</td>\n",
              "      <td>0.865560</td>\n",
              "      <td>NaN</td>\n",
              "      <td>51.758668</td>\n",
              "      <td>NaN</td>\n",
              "      <td>NaN</td>\n",
              "    </tr>\n",
              "    <tr>\n",
              "      <th>min</th>\n",
              "      <td>1.000000</td>\n",
              "      <td>NaN</td>\n",
              "      <td>NaN</td>\n",
              "      <td>NaN</td>\n",
              "      <td>NaN</td>\n",
              "      <td>0.170000</td>\n",
              "      <td>0.000000</td>\n",
              "      <td>0.000000</td>\n",
              "      <td>NaN</td>\n",
              "      <td>0.000000</td>\n",
              "      <td>NaN</td>\n",
              "      <td>NaN</td>\n",
              "    </tr>\n",
              "    <tr>\n",
              "      <th>25%</th>\n",
              "      <td>328.000000</td>\n",
              "      <td>NaN</td>\n",
              "      <td>NaN</td>\n",
              "      <td>NaN</td>\n",
              "      <td>NaN</td>\n",
              "      <td>21.000000</td>\n",
              "      <td>0.000000</td>\n",
              "      <td>0.000000</td>\n",
              "      <td>NaN</td>\n",
              "      <td>7.895800</td>\n",
              "      <td>NaN</td>\n",
              "      <td>NaN</td>\n",
              "    </tr>\n",
              "    <tr>\n",
              "      <th>50%</th>\n",
              "      <td>655.000000</td>\n",
              "      <td>NaN</td>\n",
              "      <td>NaN</td>\n",
              "      <td>NaN</td>\n",
              "      <td>NaN</td>\n",
              "      <td>28.000000</td>\n",
              "      <td>0.000000</td>\n",
              "      <td>0.000000</td>\n",
              "      <td>NaN</td>\n",
              "      <td>14.454200</td>\n",
              "      <td>NaN</td>\n",
              "      <td>NaN</td>\n",
              "    </tr>\n",
              "    <tr>\n",
              "      <th>75%</th>\n",
              "      <td>982.000000</td>\n",
              "      <td>NaN</td>\n",
              "      <td>NaN</td>\n",
              "      <td>NaN</td>\n",
              "      <td>NaN</td>\n",
              "      <td>39.000000</td>\n",
              "      <td>1.000000</td>\n",
              "      <td>0.000000</td>\n",
              "      <td>NaN</td>\n",
              "      <td>31.275000</td>\n",
              "      <td>NaN</td>\n",
              "      <td>NaN</td>\n",
              "    </tr>\n",
              "    <tr>\n",
              "      <th>max</th>\n",
              "      <td>1309.000000</td>\n",
              "      <td>NaN</td>\n",
              "      <td>NaN</td>\n",
              "      <td>NaN</td>\n",
              "      <td>NaN</td>\n",
              "      <td>80.000000</td>\n",
              "      <td>8.000000</td>\n",
              "      <td>9.000000</td>\n",
              "      <td>NaN</td>\n",
              "      <td>512.329200</td>\n",
              "      <td>NaN</td>\n",
              "      <td>NaN</td>\n",
              "    </tr>\n",
              "  </tbody>\n",
              "</table>\n",
              "</div>"
            ],
            "text/plain": [
              "        PassengerId  Survived  Pclass                  Name   Sex  \\\n",
              "count   1309.000000     891.0  1309.0                  1309  1309   \n",
              "unique          NaN       2.0     3.0                  1307     2   \n",
              "top             NaN       0.0     3.0  Connolly, Miss. Kate  male   \n",
              "freq            NaN     549.0   709.0                     2   843   \n",
              "mean     655.000000       NaN     NaN                   NaN   NaN   \n",
              "std      378.020061       NaN     NaN                   NaN   NaN   \n",
              "min        1.000000       NaN     NaN                   NaN   NaN   \n",
              "25%      328.000000       NaN     NaN                   NaN   NaN   \n",
              "50%      655.000000       NaN     NaN                   NaN   NaN   \n",
              "75%      982.000000       NaN     NaN                   NaN   NaN   \n",
              "max     1309.000000       NaN     NaN                   NaN   NaN   \n",
              "\n",
              "                Age        SibSp        Parch    Ticket         Fare  \\\n",
              "count   1046.000000  1309.000000  1309.000000      1309  1308.000000   \n",
              "unique          NaN          NaN          NaN       929          NaN   \n",
              "top             NaN          NaN          NaN  CA. 2343          NaN   \n",
              "freq            NaN          NaN          NaN        11          NaN   \n",
              "mean      29.881138     0.498854     0.385027       NaN    33.295479   \n",
              "std       14.413493     1.041658     0.865560       NaN    51.758668   \n",
              "min        0.170000     0.000000     0.000000       NaN     0.000000   \n",
              "25%       21.000000     0.000000     0.000000       NaN     7.895800   \n",
              "50%       28.000000     0.000000     0.000000       NaN    14.454200   \n",
              "75%       39.000000     1.000000     0.000000       NaN    31.275000   \n",
              "max       80.000000     8.000000     9.000000       NaN   512.329200   \n",
              "\n",
              "              Cabin Embarked  \n",
              "count           295     1307  \n",
              "unique          186        3  \n",
              "top     C23 C25 C27        S  \n",
              "freq              6      914  \n",
              "mean            NaN      NaN  \n",
              "std             NaN      NaN  \n",
              "min             NaN      NaN  \n",
              "25%             NaN      NaN  \n",
              "50%             NaN      NaN  \n",
              "75%             NaN      NaN  \n",
              "max             NaN      NaN  "
            ]
          },
          "execution_count": 11,
          "metadata": {},
          "output_type": "execute_result"
        }
      ],
      "source": [
        "data.describe(include='all')"
      ]
    },
    {
      "cell_type": "markdown",
      "metadata": {
        "id": "AXCmTub2s9mx"
      },
      "source": [
        "**Количество пассажиров по классам**\n",
        "\n",
        "Теперь определим, в каком классе было больше всего пассажиров. Используем `value_counts()` для этого:"
      ]
    },
    {
      "cell_type": "code",
      "execution_count": 12,
      "metadata": {
        "colab": {
          "base_uri": "https://localhost:8080/",
          "height": 210
        },
        "id": "Qjkmlps5tBNV",
        "outputId": "53cc44a4-7851-485a-c6a8-c2971b286fac"
      },
      "outputs": [
        {
          "data": {
            "text/plain": [
              "Pclass\n",
              "3    709\n",
              "1    323\n",
              "2    277\n",
              "Name: count, dtype: int64"
            ]
          },
          "execution_count": 12,
          "metadata": {},
          "output_type": "execute_result"
        }
      ],
      "source": [
        "class_count = data['Pclass'].value_counts()\n",
        "class_count"
      ]
    },
    {
      "cell_type": "markdown",
      "metadata": {
        "id": "Uc93f7kowDrn"
      },
      "source": [
        "Ответ виден уже и на этом шаге, но удостоверимся в его корректности с помощью метода `idxmax()`:"
      ]
    },
    {
      "cell_type": "code",
      "execution_count": 13,
      "metadata": {
        "colab": {
          "base_uri": "https://localhost:8080/"
        },
        "id": "wEd_VKX8vhW8",
        "outputId": "423d2891-31c8-4465-d925-e619e83ab61f"
      },
      "outputs": [
        {
          "data": {
            "text/plain": [
              "np.int64(3)"
            ]
          },
          "execution_count": 13,
          "metadata": {},
          "output_type": "execute_result"
        }
      ],
      "source": [
        "class_count.idxmax()"
      ]
    },
    {
      "cell_type": "markdown",
      "metadata": {
        "id": "D8Ep0BaxvDyI"
      },
      "source": [
        "### **Ответ:**\n",
        "больше всего пассажиров было в **3** классе"
      ]
    },
    {
      "cell_type": "markdown",
      "metadata": {
        "id": "bi-9DVlhw9kZ"
      },
      "source": [
        "## $\\circ$ Группировать таблицу в два уровня: класс и пол, по среднему значению возраста. Кто из возможных комбинаций самый юный, кто самый взрослый? Насколько отличаются эти значения?"
      ]
    },
    {
      "cell_type": "markdown",
      "metadata": {
        "id": "AEWQ_Dmvx6aw"
      },
      "source": [
        "Группировка:"
      ]
    },
    {
      "cell_type": "code",
      "execution_count": 14,
      "metadata": {
        "colab": {
          "base_uri": "https://localhost:8080/",
          "height": 238
        },
        "id": "heqK2Rlas-q7",
        "outputId": "34bc97c3-2ab0-423f-e9bf-763fbcf7f7c8"
      },
      "outputs": [
        {
          "data": {
            "text/html": [
              "<div>\n",
              "<style scoped>\n",
              "    .dataframe tbody tr th:only-of-type {\n",
              "        vertical-align: middle;\n",
              "    }\n",
              "\n",
              "    .dataframe tbody tr th {\n",
              "        vertical-align: top;\n",
              "    }\n",
              "\n",
              "    .dataframe thead th {\n",
              "        text-align: right;\n",
              "    }\n",
              "</style>\n",
              "<table border=\"1\" class=\"dataframe\">\n",
              "  <thead>\n",
              "    <tr style=\"text-align: right;\">\n",
              "      <th></th>\n",
              "      <th>Pclass</th>\n",
              "      <th>Sex</th>\n",
              "      <th>Age</th>\n",
              "    </tr>\n",
              "  </thead>\n",
              "  <tbody>\n",
              "    <tr>\n",
              "      <th>0</th>\n",
              "      <td>1</td>\n",
              "      <td>female</td>\n",
              "      <td>37.037594</td>\n",
              "    </tr>\n",
              "    <tr>\n",
              "      <th>1</th>\n",
              "      <td>1</td>\n",
              "      <td>male</td>\n",
              "      <td>41.029272</td>\n",
              "    </tr>\n",
              "    <tr>\n",
              "      <th>2</th>\n",
              "      <td>2</td>\n",
              "      <td>female</td>\n",
              "      <td>27.499223</td>\n",
              "    </tr>\n",
              "    <tr>\n",
              "      <th>3</th>\n",
              "      <td>2</td>\n",
              "      <td>male</td>\n",
              "      <td>30.815380</td>\n",
              "    </tr>\n",
              "    <tr>\n",
              "      <th>4</th>\n",
              "      <td>3</td>\n",
              "      <td>female</td>\n",
              "      <td>22.185329</td>\n",
              "    </tr>\n",
              "    <tr>\n",
              "      <th>5</th>\n",
              "      <td>3</td>\n",
              "      <td>male</td>\n",
              "      <td>25.962264</td>\n",
              "    </tr>\n",
              "  </tbody>\n",
              "</table>\n",
              "</div>"
            ],
            "text/plain": [
              "  Pclass     Sex        Age\n",
              "0      1  female  37.037594\n",
              "1      1    male  41.029272\n",
              "2      2  female  27.499223\n",
              "3      2    male  30.815380\n",
              "4      3  female  22.185329\n",
              "5      3    male  25.962264"
            ]
          },
          "execution_count": 14,
          "metadata": {},
          "output_type": "execute_result"
        }
      ],
      "source": [
        "age_grouped = data.groupby(['Pclass', 'Sex'], observed=True)['Age'].mean().reset_index()\n",
        "\n",
        "age_grouped"
      ]
    },
    {
      "cell_type": "markdown",
      "metadata": {
        "id": "DMhB853Ayi90"
      },
      "source": [
        "Определение самой юной и самой взрослой комбинации"
      ]
    },
    {
      "cell_type": "code",
      "execution_count": 15,
      "metadata": {
        "colab": {
          "base_uri": "https://localhost:8080/",
          "height": 357
        },
        "id": "DnKFPQNpynCd",
        "outputId": "a05a147c-e74f-435f-ecff-9c4710613c50"
      },
      "outputs": [
        {
          "data": {
            "text/plain": [
              "Pclass            3\n",
              "Sex          female\n",
              "Age       22.185329\n",
              "Name: 4, dtype: object"
            ]
          },
          "metadata": {},
          "output_type": "display_data"
        },
        {
          "data": {
            "text/plain": [
              "Pclass            1\n",
              "Sex            male\n",
              "Age       41.029272\n",
              "Name: 1, dtype: object"
            ]
          },
          "metadata": {},
          "output_type": "display_data"
        },
        {
          "name": "stdout",
          "output_type": "stream",
          "text": [
            "18.843942575810384\n"
          ]
        }
      ],
      "source": [
        "youngest_combination = age_grouped.loc[age_grouped['Age'].idxmin()]\n",
        "oldest_combination = age_grouped.loc[age_grouped['Age'].idxmax()]\n",
        "age_diff = oldest_combination['Age'] - youngest_combination['Age']\n",
        "\n",
        "# Results\n",
        "display(youngest_combination)\n",
        "display(oldest_combination)\n",
        "print(age_diff)"
      ]
    },
    {
      "cell_type": "markdown",
      "metadata": {
        "id": "VO57siKb0Gbf"
      },
      "source": [
        "В целом и так вновь виден ответ, но ведь $\\exists$ `f-strings`:"
      ]
    },
    {
      "cell_type": "code",
      "execution_count": 16,
      "metadata": {
        "colab": {
          "base_uri": "https://localhost:8080/"
        },
        "id": "OlZuiOcf0flZ",
        "outputId": "63e28a82-e44b-482a-a8d5-f4862c0d53b1"
      },
      "outputs": [
        {
          "name": "stdout",
          "output_type": "stream",
          "text": [
            "youngest_combination:\n",
            "Pclass: 3, Sex: female, Average_age: 22.185328947368422\n",
            "oldest_combination:\n",
            "Pclass: 1, Sex: male, Average_age: 41.02927152317881\n",
            "age_diff: 18.843942575810384 years\n"
          ]
        }
      ],
      "source": [
        "# Results in another way\n",
        "print(\"youngest_combination:\")\n",
        "print(f\"Pclass: {youngest_combination['Pclass']}, Sex: {youngest_combination['Sex']}, Average_age: {youngest_combination['Age']}\")\n",
        "print(\"oldest_combination:\")\n",
        "print(f\"Pclass: {oldest_combination['Pclass']}, Sex: {oldest_combination['Sex']}, Average_age: {oldest_combination['Age']}\")\n",
        "print(f\"age_diff: {age_diff} years\")"
      ]
    },
    {
      "cell_type": "markdown",
      "metadata": {
        "id": "OBxQv6jDxLge"
      },
      "source": [
        "### **Ответ:**\n",
        "Самая юная комбинация: **Класс: 3, Пол: female, Средний возраст: 22.19**\n",
        "\n",
        "Самая взрослая комбинация: **Класс: 1, Пол: male, Средний возраст: 41.03**\n",
        "\n",
        "Разница в возрасте между самой взрослой и самой юной комбинацией: **18.84 лет**"
      ]
    },
    {
      "cell_type": "markdown",
      "metadata": {
        "id": "WXkMo_OI2XBZ"
      },
      "source": [
        "## $\\circ$ Отобрать только выживших пассажиров с фамилией, начинающейся на “K”. Отсортировать их по убыванию стоимости билета. Кто заплатил больше всех? Кто меньше всех?"
      ]
    },
    {
      "cell_type": "code",
      "execution_count": 17,
      "metadata": {
        "colab": {
          "base_uri": "https://localhost:8080/",
          "height": 401
        },
        "id": "FAHuDi8T2kWF",
        "outputId": "b8ee1ebc-4f80-4268-c3da-1dd9b6e565fa"
      },
      "outputs": [
        {
          "data": {
            "text/html": [
              "<div>\n",
              "<style scoped>\n",
              "    .dataframe tbody tr th:only-of-type {\n",
              "        vertical-align: middle;\n",
              "    }\n",
              "\n",
              "    .dataframe tbody tr th {\n",
              "        vertical-align: top;\n",
              "    }\n",
              "\n",
              "    .dataframe thead th {\n",
              "        text-align: right;\n",
              "    }\n",
              "</style>\n",
              "<table border=\"1\" class=\"dataframe\">\n",
              "  <thead>\n",
              "    <tr style=\"text-align: right;\">\n",
              "      <th></th>\n",
              "      <th>PassengerId</th>\n",
              "      <th>Survived</th>\n",
              "      <th>Pclass</th>\n",
              "      <th>Name</th>\n",
              "      <th>Sex</th>\n",
              "      <th>Age</th>\n",
              "      <th>SibSp</th>\n",
              "      <th>Parch</th>\n",
              "      <th>Ticket</th>\n",
              "      <th>Fare</th>\n",
              "      <th>Cabin</th>\n",
              "      <th>Embarked</th>\n",
              "    </tr>\n",
              "  </thead>\n",
              "  <tbody>\n",
              "    <tr>\n",
              "      <th>184</th>\n",
              "      <td>185</td>\n",
              "      <td>1.0</td>\n",
              "      <td>3</td>\n",
              "      <td>Kink-Heilmann, Miss. Luise Gretchen</td>\n",
              "      <td>female</td>\n",
              "      <td>4.0</td>\n",
              "      <td>0</td>\n",
              "      <td>2</td>\n",
              "      <td>315153</td>\n",
              "      <td>22.0250</td>\n",
              "      <td>NaN</td>\n",
              "      <td>S</td>\n",
              "    </tr>\n",
              "    <tr>\n",
              "      <th>300</th>\n",
              "      <td>301</td>\n",
              "      <td>1.0</td>\n",
              "      <td>3</td>\n",
              "      <td>Kelly, Miss. Anna Katherine \"Annie Kate\"</td>\n",
              "      <td>female</td>\n",
              "      <td>NaN</td>\n",
              "      <td>0</td>\n",
              "      <td>0</td>\n",
              "      <td>9234</td>\n",
              "      <td>7.7500</td>\n",
              "      <td>NaN</td>\n",
              "      <td>Q</td>\n",
              "    </tr>\n",
              "    <tr>\n",
              "      <th>303</th>\n",
              "      <td>304</td>\n",
              "      <td>1.0</td>\n",
              "      <td>2</td>\n",
              "      <td>Keane, Miss. Nora A</td>\n",
              "      <td>female</td>\n",
              "      <td>NaN</td>\n",
              "      <td>0</td>\n",
              "      <td>0</td>\n",
              "      <td>226593</td>\n",
              "      <td>12.3500</td>\n",
              "      <td>E101</td>\n",
              "      <td>Q</td>\n",
              "    </tr>\n",
              "    <tr>\n",
              "      <th>316</th>\n",
              "      <td>317</td>\n",
              "      <td>1.0</td>\n",
              "      <td>2</td>\n",
              "      <td>Kantor, Mrs. Sinai (Miriam Sternin)</td>\n",
              "      <td>female</td>\n",
              "      <td>24.0</td>\n",
              "      <td>1</td>\n",
              "      <td>0</td>\n",
              "      <td>244367</td>\n",
              "      <td>26.0000</td>\n",
              "      <td>NaN</td>\n",
              "      <td>S</td>\n",
              "    </tr>\n",
              "    <tr>\n",
              "      <th>457</th>\n",
              "      <td>458</td>\n",
              "      <td>1.0</td>\n",
              "      <td>1</td>\n",
              "      <td>Kenyon, Mrs. Frederick R (Marion)</td>\n",
              "      <td>female</td>\n",
              "      <td>NaN</td>\n",
              "      <td>1</td>\n",
              "      <td>0</td>\n",
              "      <td>17464</td>\n",
              "      <td>51.8625</td>\n",
              "      <td>D21</td>\n",
              "      <td>S</td>\n",
              "    </tr>\n",
              "    <tr>\n",
              "      <th>573</th>\n",
              "      <td>574</td>\n",
              "      <td>1.0</td>\n",
              "      <td>3</td>\n",
              "      <td>Kelly, Miss. Mary</td>\n",
              "      <td>female</td>\n",
              "      <td>NaN</td>\n",
              "      <td>0</td>\n",
              "      <td>0</td>\n",
              "      <td>14312</td>\n",
              "      <td>7.7500</td>\n",
              "      <td>NaN</td>\n",
              "      <td>Q</td>\n",
              "    </tr>\n",
              "    <tr>\n",
              "      <th>621</th>\n",
              "      <td>622</td>\n",
              "      <td>1.0</td>\n",
              "      <td>1</td>\n",
              "      <td>Kimball, Mr. Edwin Nelson Jr</td>\n",
              "      <td>male</td>\n",
              "      <td>42.0</td>\n",
              "      <td>1</td>\n",
              "      <td>0</td>\n",
              "      <td>11753</td>\n",
              "      <td>52.5542</td>\n",
              "      <td>D19</td>\n",
              "      <td>S</td>\n",
              "    </tr>\n",
              "    <tr>\n",
              "      <th>691</th>\n",
              "      <td>692</td>\n",
              "      <td>1.0</td>\n",
              "      <td>3</td>\n",
              "      <td>Karun, Miss. Manca</td>\n",
              "      <td>female</td>\n",
              "      <td>4.0</td>\n",
              "      <td>0</td>\n",
              "      <td>1</td>\n",
              "      <td>349256</td>\n",
              "      <td>13.4167</td>\n",
              "      <td>NaN</td>\n",
              "      <td>C</td>\n",
              "    </tr>\n",
              "    <tr>\n",
              "      <th>706</th>\n",
              "      <td>707</td>\n",
              "      <td>1.0</td>\n",
              "      <td>2</td>\n",
              "      <td>Kelly, Mrs. Florence \"Fannie\"</td>\n",
              "      <td>female</td>\n",
              "      <td>45.0</td>\n",
              "      <td>0</td>\n",
              "      <td>0</td>\n",
              "      <td>223596</td>\n",
              "      <td>13.5000</td>\n",
              "      <td>NaN</td>\n",
              "      <td>S</td>\n",
              "    </tr>\n",
              "  </tbody>\n",
              "</table>\n",
              "</div>"
            ],
            "text/plain": [
              "     PassengerId Survived Pclass                                      Name  \\\n",
              "184          185      1.0      3       Kink-Heilmann, Miss. Luise Gretchen   \n",
              "300          301      1.0      3  Kelly, Miss. Anna Katherine \"Annie Kate\"   \n",
              "303          304      1.0      2                       Keane, Miss. Nora A   \n",
              "316          317      1.0      2       Kantor, Mrs. Sinai (Miriam Sternin)   \n",
              "457          458      1.0      1         Kenyon, Mrs. Frederick R (Marion)   \n",
              "573          574      1.0      3                         Kelly, Miss. Mary   \n",
              "621          622      1.0      1              Kimball, Mr. Edwin Nelson Jr   \n",
              "691          692      1.0      3                        Karun, Miss. Manca   \n",
              "706          707      1.0      2             Kelly, Mrs. Florence \"Fannie\"   \n",
              "\n",
              "        Sex   Age  SibSp  Parch  Ticket     Fare Cabin Embarked  \n",
              "184  female   4.0      0      2  315153  22.0250   NaN        S  \n",
              "300  female   NaN      0      0    9234   7.7500   NaN        Q  \n",
              "303  female   NaN      0      0  226593  12.3500  E101        Q  \n",
              "316  female  24.0      1      0  244367  26.0000   NaN        S  \n",
              "457  female   NaN      1      0   17464  51.8625   D21        S  \n",
              "573  female   NaN      0      0   14312   7.7500   NaN        Q  \n",
              "621    male  42.0      1      0   11753  52.5542   D19        S  \n",
              "691  female   4.0      0      1  349256  13.4167   NaN        C  \n",
              "706  female  45.0      0      0  223596  13.5000   NaN        S  "
            ]
          },
          "execution_count": 17,
          "metadata": {},
          "output_type": "execute_result"
        }
      ],
      "source": [
        "# Selecting survivors with the last name starts with \"K\"\n",
        "survivors_k = data[(data['Survived'] == 1) & data['Name'].str.startswith('K')]\n",
        "\n",
        "survivors_k"
      ]
    },
    {
      "cell_type": "code",
      "execution_count": 18,
      "metadata": {
        "colab": {
          "base_uri": "https://localhost:8080/",
          "height": 401
        },
        "id": "_nYh-Q-F3052",
        "outputId": "ac49b833-2cb6-4365-f491-ca93d4be1575"
      },
      "outputs": [
        {
          "data": {
            "text/html": [
              "<div>\n",
              "<style scoped>\n",
              "    .dataframe tbody tr th:only-of-type {\n",
              "        vertical-align: middle;\n",
              "    }\n",
              "\n",
              "    .dataframe tbody tr th {\n",
              "        vertical-align: top;\n",
              "    }\n",
              "\n",
              "    .dataframe thead th {\n",
              "        text-align: right;\n",
              "    }\n",
              "</style>\n",
              "<table border=\"1\" class=\"dataframe\">\n",
              "  <thead>\n",
              "    <tr style=\"text-align: right;\">\n",
              "      <th></th>\n",
              "      <th>PassengerId</th>\n",
              "      <th>Survived</th>\n",
              "      <th>Pclass</th>\n",
              "      <th>Name</th>\n",
              "      <th>Sex</th>\n",
              "      <th>Age</th>\n",
              "      <th>SibSp</th>\n",
              "      <th>Parch</th>\n",
              "      <th>Ticket</th>\n",
              "      <th>Fare</th>\n",
              "      <th>Cabin</th>\n",
              "      <th>Embarked</th>\n",
              "    </tr>\n",
              "  </thead>\n",
              "  <tbody>\n",
              "    <tr>\n",
              "      <th>621</th>\n",
              "      <td>622</td>\n",
              "      <td>1.0</td>\n",
              "      <td>1</td>\n",
              "      <td>Kimball, Mr. Edwin Nelson Jr</td>\n",
              "      <td>male</td>\n",
              "      <td>42.0</td>\n",
              "      <td>1</td>\n",
              "      <td>0</td>\n",
              "      <td>11753</td>\n",
              "      <td>52.5542</td>\n",
              "      <td>D19</td>\n",
              "      <td>S</td>\n",
              "    </tr>\n",
              "    <tr>\n",
              "      <th>457</th>\n",
              "      <td>458</td>\n",
              "      <td>1.0</td>\n",
              "      <td>1</td>\n",
              "      <td>Kenyon, Mrs. Frederick R (Marion)</td>\n",
              "      <td>female</td>\n",
              "      <td>NaN</td>\n",
              "      <td>1</td>\n",
              "      <td>0</td>\n",
              "      <td>17464</td>\n",
              "      <td>51.8625</td>\n",
              "      <td>D21</td>\n",
              "      <td>S</td>\n",
              "    </tr>\n",
              "    <tr>\n",
              "      <th>316</th>\n",
              "      <td>317</td>\n",
              "      <td>1.0</td>\n",
              "      <td>2</td>\n",
              "      <td>Kantor, Mrs. Sinai (Miriam Sternin)</td>\n",
              "      <td>female</td>\n",
              "      <td>24.0</td>\n",
              "      <td>1</td>\n",
              "      <td>0</td>\n",
              "      <td>244367</td>\n",
              "      <td>26.0000</td>\n",
              "      <td>NaN</td>\n",
              "      <td>S</td>\n",
              "    </tr>\n",
              "    <tr>\n",
              "      <th>184</th>\n",
              "      <td>185</td>\n",
              "      <td>1.0</td>\n",
              "      <td>3</td>\n",
              "      <td>Kink-Heilmann, Miss. Luise Gretchen</td>\n",
              "      <td>female</td>\n",
              "      <td>4.0</td>\n",
              "      <td>0</td>\n",
              "      <td>2</td>\n",
              "      <td>315153</td>\n",
              "      <td>22.0250</td>\n",
              "      <td>NaN</td>\n",
              "      <td>S</td>\n",
              "    </tr>\n",
              "    <tr>\n",
              "      <th>706</th>\n",
              "      <td>707</td>\n",
              "      <td>1.0</td>\n",
              "      <td>2</td>\n",
              "      <td>Kelly, Mrs. Florence \"Fannie\"</td>\n",
              "      <td>female</td>\n",
              "      <td>45.0</td>\n",
              "      <td>0</td>\n",
              "      <td>0</td>\n",
              "      <td>223596</td>\n",
              "      <td>13.5000</td>\n",
              "      <td>NaN</td>\n",
              "      <td>S</td>\n",
              "    </tr>\n",
              "    <tr>\n",
              "      <th>691</th>\n",
              "      <td>692</td>\n",
              "      <td>1.0</td>\n",
              "      <td>3</td>\n",
              "      <td>Karun, Miss. Manca</td>\n",
              "      <td>female</td>\n",
              "      <td>4.0</td>\n",
              "      <td>0</td>\n",
              "      <td>1</td>\n",
              "      <td>349256</td>\n",
              "      <td>13.4167</td>\n",
              "      <td>NaN</td>\n",
              "      <td>C</td>\n",
              "    </tr>\n",
              "    <tr>\n",
              "      <th>303</th>\n",
              "      <td>304</td>\n",
              "      <td>1.0</td>\n",
              "      <td>2</td>\n",
              "      <td>Keane, Miss. Nora A</td>\n",
              "      <td>female</td>\n",
              "      <td>NaN</td>\n",
              "      <td>0</td>\n",
              "      <td>0</td>\n",
              "      <td>226593</td>\n",
              "      <td>12.3500</td>\n",
              "      <td>E101</td>\n",
              "      <td>Q</td>\n",
              "    </tr>\n",
              "    <tr>\n",
              "      <th>300</th>\n",
              "      <td>301</td>\n",
              "      <td>1.0</td>\n",
              "      <td>3</td>\n",
              "      <td>Kelly, Miss. Anna Katherine \"Annie Kate\"</td>\n",
              "      <td>female</td>\n",
              "      <td>NaN</td>\n",
              "      <td>0</td>\n",
              "      <td>0</td>\n",
              "      <td>9234</td>\n",
              "      <td>7.7500</td>\n",
              "      <td>NaN</td>\n",
              "      <td>Q</td>\n",
              "    </tr>\n",
              "    <tr>\n",
              "      <th>573</th>\n",
              "      <td>574</td>\n",
              "      <td>1.0</td>\n",
              "      <td>3</td>\n",
              "      <td>Kelly, Miss. Mary</td>\n",
              "      <td>female</td>\n",
              "      <td>NaN</td>\n",
              "      <td>0</td>\n",
              "      <td>0</td>\n",
              "      <td>14312</td>\n",
              "      <td>7.7500</td>\n",
              "      <td>NaN</td>\n",
              "      <td>Q</td>\n",
              "    </tr>\n",
              "  </tbody>\n",
              "</table>\n",
              "</div>"
            ],
            "text/plain": [
              "     PassengerId Survived Pclass                                      Name  \\\n",
              "621          622      1.0      1              Kimball, Mr. Edwin Nelson Jr   \n",
              "457          458      1.0      1         Kenyon, Mrs. Frederick R (Marion)   \n",
              "316          317      1.0      2       Kantor, Mrs. Sinai (Miriam Sternin)   \n",
              "184          185      1.0      3       Kink-Heilmann, Miss. Luise Gretchen   \n",
              "706          707      1.0      2             Kelly, Mrs. Florence \"Fannie\"   \n",
              "691          692      1.0      3                        Karun, Miss. Manca   \n",
              "303          304      1.0      2                       Keane, Miss. Nora A   \n",
              "300          301      1.0      3  Kelly, Miss. Anna Katherine \"Annie Kate\"   \n",
              "573          574      1.0      3                         Kelly, Miss. Mary   \n",
              "\n",
              "        Sex   Age  SibSp  Parch  Ticket     Fare Cabin Embarked  \n",
              "621    male  42.0      1      0   11753  52.5542   D19        S  \n",
              "457  female   NaN      1      0   17464  51.8625   D21        S  \n",
              "316  female  24.0      1      0  244367  26.0000   NaN        S  \n",
              "184  female   4.0      0      2  315153  22.0250   NaN        S  \n",
              "706  female  45.0      0      0  223596  13.5000   NaN        S  \n",
              "691  female   4.0      0      1  349256  13.4167   NaN        C  \n",
              "303  female   NaN      0      0  226593  12.3500  E101        Q  \n",
              "300  female   NaN      0      0    9234   7.7500   NaN        Q  \n",
              "573  female   NaN      0      0   14312   7.7500   NaN        Q  "
            ]
          },
          "execution_count": 18,
          "metadata": {},
          "output_type": "execute_result"
        }
      ],
      "source": [
        "# Sort by ticket price\n",
        "survivors_k_sorted = survivors_k.sort_values(by='Fare', ascending=False)\n",
        "\n",
        "survivors_k_sorted"
      ]
    },
    {
      "cell_type": "code",
      "execution_count": 19,
      "metadata": {
        "colab": {
          "base_uri": "https://localhost:8080/",
          "height": 144
        },
        "id": "khfiLVvs32_V",
        "outputId": "b82a8c54-2760-4825-bab2-594000f2acaf"
      },
      "outputs": [
        {
          "data": {
            "text/html": [
              "<div>\n",
              "<style scoped>\n",
              "    .dataframe tbody tr th:only-of-type {\n",
              "        vertical-align: middle;\n",
              "    }\n",
              "\n",
              "    .dataframe tbody tr th {\n",
              "        vertical-align: top;\n",
              "    }\n",
              "\n",
              "    .dataframe thead th {\n",
              "        text-align: right;\n",
              "    }\n",
              "</style>\n",
              "<table border=\"1\" class=\"dataframe\">\n",
              "  <thead>\n",
              "    <tr style=\"text-align: right;\">\n",
              "      <th></th>\n",
              "      <th>Name</th>\n",
              "      <th>Fare</th>\n",
              "    </tr>\n",
              "  </thead>\n",
              "  <tbody>\n",
              "    <tr>\n",
              "      <th>621</th>\n",
              "      <td>Kimball, Mr. Edwin Nelson Jr</td>\n",
              "      <td>52.5542</td>\n",
              "    </tr>\n",
              "  </tbody>\n",
              "</table>\n",
              "</div>"
            ],
            "text/plain": [
              "                             Name     Fare\n",
              "621  Kimball, Mr. Edwin Nelson Jr  52.5542"
            ]
          },
          "metadata": {},
          "output_type": "display_data"
        },
        {
          "data": {
            "text/html": [
              "<div>\n",
              "<style scoped>\n",
              "    .dataframe tbody tr th:only-of-type {\n",
              "        vertical-align: middle;\n",
              "    }\n",
              "\n",
              "    .dataframe tbody tr th {\n",
              "        vertical-align: top;\n",
              "    }\n",
              "\n",
              "    .dataframe thead th {\n",
              "        text-align: right;\n",
              "    }\n",
              "</style>\n",
              "<table border=\"1\" class=\"dataframe\">\n",
              "  <thead>\n",
              "    <tr style=\"text-align: right;\">\n",
              "      <th></th>\n",
              "      <th>Name</th>\n",
              "      <th>Fare</th>\n",
              "    </tr>\n",
              "  </thead>\n",
              "  <tbody>\n",
              "    <tr>\n",
              "      <th>573</th>\n",
              "      <td>Kelly, Miss. Mary</td>\n",
              "      <td>7.75</td>\n",
              "    </tr>\n",
              "  </tbody>\n",
              "</table>\n",
              "</div>"
            ],
            "text/plain": [
              "                  Name  Fare\n",
              "573  Kelly, Miss. Mary  7.75"
            ]
          },
          "metadata": {},
          "output_type": "display_data"
        }
      ],
      "source": [
        "# Print the most expensive and cheapest\n",
        "display(survivors_k_sorted[['Name', 'Fare']].head(1), survivors_k_sorted[['Name', 'Fare']].tail(1))"
      ]
    },
    {
      "cell_type": "markdown",
      "metadata": {
        "id": "ZNLjhsm02jU1"
      },
      "source": [
        "### **Ответ:**\n",
        "\n",
        "Заплатил больше всех: **Kimball, Mr. Edwin Nelson Jr**\n",
        "\n",
        "Заплатил меньше всех: **Kelly, Miss. Mary**"
      ]
    },
    {
      "cell_type": "markdown",
      "metadata": {
        "id": "ObXTCxAQ5OJF"
      },
      "source": [
        "## $\\circ$ Какое максимальное количество родных было с выжившим пассажиром?"
      ]
    },
    {
      "cell_type": "markdown",
      "metadata": {
        "id": "pat2rah36iMP"
      },
      "source": [
        "Так как родные хранятся как в `SibSp` (братья и сестры/супруги), так и в `Parch` (родители/дети), надо учитывать оба поля."
      ]
    },
    {
      "cell_type": "code",
      "execution_count": 20,
      "metadata": {
        "colab": {
          "base_uri": "https://localhost:8080/",
          "height": 345
        },
        "id": "gzAuoGpg5gkt",
        "outputId": "efd1c854-a820-4107-bca9-5b4c25a1a939"
      },
      "outputs": [
        {
          "data": {
            "text/html": [
              "<div>\n",
              "<style scoped>\n",
              "    .dataframe tbody tr th:only-of-type {\n",
              "        vertical-align: middle;\n",
              "    }\n",
              "\n",
              "    .dataframe tbody tr th {\n",
              "        vertical-align: top;\n",
              "    }\n",
              "\n",
              "    .dataframe thead th {\n",
              "        text-align: right;\n",
              "    }\n",
              "</style>\n",
              "<table border=\"1\" class=\"dataframe\">\n",
              "  <thead>\n",
              "    <tr style=\"text-align: right;\">\n",
              "      <th></th>\n",
              "      <th>PassengerId</th>\n",
              "      <th>Survived</th>\n",
              "      <th>Pclass</th>\n",
              "      <th>Name</th>\n",
              "      <th>Sex</th>\n",
              "      <th>Age</th>\n",
              "      <th>SibSp</th>\n",
              "      <th>Parch</th>\n",
              "      <th>Ticket</th>\n",
              "      <th>Fare</th>\n",
              "      <th>Cabin</th>\n",
              "      <th>Embarked</th>\n",
              "      <th>Relatives</th>\n",
              "    </tr>\n",
              "  </thead>\n",
              "  <tbody>\n",
              "    <tr>\n",
              "      <th>0</th>\n",
              "      <td>1</td>\n",
              "      <td>0.0</td>\n",
              "      <td>3</td>\n",
              "      <td>Braund, Mr. Owen Harris</td>\n",
              "      <td>male</td>\n",
              "      <td>22.0</td>\n",
              "      <td>1</td>\n",
              "      <td>0</td>\n",
              "      <td>A/5 21171</td>\n",
              "      <td>7.2500</td>\n",
              "      <td>NaN</td>\n",
              "      <td>S</td>\n",
              "      <td>1</td>\n",
              "    </tr>\n",
              "    <tr>\n",
              "      <th>1</th>\n",
              "      <td>2</td>\n",
              "      <td>1.0</td>\n",
              "      <td>1</td>\n",
              "      <td>Cumings, Mrs. John Bradley (Florence Briggs Th...</td>\n",
              "      <td>female</td>\n",
              "      <td>38.0</td>\n",
              "      <td>1</td>\n",
              "      <td>0</td>\n",
              "      <td>PC 17599</td>\n",
              "      <td>71.2833</td>\n",
              "      <td>C85</td>\n",
              "      <td>C</td>\n",
              "      <td>1</td>\n",
              "    </tr>\n",
              "    <tr>\n",
              "      <th>2</th>\n",
              "      <td>3</td>\n",
              "      <td>1.0</td>\n",
              "      <td>3</td>\n",
              "      <td>Heikkinen, Miss. Laina</td>\n",
              "      <td>female</td>\n",
              "      <td>26.0</td>\n",
              "      <td>0</td>\n",
              "      <td>0</td>\n",
              "      <td>STON/O2. 3101282</td>\n",
              "      <td>7.9250</td>\n",
              "      <td>NaN</td>\n",
              "      <td>S</td>\n",
              "      <td>0</td>\n",
              "    </tr>\n",
              "    <tr>\n",
              "      <th>3</th>\n",
              "      <td>4</td>\n",
              "      <td>1.0</td>\n",
              "      <td>1</td>\n",
              "      <td>Futrelle, Mrs. Jacques Heath (Lily May Peel)</td>\n",
              "      <td>female</td>\n",
              "      <td>35.0</td>\n",
              "      <td>1</td>\n",
              "      <td>0</td>\n",
              "      <td>113803</td>\n",
              "      <td>53.1000</td>\n",
              "      <td>C123</td>\n",
              "      <td>S</td>\n",
              "      <td>1</td>\n",
              "    </tr>\n",
              "    <tr>\n",
              "      <th>4</th>\n",
              "      <td>5</td>\n",
              "      <td>0.0</td>\n",
              "      <td>3</td>\n",
              "      <td>Allen, Mr. William Henry</td>\n",
              "      <td>male</td>\n",
              "      <td>35.0</td>\n",
              "      <td>0</td>\n",
              "      <td>0</td>\n",
              "      <td>373450</td>\n",
              "      <td>8.0500</td>\n",
              "      <td>NaN</td>\n",
              "      <td>S</td>\n",
              "      <td>0</td>\n",
              "    </tr>\n",
              "  </tbody>\n",
              "</table>\n",
              "</div>"
            ],
            "text/plain": [
              "   PassengerId Survived Pclass  \\\n",
              "0            1      0.0      3   \n",
              "1            2      1.0      1   \n",
              "2            3      1.0      3   \n",
              "3            4      1.0      1   \n",
              "4            5      0.0      3   \n",
              "\n",
              "                                                Name     Sex   Age  SibSp  \\\n",
              "0                            Braund, Mr. Owen Harris    male  22.0      1   \n",
              "1  Cumings, Mrs. John Bradley (Florence Briggs Th...  female  38.0      1   \n",
              "2                             Heikkinen, Miss. Laina  female  26.0      0   \n",
              "3       Futrelle, Mrs. Jacques Heath (Lily May Peel)  female  35.0      1   \n",
              "4                           Allen, Mr. William Henry    male  35.0      0   \n",
              "\n",
              "   Parch            Ticket     Fare Cabin Embarked  Relatives  \n",
              "0      0         A/5 21171   7.2500   NaN        S          1  \n",
              "1      0          PC 17599  71.2833   C85        C          1  \n",
              "2      0  STON/O2. 3101282   7.9250   NaN        S          0  \n",
              "3      0            113803  53.1000  C123        S          1  \n",
              "4      0            373450   8.0500   NaN        S          0  "
            ]
          },
          "execution_count": 20,
          "metadata": {},
          "output_type": "execute_result"
        }
      ],
      "source": [
        "# Сreate a new column that will be the sum of SibSp and Parch\n",
        "data['Relatives'] = data['SibSp'] + data['Parch']\n",
        "data.head() #Check"
      ]
    },
    {
      "cell_type": "code",
      "execution_count": 21,
      "metadata": {
        "colab": {
          "base_uri": "https://localhost:8080/",
          "height": 397
        },
        "id": "LDfgwTZr693i",
        "outputId": "960cf93c-5431-4182-87ea-e9499cc268d1"
      },
      "outputs": [
        {
          "data": {
            "text/html": [
              "<div>\n",
              "<style scoped>\n",
              "    .dataframe tbody tr th:only-of-type {\n",
              "        vertical-align: middle;\n",
              "    }\n",
              "\n",
              "    .dataframe tbody tr th {\n",
              "        vertical-align: top;\n",
              "    }\n",
              "\n",
              "    .dataframe thead th {\n",
              "        text-align: right;\n",
              "    }\n",
              "</style>\n",
              "<table border=\"1\" class=\"dataframe\">\n",
              "  <thead>\n",
              "    <tr style=\"text-align: right;\">\n",
              "      <th></th>\n",
              "      <th>PassengerId</th>\n",
              "      <th>Survived</th>\n",
              "      <th>Pclass</th>\n",
              "      <th>Name</th>\n",
              "      <th>Sex</th>\n",
              "      <th>Age</th>\n",
              "      <th>SibSp</th>\n",
              "      <th>Parch</th>\n",
              "      <th>Ticket</th>\n",
              "      <th>Fare</th>\n",
              "      <th>Cabin</th>\n",
              "      <th>Embarked</th>\n",
              "      <th>Relatives</th>\n",
              "    </tr>\n",
              "  </thead>\n",
              "  <tbody>\n",
              "    <tr>\n",
              "      <th>1</th>\n",
              "      <td>2</td>\n",
              "      <td>1.0</td>\n",
              "      <td>1</td>\n",
              "      <td>Cumings, Mrs. John Bradley (Florence Briggs Th...</td>\n",
              "      <td>female</td>\n",
              "      <td>38.0</td>\n",
              "      <td>1</td>\n",
              "      <td>0</td>\n",
              "      <td>PC 17599</td>\n",
              "      <td>71.2833</td>\n",
              "      <td>C85</td>\n",
              "      <td>C</td>\n",
              "      <td>1</td>\n",
              "    </tr>\n",
              "    <tr>\n",
              "      <th>2</th>\n",
              "      <td>3</td>\n",
              "      <td>1.0</td>\n",
              "      <td>3</td>\n",
              "      <td>Heikkinen, Miss. Laina</td>\n",
              "      <td>female</td>\n",
              "      <td>26.0</td>\n",
              "      <td>0</td>\n",
              "      <td>0</td>\n",
              "      <td>STON/O2. 3101282</td>\n",
              "      <td>7.9250</td>\n",
              "      <td>NaN</td>\n",
              "      <td>S</td>\n",
              "      <td>0</td>\n",
              "    </tr>\n",
              "    <tr>\n",
              "      <th>3</th>\n",
              "      <td>4</td>\n",
              "      <td>1.0</td>\n",
              "      <td>1</td>\n",
              "      <td>Futrelle, Mrs. Jacques Heath (Lily May Peel)</td>\n",
              "      <td>female</td>\n",
              "      <td>35.0</td>\n",
              "      <td>1</td>\n",
              "      <td>0</td>\n",
              "      <td>113803</td>\n",
              "      <td>53.1000</td>\n",
              "      <td>C123</td>\n",
              "      <td>S</td>\n",
              "      <td>1</td>\n",
              "    </tr>\n",
              "    <tr>\n",
              "      <th>8</th>\n",
              "      <td>9</td>\n",
              "      <td>1.0</td>\n",
              "      <td>3</td>\n",
              "      <td>Johnson, Mrs. Oscar W (Elisabeth Vilhelmina Berg)</td>\n",
              "      <td>female</td>\n",
              "      <td>27.0</td>\n",
              "      <td>0</td>\n",
              "      <td>2</td>\n",
              "      <td>347742</td>\n",
              "      <td>11.1333</td>\n",
              "      <td>NaN</td>\n",
              "      <td>S</td>\n",
              "      <td>2</td>\n",
              "    </tr>\n",
              "    <tr>\n",
              "      <th>9</th>\n",
              "      <td>10</td>\n",
              "      <td>1.0</td>\n",
              "      <td>2</td>\n",
              "      <td>Nasser, Mrs. Nicholas (Adele Achem)</td>\n",
              "      <td>female</td>\n",
              "      <td>14.0</td>\n",
              "      <td>1</td>\n",
              "      <td>0</td>\n",
              "      <td>237736</td>\n",
              "      <td>30.0708</td>\n",
              "      <td>NaN</td>\n",
              "      <td>C</td>\n",
              "      <td>1</td>\n",
              "    </tr>\n",
              "  </tbody>\n",
              "</table>\n",
              "</div>"
            ],
            "text/plain": [
              "   PassengerId Survived Pclass  \\\n",
              "1            2      1.0      1   \n",
              "2            3      1.0      3   \n",
              "3            4      1.0      1   \n",
              "8            9      1.0      3   \n",
              "9           10      1.0      2   \n",
              "\n",
              "                                                Name     Sex   Age  SibSp  \\\n",
              "1  Cumings, Mrs. John Bradley (Florence Briggs Th...  female  38.0      1   \n",
              "2                             Heikkinen, Miss. Laina  female  26.0      0   \n",
              "3       Futrelle, Mrs. Jacques Heath (Lily May Peel)  female  35.0      1   \n",
              "8  Johnson, Mrs. Oscar W (Elisabeth Vilhelmina Berg)  female  27.0      0   \n",
              "9                Nasser, Mrs. Nicholas (Adele Achem)  female  14.0      1   \n",
              "\n",
              "   Parch            Ticket     Fare Cabin Embarked  Relatives  \n",
              "1      0          PC 17599  71.2833   C85        C          1  \n",
              "2      0  STON/O2. 3101282   7.9250   NaN        S          0  \n",
              "3      0            113803  53.1000  C123        S          1  \n",
              "8      2            347742  11.1333   NaN        S          2  \n",
              "9      0            237736  30.0708   NaN        C          1  "
            ]
          },
          "execution_count": 21,
          "metadata": {},
          "output_type": "execute_result"
        }
      ],
      "source": [
        "# Filter only the surviving passengers\n",
        "survived_passengers = data[data['Survived'] == 1]\n",
        "survived_passengers.head() #Check"
      ]
    },
    {
      "cell_type": "code",
      "execution_count": 22,
      "metadata": {
        "colab": {
          "base_uri": "https://localhost:8080/"
        },
        "id": "WNNSSKSe69tC",
        "outputId": "8434cd2f-872a-49ee-9c53-bfa0a803e9c0"
      },
      "outputs": [
        {
          "data": {
            "text/plain": [
              "np.int64(6)"
            ]
          },
          "execution_count": 22,
          "metadata": {},
          "output_type": "execute_result"
        }
      ],
      "source": [
        "# Find the maximum number of relatives among the survivors\n",
        "max_relatives = survived_passengers['Relatives'].max()\n",
        "\n",
        "# Result\n",
        "max_relatives"
      ]
    },
    {
      "cell_type": "markdown",
      "metadata": {
        "id": "U66rDSN45Loh"
      },
      "source": [
        "### **Ответ:**\n",
        "Максимальное количество родных с выжившем пассажиром: **6**"
      ]
    },
    {
      "cell_type": "markdown",
      "metadata": {
        "id": "IbPm-NZ2893-"
      },
      "source": [
        "## $\\circ$ Посчитайте среднюю стоимость билета пассажиров, для которых указана каюта (Cabin) и для тех, у кого она не указана, во сколько раз они отличаются?"
      ]
    },
    {
      "cell_type": "markdown",
      "metadata": {
        "id": "ODchsqkY-6ZK"
      },
      "source": [
        "Сначала фильтруем по наличию кабины, затем вычисляем среднюю стоимость."
      ]
    },
    {
      "cell_type": "code",
      "execution_count": 23,
      "metadata": {
        "colab": {
          "base_uri": "https://localhost:8080/"
        },
        "id": "-oNgFWBv9a-K",
        "outputId": "c714084b-f804-4439-eda1-eb14b5bd9331"
      },
      "outputs": [
        {
          "data": {
            "text/plain": [
              "(np.float64(81.92899830508475),\n",
              " np.float64(19.132707206317864),\n",
              " np.float64(4.282143526350037))"
            ]
          },
          "execution_count": 23,
          "metadata": {},
          "output_type": "execute_result"
        }
      ],
      "source": [
        "# Average ticket price for passengers with and without cabins\n",
        "fare_with_cabin = data[data['Cabin'].notna()]['Fare'].mean()\n",
        "fare_without_cabin = data[data['Cabin'].isna()]['Fare'].mean()\n",
        "\n",
        "# How many times they differs\n",
        "diff = fare_with_cabin / fare_without_cabin\n",
        "\n",
        "fare_with_cabin, fare_without_cabin, diff"
      ]
    },
    {
      "cell_type": "markdown",
      "metadata": {
        "id": "sDRAhkLr8_O2"
      },
      "source": [
        "### **Ответ:**\n",
        "Средняя стоимость билета для пассажиров с каютой: **81.93**\n",
        "\n",
        "Средняя стоимость билета для пассажиров без каюты: **19.13**\n",
        "\n",
        "Разница в стоимости: пассажиры с каютой платили больше,чем пассажиры без каюты в **4.28 раза**"
      ]
    },
    {
      "cell_type": "markdown",
      "metadata": {
        "id": "gYuWAxT5_6Xk"
      },
      "source": [
        "# $\\blacksquare$ Визуализация"
      ]
    },
    {
      "cell_type": "markdown",
      "metadata": {
        "id": "TwoQrJ2LCYJn"
      },
      "source": [
        "## $\\circ$ Необходимые графики:\n",
        "\n",
        "* Необходимо построить по данным таблицы 10 различных графиков на\n",
        "своё усмотрение и фантазию. Использовать можно любые средства, однако рекомендуется Seaborn и Plotly.\n",
        "* 5 графиков должно быть интерактивными\n",
        "* 1 график необходимо сделать 3D\n",
        "* 8 перечисленных обязательных графиков"
      ]
    },
    {
      "cell_type": "markdown",
      "metadata": {
        "id": "Ftq_A-M8Nitw"
      },
      "source": [
        "### $\\circ$ Необходимые импорты:"
      ]
    },
    {
      "cell_type": "code",
      "execution_count": 24,
      "metadata": {
        "id": "EvogiNwMDG5K"
      },
      "outputs": [],
      "source": [
        "import plotly.express as px\n",
        "import matplotlib.pyplot as plt\n",
        "import seaborn as sns\n",
        "import plotly.graph_objects as go\n",
        "\n",
        "import warnings\n",
        "warnings.simplefilter(action='ignore', category=FutureWarning)"
      ]
    },
    {
      "cell_type": "markdown",
      "metadata": {
        "id": "0QASGMl-eFTD"
      },
      "source": [
        "## $\\circ$ kdeplot"
      ]
    },
    {
      "cell_type": "markdown",
      "metadata": {
        "id": "0N7USgI0gcy8"
      },
      "source": [
        "Построим 2D гистограмму с контурами по Возрасту, Стоимости билета и по Выживаемости"
      ]
    },
    {
      "cell_type": "code",
      "execution_count": 25,
      "metadata": {
        "colab": {
          "base_uri": "https://localhost:8080/",
          "height": 564
        },
        "id": "nejh4tfecL7T",
        "outputId": "8deb2d9d-9c83-498c-bc5d-2daefc72f645"
      },
      "outputs": [
        {
          "data": {
            "image/png": "[encoded data removed]",
            "text/plain": [
              "<Figure size 1000x600 with 1 Axes>"
            ]
          },
          "metadata": {},
          "output_type": "display_data"
        }
      ],
      "source": [
        "plt.figure(figsize=(10, 6))\n",
        "sns.kdeplot(x='Age', y='Fare', hue='Survived', data=data, fill=True, thresh=0.2)\n",
        "\n",
        "plt.title(\"2D histogram with contours: Age vs Ticket Price by Survival rate\")\n",
        "plt.xlabel(\"Age\")\n",
        "plt.ylabel(\"Fare\")\n",
        "\n",
        "plt.show()"
      ]
    },
    {
      "cell_type": "markdown",
      "metadata": {
        "id": "zHMIiWD6fxL6"
      },
      "source": [
        "## $\\circ$ FacetGrid"
      ]
    },
    {
      "cell_type": "markdown",
      "metadata": {
        "id": "qvGG6tFOgt9-"
      },
      "source": [
        "На графике показано распределение возраста пассажиров Титаника в зависимости от их выживаемости.\n",
        "\n",
        "Данные разделены на два подграфика, в которых отображены гистограммы возраста для каждой категории выживаемости: Выжили и Не Выжили"
      ]
    },
    {
      "cell_type": "code",
      "execution_count": 26,
      "metadata": {
        "colab": {
          "base_uri": "https://localhost:8080/",
          "height": 307
        },
        "id": "_RO0Rl_Gfnv-",
        "outputId": "436e67d0-3aa2-4b5a-96d3-8e0803a780f6"
      },
      "outputs": [
        {
          "data": {
            "image/png": "[encoded data removed]",
            "text/plain": [
              "<Figure size 600x300 with 2 Axes>"
            ]
          },
          "metadata": {},
          "output_type": "display_data"
        }
      ],
      "source": [
        "fig = sns.FacetGrid(data, col='Survived')\n",
        "fig.map(sns.histplot, 'Age')\n",
        "\n",
        "plt.show()"
      ]
    },
    {
      "cell_type": "markdown",
      "metadata": {
        "id": "mtCO54h_A6sI"
      },
      "source": [
        "## $\\circ$ 3D график (Интерактивный)\n"
      ]
    },
    {
      "cell_type": "code",
      "execution_count": 27,
      "metadata": {
        "colab": {
          "base_uri": "https://localhost:8080/",
          "height": 542
        },
        "id": "QWgReKrYh_bX",
        "outputId": "3e3d2161-7dde-4a6c-904c-adf83fbccf00"
      },
      "outputs": [
        {
          "data": {
            "application/vnd.plotly.v1+json": {
              "config": {
                "plotlyServerURL": "https://plot.ly"
              },
              "data": [
                {
                  "hovertemplate": "Survival Status=0.0<br>Age=%{x}<br>Fare=%{y}<br>PClass=%{z}<extra></extra>",
                  "legendgroup": "0.0",
                  "marker": {
                    "color": "#636efa",
                    "symbol": "circle"
                  },
                  "mode": "markers",
                  "name": "0.0",
                  "scene": "scene",
                  "showlegend": true,
                  "type": "scatter3d",
                  "x": [
                    22,
                    35,
                    null,
                    54,
                    2,
                    20,
                    39,
                    14,
                    2,
                    31,
                    35,
                    8,
                    null,
                    19,
                    null,
                    40,
                    66,
                    28,
                    42,
                    21,
                    18,
                    40,
                    27,
                    null,
                    null,
                    null,
                    null,
                    18,
                    7,
                    21,
                    65,
                    28.5,
                    11,
                    22,
                    45,
                    4,
                    null,
                    19,
                    26,
                    32,
                    16,
                    21,
                    26,
                    25,
                    null,
                    null,
                    22,
                    28,
                    16,
                    null,
                    24,
                    29,
                    20,
                    46,
                    26,
                    59,
                    null,
                    71,
                    34,
                    28,
                    null,
                    21,
                    33,
                    37,
                    28,
                    38,
                    47,
                    14.5,
                    22,
                    20,
                    17,
                    21,
                    70.5,
                    29,
                    24,
                    2,
                    21,
                    null,
                    32.5,
                    54,
                    null,
                    45,
                    33,
                    20,
                    47,
                    25,
                    23,
                    37,
                    16,
                    24,
                    null,
                    19,
                    18,
                    19,
                    9,
                    36.5,
                    42,
                    51,
                    55.5,
                    40.5,
                    null,
                    51,
                    30,
                    null,
                    null,
                    44,
                    26,
                    17,
                    1,
                    45,
                    null,
                    28,
                    61,
                    4,
                    21,
                    56,
                    18,
                    null,
                    50,
                    30,
                    36,
                    null,
                    null,
                    9,
                    null,
                    40,
                    36,
                    19,
                    null,
                    42,
                    24,
                    28,
                    null,
                    34,
                    45.5,
                    2,
                    32,
                    24,
                    22,
                    30,
                    null,
                    42,
                    30,
                    27,
                    51,
                    null,
                    22,
                    20.5,
                    18,
                    null,
                    29,
                    59,
                    24,
                    null,
                    44,
                    19,
                    33,
                    null,
                    29,
                    22,
                    30,
                    44,
                    25,
                    54,
                    null,
                    29,
                    62,
                    30,
                    41,
                    null,
                    52,
                    40,
                    null,
                    36,
                    16,
                    null,
                    37,
                    45,
                    null,
                    7,
                    65,
                    28,
                    16,
                    null,
                    33,
                    22,
                    36,
                    24,
                    24,
                    null,
                    23.5,
                    2,
                    19,
                    null,
                    30,
                    26,
                    28,
                    43,
                    54,
                    22,
                    27,
                    null,
                    61,
                    45.5,
                    38,
                    16,
                    null,
                    29,
                    45,
                    28,
                    25,
                    36,
                    42,
                    23,
                    null,
                    15,
                    25,
                    null,
                    28,
                    38,
                    40,
                    29,
                    45,
                    35,
                    null,
                    30,
                    18,
                    19,
                    22,
                    3,
                    27,
                    20,
                    19,
                    32,
                    null,
                    18,
                    1,
                    null,
                    28,
                    22,
                    31,
                    46,
                    23,
                    26,
                    21,
                    28,
                    20,
                    34,
                    51,
                    21,
                    null,
                    null,
                    null,
                    null,
                    null,
                    30,
                    10,
                    null,
                    21,
                    29,
                    28,
                    18,
                    null,
                    null,
                    17,
                    50,
                    21,
                    64,
                    31,
                    20,
                    25,
                    36,
                    null,
                    30,
                    null,
                    65,
                    null,
                    34,
                    47,
                    48,
                    null,
                    38,
                    null,
                    56,
                    null,
                    null,
                    38,
                    22,
                    null,
                    34,
                    29,
                    22,
                    9,
                    null,
                    50,
                    null,
                    58,
                    30,
                    null,
                    21,
                    55,
                    71,
                    21,
                    null,
                    null,
                    25,
                    24,
                    17,
                    21,
                    null,
                    37,
                    18,
                    28,
                    null,
                    24,
                    47,
                    null,
                    32,
                    22,
                    null,
                    null,
                    40.5,
                    null,
                    39,
                    23,
                    null,
                    17,
                    30,
                    45,
                    null,
                    9,
                    11,
                    50,
                    64,
                    33,
                    27,
                    null,
                    62,
                    null,
                    null,
                    40,
                    28,
                    null,
                    null,
                    24,
                    19,
                    29,
                    null,
                    16,
                    19,
                    null,
                    54,
                    36,
                    null,
                    47,
                    22,
                    null,
                    35,
                    47,
                    null,
                    37,
                    36,
                    49,
                    null,
                    null,
                    null,
                    44,
                    36,
                    30,
                    39,
                    null,
                    null,
                    35,
                    34,
                    26,
                    26,
                    27,
                    21,
                    21,
                    61,
                    57,
                    26,
                    null,
                    51,
                    null,
                    9,
                    32,
                    31,
                    41,
                    null,
                    20,
                    2,
                    19,
                    null,
                    null,
                    21,
                    18,
                    24,
                    null,
                    32,
                    23,
                    58,
                    40,
                    47,
                    36,
                    32,
                    25,
                    null,
                    43,
                    31,
                    70,
                    null,
                    18,
                    24.5,
                    43,
                    null,
                    20,
                    14,
                    60,
                    25,
                    14,
                    19,
                    18,
                    25,
                    60,
                    52,
                    44,
                    49,
                    42,
                    18,
                    25,
                    26,
                    39,
                    null,
                    29,
                    52,
                    19,
                    null,
                    33,
                    17,
                    34,
                    50,
                    20,
                    25,
                    25,
                    11,
                    null,
                    23,
                    23,
                    28.5,
                    48,
                    null,
                    null,
                    36,
                    24,
                    70,
                    16,
                    19,
                    31,
                    33,
                    23,
                    28,
                    18,
                    34,
                    null,
                    41,
                    16,
                    null,
                    30.5,
                    null,
                    32,
                    24,
                    48,
                    57,
                    null,
                    18,
                    null,
                    null,
                    29,
                    null,
                    25,
                    25,
                    8,
                    46,
                    null,
                    16,
                    null,
                    null,
                    25,
                    39,
                    30,
                    30,
                    34,
                    31,
                    39,
                    18,
                    39,
                    26,
                    39,
                    35,
                    6,
                    30.5,
                    null,
                    23,
                    31,
                    43,
                    10,
                    38,
                    2,
                    null,
                    null,
                    null,
                    23,
                    18,
                    21,
                    null,
                    20,
                    16,
                    34.5,
                    17,
                    42,
                    null,
                    35,
                    28,
                    4,
                    74,
                    9,
                    44,
                    null,
                    41,
                    21,
                    null,
                    24,
                    31,
                    null,
                    26,
                    33,
                    47,
                    20,
                    19,
                    null,
                    33,
                    22,
                    28,
                    25,
                    39,
                    27,
                    null,
                    32
                  ],
                  "y": [
                    7.25,
                    8.05,
                    8.4583,
                    51.8625,
                    21.075,
                    8.05,
                    31.275,
                    7.8542,
                    29.125,
                    18,
                    26,
                    21.075,
                    7.225,
                    263,
                    7.8958,
                    27.7208,
                    10.5,
                    82.1708,
                    52,
                    8.05,
                    18,
                    9.475,
                    21,
                    7.8958,
                    8.05,
                    15.5,
                    21.6792,
                    17.8,
                    39.6875,
                    7.8,
                    61.9792,
                    7.2292,
                    46.9,
                    7.2292,
                    83.475,
                    27.9,
                    27.7208,
                    8.1583,
                    8.6625,
                    10.5,
                    46.9,
                    73.5,
                    14.4542,
                    7.65,
                    7.8958,
                    8.05,
                    9,
                    47.1,
                    34.375,
                    8.05,
                    8.05,
                    8.05,
                    7.8542,
                    61.175,
                    20.575,
                    7.25,
                    8.05,
                    34.6542,
                    26,
                    7.8958,
                    7.8958,
                    77.2875,
                    8.6542,
                    7.925,
                    7.8958,
                    7.8958,
                    52,
                    14.4542,
                    8.05,
                    9.825,
                    14.4583,
                    7.925,
                    7.75,
                    21,
                    247.5208,
                    31.275,
                    73.5,
                    8.05,
                    30.0708,
                    77.2875,
                    7.75,
                    6.975,
                    7.8958,
                    7.05,
                    14.5,
                    13,
                    15.0458,
                    53.1,
                    9.2167,
                    79.2,
                    15.2458,
                    6.75,
                    11.5,
                    36.75,
                    34.375,
                    26,
                    13,
                    12.525,
                    8.05,
                    14.5,
                    7.3125,
                    61.3792,
                    8.05,
                    8.6625,
                    69.55,
                    16.1,
                    7.775,
                    8.6625,
                    39.6875,
                    27.9,
                    25.925,
                    56.4958,
                    33.5,
                    29.125,
                    7.925,
                    30.6958,
                    7.8542,
                    25.4667,
                    28.7125,
                    13,
                    0,
                    69.55,
                    15.05,
                    31.3875,
                    50,
                    15.5,
                    7.8958,
                    13,
                    7.75,
                    8.4042,
                    13,
                    9.5,
                    69.55,
                    6.4958,
                    7.225,
                    10.4625,
                    15.85,
                    7.05,
                    7.25,
                    13,
                    7.75,
                    27,
                    10.5,
                    13,
                    8.05,
                    7.8958,
                    9.35,
                    7.25,
                    13,
                    25.4667,
                    7.775,
                    13.5,
                    10.5,
                    7.55,
                    26,
                    10.5,
                    12.275,
                    14.4542,
                    10.5,
                    7.125,
                    7.225,
                    90,
                    7.775,
                    26,
                    7.25,
                    10.4625,
                    26.55,
                    16.1,
                    20.2125,
                    7.75,
                    79.65,
                    0,
                    7.75,
                    10.5,
                    39.6875,
                    31,
                    29.7,
                    7.75,
                    0,
                    29.125,
                    7.75,
                    7.8542,
                    9.5,
                    26,
                    8.6625,
                    7.8958,
                    12.875,
                    8.85,
                    7.8958,
                    27.7208,
                    7.2292,
                    151.55,
                    0,
                    8.05,
                    24,
                    26,
                    7.8958,
                    26.25,
                    14,
                    7.25,
                    7.8958,
                    69.55,
                    6.2375,
                    28.5,
                    153.4625,
                    18,
                    7.8958,
                    66.6,
                    35.5,
                    13,
                    13,
                    13,
                    8.6625,
                    9.225,
                    35,
                    7.2292,
                    17.8,
                    7.225,
                    9.5,
                    13,
                    27.9,
                    27.7208,
                    14.4542,
                    7.05,
                    15.5,
                    7.25,
                    6.4958,
                    8.05,
                    135.6333,
                    21.075,
                    211.5,
                    4.0125,
                    7.775,
                    7.925,
                    7.8958,
                    73.5,
                    46.9,
                    7.7292,
                    7.925,
                    7.7958,
                    7.8542,
                    26,
                    10.5,
                    8.05,
                    9.825,
                    15.85,
                    8.6625,
                    21,
                    7.75,
                    7.775,
                    25.4667,
                    7.8958,
                    6.8583,
                    0,
                    8.05,
                    13,
                    24.15,
                    7.8958,
                    7.7333,
                    7.875,
                    14.4,
                    20.2125,
                    7.25,
                    7.75,
                    7.125,
                    55.9,
                    34.375,
                    263,
                    10.5,
                    9.5,
                    7.775,
                    27.75,
                    19.9667,
                    27.75,
                    8.05,
                    26.55,
                    7.75,
                    8.05,
                    38.5,
                    13,
                    8.05,
                    7.05,
                    0,
                    26.55,
                    7.725,
                    7.25,
                    8.6625,
                    9.8375,
                    52,
                    21,
                    7.0458,
                    7.5208,
                    46.9,
                    0,
                    8.05,
                    25.4667,
                    29.7,
                    8.05,
                    19.9667,
                    7.25,
                    30.5,
                    49.5042,
                    8.05,
                    14.4583,
                    15.1,
                    151.55,
                    7.7958,
                    8.6625,
                    7.75,
                    7.6292,
                    9.5875,
                    108.9,
                    22.525,
                    8.05,
                    7.4958,
                    34.0208,
                    24.15,
                    7.8958,
                    7.8958,
                    7.225,
                    7.2292,
                    7.75,
                    221.7792,
                    7.925,
                    11.5,
                    7.2292,
                    7.2292,
                    8.6625,
                    26.55,
                    14.5,
                    31.275,
                    31.275,
                    106.425,
                    26,
                    20.525,
                    26,
                    7.8292,
                    26.55,
                    227.525,
                    7.75,
                    7.8958,
                    13.5,
                    8.05,
                    8.05,
                    24.15,
                    7.8958,
                    21.075,
                    7.2292,
                    8.05,
                    14.5,
                    14.4583,
                    26,
                    40.125,
                    8.7125,
                    15,
                    8.05,
                    8.05,
                    7.125,
                    7.25,
                    7.75,
                    26,
                    24.15,
                    0,
                    7.225,
                    7.8958,
                    42.4,
                    8.05,
                    15.55,
                    7.8958,
                    31.275,
                    7.05,
                    7.75,
                    8.05,
                    14.4,
                    16.1,
                    10.5,
                    14.4542,
                    7.8542,
                    16.1,
                    32.3208,
                    12.35,
                    7.8958,
                    7.7333,
                    7.0542,
                    0,
                    27.9,
                    7.925,
                    26.25,
                    39.6875,
                    16.1,
                    7.8542,
                    27.9,
                    7.8958,
                    7.55,
                    7.8958,
                    8.4333,
                    6.75,
                    73.5,
                    7.8958,
                    15.5,
                    13,
                    113.275,
                    7.225,
                    25.5875,
                    7.4958,
                    73.5,
                    13,
                    7.775,
                    8.05,
                    52,
                    10.5,
                    0,
                    7.775,
                    8.05,
                    46.9,
                    8.1375,
                    9.225,
                    46.9,
                    39,
                    41.5792,
                    39.6875,
                    10.1708,
                    7.7958,
                    7.225,
                    26.55,
                    13.5,
                    8.05,
                    110.8833,
                    7.65,
                    14.4542,
                    7.7417,
                    7.8542,
                    26,
                    26.55,
                    9.4833,
                    13,
                    7.65,
                    15.5,
                    7.775,
                    7.0542,
                    13,
                    13,
                    8.6625,
                    26,
                    7.925,
                    18.7875,
                    0,
                    13,
                    13,
                    16.1,
                    34.375,
                    7.8958,
                    7.8958,
                    78.85,
                    16.1,
                    71,
                    20.25,
                    53.1,
                    7.75,
                    9.5,
                    7.8958,
                    7.7958,
                    11.5,
                    8.05,
                    14.5,
                    7.125,
                    7.775,
                    39.6,
                    7.75,
                    24.15,
                    8.3625,
                    9.5,
                    7.8542,
                    10.5,
                    7.225,
                    7.75,
                    7.75,
                    7.7375,
                    30,
                    23.45,
                    7.05,
                    7.25,
                    29.125,
                    79.2,
                    7.75,
                    26,
                    69.55,
                    30.6958,
                    7.8958,
                    13,
                    7.2292,
                    24.15,
                    13,
                    7.775,
                    0,
                    7.775,
                    13,
                    7.8875,
                    24.15,
                    10.5,
                    31.275,
                    8.05,
                    0,
                    7.925,
                    37.0042,
                    6.45,
                    27.9,
                    0,
                    39.6875,
                    6.95,
                    56.4958,
                    7.2292,
                    7.8542,
                    8.3,
                    8.6625,
                    8.05,
                    7.925,
                    10.5,
                    6.4375,
                    8.6625,
                    7.55,
                    69.55,
                    7.8958,
                    33,
                    31.275,
                    7.775,
                    15.2458,
                    26,
                    7.2292,
                    14.1083,
                    11.5,
                    69.55,
                    13,
                    50.4958,
                    9.5,
                    7.8958,
                    5,
                    9,
                    9.8458,
                    7.8958,
                    7.8958,
                    7.8958,
                    10.5167,
                    10.5,
                    7.05,
                    29.125,
                    13,
                    23.45,
                    7.75
                  ],
                  "z": [
                    3,
                    3,
                    3,
                    1,
                    3,
                    3,
                    3,
                    3,
                    3,
                    3,
                    2,
                    3,
                    3,
                    1,
                    3,
                    1,
                    2,
                    1,
                    1,
                    3,
                    3,
                    3,
                    2,
                    3,
                    3,
                    3,
                    3,
                    3,
                    3,
                    3,
                    1,
                    3,
                    3,
                    3,
                    1,
                    3,
                    1,
                    3,
                    3,
                    2,
                    3,
                    2,
                    3,
                    3,
                    3,
                    3,
                    3,
                    1,
                    3,
                    3,
                    3,
                    3,
                    3,
                    1,
                    3,
                    3,
                    3,
                    1,
                    2,
                    3,
                    3,
                    1,
                    3,
                    3,
                    3,
                    3,
                    1,
                    3,
                    3,
                    3,
                    3,
                    3,
                    3,
                    2,
                    1,
                    3,
                    2,
                    3,
                    2,
                    1,
                    3,
                    3,
                    3,
                    3,
                    3,
                    2,
                    2,
                    1,
                    3,
                    1,
                    3,
                    3,
                    2,
                    2,
                    3,
                    2,
                    2,
                    2,
                    3,
                    3,
                    3,
                    1,
                    3,
                    3,
                    3,
                    3,
                    3,
                    3,
                    3,
                    3,
                    1,
                    3,
                    1,
                    3,
                    3,
                    1,
                    3,
                    3,
                    1,
                    2,
                    3,
                    3,
                    2,
                    3,
                    1,
                    3,
                    3,
                    2,
                    3,
                    3,
                    2,
                    3,
                    3,
                    3,
                    3,
                    3,
                    3,
                    3,
                    3,
                    2,
                    3,
                    2,
                    2,
                    2,
                    3,
                    3,
                    3,
                    3,
                    2,
                    3,
                    3,
                    2,
                    2,
                    3,
                    2,
                    2,
                    2,
                    3,
                    2,
                    3,
                    3,
                    1,
                    3,
                    2,
                    3,
                    3,
                    1,
                    3,
                    3,
                    3,
                    1,
                    1,
                    3,
                    2,
                    3,
                    1,
                    1,
                    3,
                    2,
                    3,
                    3,
                    3,
                    3,
                    1,
                    3,
                    3,
                    2,
                    3,
                    3,
                    1,
                    3,
                    1,
                    3,
                    3,
                    2,
                    2,
                    3,
                    2,
                    2,
                    3,
                    3,
                    3,
                    3,
                    1,
                    1,
                    3,
                    3,
                    1,
                    1,
                    2,
                    2,
                    2,
                    3,
                    3,
                    1,
                    3,
                    3,
                    3,
                    3,
                    2,
                    3,
                    2,
                    3,
                    3,
                    3,
                    3,
                    3,
                    3,
                    1,
                    3,
                    1,
                    3,
                    3,
                    3,
                    3,
                    2,
                    3,
                    3,
                    3,
                    3,
                    3,
                    2,
                    2,
                    3,
                    3,
                    3,
                    3,
                    2,
                    3,
                    3,
                    3,
                    3,
                    3,
                    2,
                    3,
                    2,
                    3,
                    3,
                    3,
                    3,
                    3,
                    3,
                    3,
                    3,
                    3,
                    1,
                    3,
                    1,
                    2,
                    3,
                    3,
                    2,
                    3,
                    1,
                    3,
                    1,
                    3,
                    3,
                    1,
                    2,
                    3,
                    3,
                    2,
                    1,
                    3,
                    3,
                    3,
                    3,
                    1,
                    2,
                    3,
                    3,
                    3,
                    2,
                    3,
                    3,
                    1,
                    3,
                    3,
                    3,
                    1,
                    1,
                    3,
                    3,
                    3,
                    1,
                    3,
                    3,
                    3,
                    3,
                    3,
                    1,
                    3,
                    3,
                    3,
                    1,
                    3,
                    3,
                    3,
                    3,
                    3,
                    3,
                    1,
                    3,
                    2,
                    3,
                    3,
                    3,
                    1,
                    3,
                    3,
                    3,
                    1,
                    1,
                    3,
                    2,
                    3,
                    1,
                    1,
                    3,
                    3,
                    2,
                    3,
                    3,
                    3,
                    3,
                    3,
                    3,
                    3,
                    3,
                    3,
                    2,
                    1,
                    3,
                    2,
                    3,
                    3,
                    3,
                    3,
                    3,
                    2,
                    3,
                    3,
                    3,
                    3,
                    1,
                    3,
                    3,
                    3,
                    3,
                    3,
                    3,
                    3,
                    3,
                    3,
                    2,
                    3,
                    3,
                    3,
                    1,
                    2,
                    3,
                    3,
                    3,
                    1,
                    3,
                    3,
                    2,
                    3,
                    3,
                    3,
                    3,
                    3,
                    3,
                    3,
                    3,
                    3,
                    2,
                    3,
                    3,
                    2,
                    1,
                    3,
                    1,
                    3,
                    2,
                    2,
                    3,
                    3,
                    1,
                    2,
                    2,
                    3,
                    3,
                    3,
                    3,
                    3,
                    3,
                    2,
                    2,
                    3,
                    3,
                    3,
                    3,
                    1,
                    2,
                    3,
                    1,
                    3,
                    3,
                    3,
                    3,
                    2,
                    1,
                    3,
                    2,
                    3,
                    3,
                    3,
                    3,
                    2,
                    2,
                    3,
                    2,
                    3,
                    3,
                    2,
                    2,
                    2,
                    3,
                    3,
                    3,
                    3,
                    1,
                    3,
                    1,
                    3,
                    1,
                    3,
                    3,
                    3,
                    3,
                    2,
                    3,
                    3,
                    3,
                    3,
                    1,
                    3,
                    3,
                    3,
                    3,
                    3,
                    2,
                    3,
                    3,
                    3,
                    3,
                    1,
                    3,
                    3,
                    3,
                    3,
                    1,
                    3,
                    2,
                    3,
                    1,
                    3,
                    2,
                    3,
                    3,
                    2,
                    3,
                    1,
                    3,
                    2,
                    3,
                    3,
                    2,
                    3,
                    3,
                    1,
                    3,
                    2,
                    3,
                    3,
                    1,
                    3,
                    3,
                    3,
                    3,
                    3,
                    3,
                    3,
                    3,
                    3,
                    2,
                    3,
                    3,
                    3,
                    3,
                    3,
                    2,
                    3,
                    3,
                    3,
                    2,
                    3,
                    3,
                    2,
                    3,
                    2,
                    1,
                    3,
                    3,
                    1,
                    3,
                    3,
                    3,
                    3,
                    3,
                    3,
                    2,
                    3,
                    3,
                    2,
                    3,
                    3
                  ]
                },
                {
                  "hovertemplate": "Survival Status=1.0<br>Age=%{x}<br>Fare=%{y}<br>PClass=%{z}<extra></extra>",
                  "legendgroup": "1.0",
                  "marker": {
                    "color": "#EF553B",
                    "symbol": "circle"
                  },
                  "mode": "markers",
                  "name": "1.0",
                  "scene": "scene",
                  "showlegend": true,
                  "type": "scatter3d",
                  "x": [
                    38,
                    26,
                    35,
                    27,
                    14,
                    4,
                    58,
                    55,
                    null,
                    null,
                    34,
                    15,
                    28,
                    38,
                    null,
                    null,
                    null,
                    null,
                    14,
                    3,
                    19,
                    null,
                    49,
                    29,
                    null,
                    21,
                    5,
                    38,
                    null,
                    29,
                    17,
                    32,
                    0.83,
                    30,
                    29,
                    null,
                    17,
                    33,
                    23,
                    23,
                    34,
                    21,
                    null,
                    null,
                    32.5,
                    12,
                    24,
                    null,
                    29,
                    19,
                    22,
                    24,
                    27,
                    22,
                    16,
                    40,
                    9,
                    null,
                    1,
                    1,
                    4,
                    null,
                    45,
                    32,
                    19,
                    3,
                    44,
                    58,
                    null,
                    18,
                    26,
                    16,
                    40,
                    35,
                    31,
                    27,
                    32,
                    16,
                    38,
                    19,
                    35,
                    5,
                    8,
                    null,
                    24,
                    37,
                    29,
                    null,
                    30,
                    35,
                    50,
                    3,
                    25,
                    58,
                    35,
                    25,
                    41,
                    null,
                    63,
                    35,
                    19,
                    30,
                    42,
                    22,
                    26,
                    19,
                    null,
                    50,
                    null,
                    null,
                    null,
                    0.92,
                    null,
                    17,
                    30,
                    24,
                    18,
                    26,
                    24,
                    31,
                    40,
                    30,
                    22,
                    36,
                    36,
                    31,
                    16,
                    null,
                    null,
                    41,
                    45,
                    2,
                    24,
                    24,
                    40,
                    null,
                    3,
                    22,
                    null,
                    null,
                    60,
                    null,
                    null,
                    24,
                    25,
                    null,
                    22,
                    42,
                    1,
                    35,
                    36,
                    17,
                    36,
                    21,
                    23,
                    24,
                    28,
                    39,
                    3,
                    33,
                    44,
                    34,
                    18,
                    28,
                    19,
                    32,
                    28,
                    null,
                    42,
                    14,
                    24,
                    45,
                    28,
                    null,
                    4,
                    13,
                    34,
                    5,
                    52,
                    49,
                    29,
                    null,
                    50,
                    48,
                    0.75,
                    33,
                    23,
                    2,
                    63,
                    25,
                    35,
                    9,
                    54,
                    16,
                    33,
                    null,
                    26,
                    29,
                    36,
                    54,
                    34,
                    36,
                    30,
                    44,
                    50,
                    2,
                    null,
                    7,
                    30,
                    22,
                    36,
                    32,
                    19,
                    null,
                    8,
                    17,
                    22,
                    22,
                    48,
                    39,
                    36,
                    32,
                    62,
                    53,
                    36,
                    null,
                    34,
                    39,
                    32,
                    25,
                    39,
                    18,
                    60,
                    52,
                    null,
                    49,
                    24,
                    35,
                    27,
                    22,
                    40,
                    null,
                    24,
                    4,
                    42,
                    20,
                    21,
                    80,
                    32,
                    28,
                    24,
                    null,
                    0.75,
                    48,
                    56,
                    23,
                    18,
                    null,
                    50,
                    20,
                    null,
                    40,
                    31,
                    18,
                    36,
                    27,
                    15,
                    31,
                    4,
                    null,
                    null,
                    18,
                    35,
                    45,
                    42,
                    22,
                    null,
                    24,
                    48,
                    38,
                    27,
                    6,
                    27,
                    30,
                    null,
                    29,
                    35,
                    null,
                    21,
                    31,
                    30,
                    4,
                    6,
                    48,
                    0.67,
                    33,
                    20,
                    36,
                    51,
                    54,
                    5,
                    43,
                    13,
                    17,
                    18,
                    1,
                    49,
                    31,
                    31,
                    11,
                    0.42,
                    27,
                    33,
                    52,
                    27,
                    27,
                    1,
                    null,
                    62,
                    15,
                    0.83,
                    39,
                    32,
                    null,
                    30,
                    null,
                    16,
                    18,
                    45,
                    51,
                    24,
                    48,
                    42,
                    27,
                    4,
                    47,
                    28,
                    15,
                    56,
                    25,
                    19,
                    26
                  ],
                  "y": [
                    71.2833,
                    7.925,
                    53.1,
                    11.1333,
                    30.0708,
                    16.7,
                    26.55,
                    16,
                    13,
                    7.225,
                    13,
                    8.0292,
                    35.5,
                    31.3875,
                    7.8792,
                    146.5208,
                    7.75,
                    7.2292,
                    11.2417,
                    41.5792,
                    7.8792,
                    7.75,
                    76.7292,
                    26,
                    35.5,
                    10.5,
                    27.75,
                    80,
                    15.2458,
                    10.5,
                    7.925,
                    56.4958,
                    29,
                    12.475,
                    9.5,
                    7.7875,
                    10.5,
                    15.85,
                    263,
                    63.3583,
                    23,
                    7.65,
                    7.775,
                    24.15,
                    13,
                    11.2417,
                    7.1417,
                    22.3583,
                    26,
                    26.2833,
                    7.75,
                    15.85,
                    7.7958,
                    66.6,
                    7.7333,
                    15.75,
                    20.525,
                    55,
                    11.1333,
                    39,
                    22.025,
                    15.5,
                    26.55,
                    13,
                    7.8542,
                    26,
                    27.7208,
                    146.5208,
                    7.75,
                    8.05,
                    18.7875,
                    7.75,
                    31,
                    21,
                    113.275,
                    7.925,
                    76.2917,
                    8.05,
                    90,
                    10.5,
                    83.475,
                    31.3875,
                    26.25,
                    15.5,
                    14.5,
                    52.5542,
                    15.2458,
                    79.2,
                    86.5,
                    512.3292,
                    26,
                    31.3875,
                    7.775,
                    153.4625,
                    135.6333,
                    0,
                    19.5,
                    7.75,
                    77.9583,
                    20.25,
                    8.05,
                    9.5,
                    13,
                    7.75,
                    78.85,
                    91.0792,
                    30.5,
                    247.5208,
                    7.75,
                    23.25,
                    12.35,
                    151.55,
                    110.8833,
                    108.9,
                    56.9292,
                    83.1583,
                    262.375,
                    7.8542,
                    26,
                    164.8667,
                    134.5,
                    12.35,
                    29,
                    135.6333,
                    13,
                    20.525,
                    57.9792,
                    23.25,
                    133.65,
                    134.5,
                    8.05,
                    26,
                    263,
                    13,
                    13,
                    16.1,
                    15.9,
                    55,
                    7.8792,
                    7.8792,
                    75.25,
                    7.2292,
                    7.75,
                    69.3,
                    55.4417,
                    82.1708,
                    7.25,
                    227.525,
                    15.7417,
                    52,
                    13,
                    12,
                    120,
                    7.7958,
                    113.275,
                    16.7,
                    12.65,
                    7.925,
                    18.75,
                    90,
                    7.925,
                    32.5,
                    13,
                    26,
                    26,
                    8.05,
                    26.55,
                    16.1,
                    26,
                    120,
                    18.75,
                    26.25,
                    13,
                    8.1125,
                    81.8583,
                    19.5,
                    26.55,
                    19.2583,
                    30.5,
                    89.1042,
                    7.8958,
                    51.8625,
                    10.5,
                    26.55,
                    19.2583,
                    27.75,
                    13.7917,
                    12.2875,
                    9.5875,
                    91.0792,
                    90,
                    15.9,
                    78.2667,
                    86.5,
                    26,
                    26.55,
                    56.4958,
                    7.75,
                    26.2875,
                    59.4,
                    10.5,
                    26,
                    93.5,
                    57.9792,
                    10.5,
                    26,
                    22.3583,
                    26.25,
                    106.425,
                    49.5,
                    71,
                    26,
                    26,
                    13.8625,
                    36.75,
                    110.8833,
                    7.225,
                    7.775,
                    39.6,
                    79.65,
                    17.4,
                    7.8542,
                    10.5,
                    51.4792,
                    26.3875,
                    7.75,
                    13,
                    55.9,
                    7.925,
                    30,
                    110.8833,
                    79.65,
                    79.2,
                    78.2667,
                    33,
                    56.9292,
                    27,
                    26.55,
                    30.5,
                    41.5792,
                    153.4625,
                    15.5,
                    65,
                    39,
                    52.5542,
                    15.7417,
                    77.9583,
                    30,
                    30.5,
                    13,
                    69.3,
                    56.4958,
                    19.2583,
                    76.7292,
                    35.5,
                    7.55,
                    23,
                    7.8292,
                    133.65,
                    7.925,
                    52,
                    39,
                    13,
                    9.8417,
                    512.3292,
                    76.7292,
                    211.3375,
                    57,
                    13.4167,
                    56.4958,
                    7.7333,
                    227.525,
                    26.2875,
                    13.5,
                    26.2875,
                    151.55,
                    15.2458,
                    49.5042,
                    52,
                    227.525,
                    10.5,
                    33,
                    53.1,
                    21,
                    7.7375,
                    211.3375,
                    512.3292,
                    30,
                    262.375,
                    7.925,
                    13,
                    23,
                    12.475,
                    65,
                    14.5,
                    86.5,
                    7.2292,
                    120,
                    77.9583,
                    23,
                    12.475,
                    211.3375,
                    7.2292,
                    57,
                    7.4958,
                    20.575,
                    25.9292,
                    8.6833,
                    26.25,
                    120,
                    8.5167,
                    6.975,
                    53.1,
                    93.5,
                    8.6625,
                    12.475,
                    37.0042,
                    7.75,
                    80,
                    14.4542,
                    18.75,
                    83.1583,
                    56.4958,
                    29.7,
                    31,
                    89.1042,
                    39.4,
                    9.35,
                    164.8667,
                    26.55,
                    19.2583,
                    25.9292,
                    13,
                    13.8583,
                    11.1333,
                    52.5542,
                    24,
                    7.225,
                    83.1583,
                    26,
                    30,
                    30
                  ],
                  "z": [
                    1,
                    3,
                    1,
                    3,
                    2,
                    3,
                    1,
                    2,
                    2,
                    3,
                    2,
                    3,
                    1,
                    3,
                    3,
                    1,
                    3,
                    3,
                    3,
                    2,
                    3,
                    3,
                    1,
                    2,
                    1,
                    2,
                    2,
                    1,
                    3,
                    2,
                    3,
                    3,
                    2,
                    3,
                    3,
                    3,
                    2,
                    3,
                    1,
                    1,
                    2,
                    3,
                    3,
                    3,
                    2,
                    3,
                    3,
                    3,
                    2,
                    1,
                    3,
                    3,
                    3,
                    1,
                    3,
                    2,
                    3,
                    1,
                    3,
                    2,
                    3,
                    3,
                    1,
                    2,
                    3,
                    2,
                    1,
                    1,
                    3,
                    3,
                    3,
                    3,
                    1,
                    2,
                    1,
                    3,
                    1,
                    3,
                    1,
                    2,
                    1,
                    3,
                    2,
                    3,
                    2,
                    1,
                    3,
                    1,
                    1,
                    1,
                    2,
                    3,
                    3,
                    1,
                    1,
                    3,
                    2,
                    3,
                    1,
                    3,
                    3,
                    3,
                    2,
                    3,
                    1,
                    1,
                    1,
                    1,
                    3,
                    3,
                    2,
                    1,
                    1,
                    1,
                    1,
                    1,
                    1,
                    3,
                    2,
                    1,
                    1,
                    2,
                    2,
                    1,
                    2,
                    3,
                    1,
                    3,
                    1,
                    1,
                    3,
                    2,
                    1,
                    2,
                    2,
                    3,
                    3,
                    1,
                    3,
                    3,
                    1,
                    3,
                    3,
                    1,
                    1,
                    1,
                    3,
                    1,
                    3,
                    1,
                    2,
                    2,
                    1,
                    3,
                    1,
                    3,
                    2,
                    3,
                    2,
                    1,
                    3,
                    2,
                    2,
                    2,
                    2,
                    3,
                    1,
                    3,
                    2,
                    1,
                    2,
                    2,
                    2,
                    3,
                    1,
                    2,
                    1,
                    3,
                    1,
                    1,
                    3,
                    1,
                    2,
                    1,
                    3,
                    2,
                    2,
                    3,
                    3,
                    1,
                    1,
                    3,
                    1,
                    1,
                    2,
                    1,
                    3,
                    3,
                    1,
                    1,
                    2,
                    2,
                    1,
                    1,
                    2,
                    2,
                    3,
                    2,
                    1,
                    1,
                    1,
                    2,
                    2,
                    2,
                    2,
                    1,
                    3,
                    3,
                    1,
                    1,
                    3,
                    3,
                    2,
                    1,
                    1,
                    3,
                    2,
                    1,
                    3,
                    2,
                    1,
                    1,
                    1,
                    1,
                    2,
                    1,
                    2,
                    1,
                    1,
                    2,
                    1,
                    3,
                    2,
                    2,
                    1,
                    3,
                    1,
                    1,
                    1,
                    2,
                    1,
                    3,
                    3,
                    1,
                    1,
                    3,
                    2,
                    3,
                    1,
                    3,
                    1,
                    2,
                    2,
                    3,
                    1,
                    1,
                    1,
                    1,
                    3,
                    3,
                    3,
                    1,
                    1,
                    2,
                    1,
                    1,
                    3,
                    1,
                    1,
                    1,
                    2,
                    2,
                    1,
                    2,
                    3,
                    1,
                    1,
                    1,
                    1,
                    3,
                    2,
                    2,
                    3,
                    2,
                    2,
                    1,
                    3,
                    1,
                    1,
                    2,
                    3,
                    1,
                    3,
                    1,
                    3,
                    3,
                    1,
                    3,
                    2,
                    1,
                    3,
                    3,
                    1,
                    1,
                    3,
                    3,
                    2,
                    3,
                    1,
                    3,
                    2,
                    1,
                    3,
                    1,
                    1,
                    1,
                    1,
                    3,
                    1,
                    1,
                    3,
                    1,
                    2,
                    2,
                    3,
                    1,
                    2,
                    3,
                    1,
                    2,
                    1,
                    1
                  ]
                }
              ],
              "layout": {
                "legend": {
                  "title": {
                    "text": "Survival Status"
                  },
                  "tracegroupgap": 0
                },
                "scene": {
                  "domain": {
                    "x": [
                      0,
                      1
                    ],
                    "y": [
                      0,
                      1
                    ]
                  },
                  "xaxis": {
                    "title": {
                      "text": "Age"
                    }
                  },
                  "yaxis": {
                    "title": {
                      "text": "Fare"
                    }
                  },
                  "zaxis": {
                    "title": {
                      "text": "PClass"
                    }
                  }
                },
                "template": {
                  "data": {
                    "bar": [
                      {
                        "error_x": {
                          "color": "#2a3f5f"
                        },
                        "error_y": {
                          "color": "#2a3f5f"
                        },
                        "marker": {
                          "line": {
                            "color": "#E5ECF6",
                            "width": 0.5
                          },
                          "pattern": {
                            "fillmode": "overlay",
                            "size": 10,
                            "solidity": 0.2
                          }
                        },
                        "type": "bar"
                      }
                    ],
                    "barpolar": [
                      {
                        "marker": {
                          "line": {
                            "color": "#E5ECF6",
                            "width": 0.5
                          },
                          "pattern": {
                            "fillmode": "overlay",
                            "size": 10,
                            "solidity": 0.2
                          }
                        },
                        "type": "barpolar"
                      }
                    ],
                    "carpet": [
                      {
                        "aaxis": {
                          "endlinecolor": "#2a3f5f",
                          "gridcolor": "white",
                          "linecolor": "white",
                          "minorgridcolor": "white",
                          "startlinecolor": "#2a3f5f"
                        },
                        "baxis": {
                          "endlinecolor": "#2a3f5f",
                          "gridcolor": "white",
                          "linecolor": "white",
                          "minorgridcolor": "white",
                          "startlinecolor": "#2a3f5f"
                        },
                        "type": "carpet"
                      }
                    ],
                    "choropleth": [
                      {
                        "colorbar": {
                          "outlinewidth": 0,
                          "ticks": ""
                        },
                        "type": "choropleth"
                      }
                    ],
                    "contour": [
                      {
                        "colorbar": {
                          "outlinewidth": 0,
                          "ticks": ""
                        },
                        "colorscale": [
                          [
                            0,
                            "#0d0887"
                          ],
                          [
                            0.1111111111111111,
                            "#46039f"
                          ],
                          [
                            0.2222222222222222,
                            "#7201a8"
                          ],
                          [
                            0.3333333333333333,
                            "#9c179e"
                          ],
                          [
                            0.4444444444444444,
                            "#bd3786"
                          ],
                          [
                            0.5555555555555556,
                            "#d8576b"
                          ],
                          [
                            0.6666666666666666,
                            "#ed7953"
                          ],
                          [
                            0.7777777777777778,
                            "#fb9f3a"
                          ],
                          [
                            0.8888888888888888,
                            "#fdca26"
                          ],
                          [
                            1,
                            "#f0f921"
                          ]
                        ],
                        "type": "contour"
                      }
                    ],
                    "contourcarpet": [
                      {
                        "colorbar": {
                          "outlinewidth": 0,
                          "ticks": ""
                        },
                        "type": "contourcarpet"
                      }
                    ],
                    "heatmap": [
                      {
                        "colorbar": {
                          "outlinewidth": 0,
                          "ticks": ""
                        },
                        "colorscale": [
                          [
                            0,
                            "#0d0887"
                          ],
                          [
                            0.1111111111111111,
                            "#46039f"
                          ],
                          [
                            0.2222222222222222,
                            "#7201a8"
                          ],
                          [
                            0.3333333333333333,
                            "#9c179e"
                          ],
                          [
                            0.4444444444444444,
                            "#bd3786"
                          ],
                          [
                            0.5555555555555556,
                            "#d8576b"
                          ],
                          [
                            0.6666666666666666,
                            "#ed7953"
                          ],
                          [
                            0.7777777777777778,
                            "#fb9f3a"
                          ],
                          [
                            0.8888888888888888,
                            "#fdca26"
                          ],
                          [
                            1,
                            "#f0f921"
                          ]
                        ],
                        "type": "heatmap"
                      }
                    ],
                    "heatmapgl": [
                      {
                        "colorbar": {
                          "outlinewidth": 0,
                          "ticks": ""
                        },
                        "colorscale": [
                          [
                            0,
                            "#0d0887"
                          ],
                          [
                            0.1111111111111111,
                            "#46039f"
                          ],
                          [
                            0.2222222222222222,
                            "#7201a8"
                          ],
                          [
                            0.3333333333333333,
                            "#9c179e"
                          ],
                          [
                            0.4444444444444444,
                            "#bd3786"
                          ],
                          [
                            0.5555555555555556,
                            "#d8576b"
                          ],
                          [
                            0.6666666666666666,
                            "#ed7953"
                          ],
                          [
                            0.7777777777777778,
                            "#fb9f3a"
                          ],
                          [
                            0.8888888888888888,
                            "#fdca26"
                          ],
                          [
                            1,
                            "#f0f921"
                          ]
                        ],
                        "type": "heatmapgl"
                      }
                    ],
                    "histogram": [
                      {
                        "marker": {
                          "pattern": {
                            "fillmode": "overlay",
                            "size": 10,
                            "solidity": 0.2
                          }
                        },
                        "type": "histogram"
                      }
                    ],
                    "histogram2d": [
                      {
                        "colorbar": {
                          "outlinewidth": 0,
                          "ticks": ""
                        },
                        "colorscale": [
                          [
                            0,
                            "#0d0887"
                          ],
                          [
                            0.1111111111111111,
                            "#46039f"
                          ],
                          [
                            0.2222222222222222,
                            "#7201a8"
                          ],
                          [
                            0.3333333333333333,
                            "#9c179e"
                          ],
                          [
                            0.4444444444444444,
                            "#bd3786"
                          ],
                          [
                            0.5555555555555556,
                            "#d8576b"
                          ],
                          [
                            0.6666666666666666,
                            "#ed7953"
                          ],
                          [
                            0.7777777777777778,
                            "#fb9f3a"
                          ],
                          [
                            0.8888888888888888,
                            "#fdca26"
                          ],
                          [
                            1,
                            "#f0f921"
                          ]
                        ],
                        "type": "histogram2d"
                      }
                    ],
                    "histogram2dcontour": [
                      {
                        "colorbar": {
                          "outlinewidth": 0,
                          "ticks": ""
                        },
                        "colorscale": [
                          [
                            0,
                            "#0d0887"
                          ],
                          [
                            0.1111111111111111,
                            "#46039f"
                          ],
                          [
                            0.2222222222222222,
                            "#7201a8"
                          ],
                          [
                            0.3333333333333333,
                            "#9c179e"
                          ],
                          [
                            0.4444444444444444,
                            "#bd3786"
                          ],
                          [
                            0.5555555555555556,
                            "#d8576b"
                          ],
                          [
                            0.6666666666666666,
                            "#ed7953"
                          ],
                          [
                            0.7777777777777778,
                            "#fb9f3a"
                          ],
                          [
                            0.8888888888888888,
                            "#fdca26"
                          ],
                          [
                            1,
                            "#f0f921"
                          ]
                        ],
                        "type": "histogram2dcontour"
                      }
                    ],
                    "mesh3d": [
                      {
                        "colorbar": {
                          "outlinewidth": 0,
                          "ticks": ""
                        },
                        "type": "mesh3d"
                      }
                    ],
                    "parcoords": [
                      {
                        "line": {
                          "colorbar": {
                            "outlinewidth": 0,
                            "ticks": ""
                          }
                        },
                        "type": "parcoords"
                      }
                    ],
                    "pie": [
                      {
                        "automargin": true,
                        "type": "pie"
                      }
                    ],
                    "scatter": [
                      {
                        "fillpattern": {
                          "fillmode": "overlay",
                          "size": 10,
                          "solidity": 0.2
                        },
                        "type": "scatter"
                      }
                    ],
                    "scatter3d": [
                      {
                        "line": {
                          "colorbar": {
                            "outlinewidth": 0,
                            "ticks": ""
                          }
                        },
                        "marker": {
                          "colorbar": {
                            "outlinewidth": 0,
                            "ticks": ""
                          }
                        },
                        "type": "scatter3d"
                      }
                    ],
                    "scattercarpet": [
                      {
                        "marker": {
                          "colorbar": {
                            "outlinewidth": 0,
                            "ticks": ""
                          }
                        },
                        "type": "scattercarpet"
                      }
                    ],
                    "scattergeo": [
                      {
                        "marker": {
                          "colorbar": {
                            "outlinewidth": 0,
                            "ticks": ""
                          }
                        },
                        "type": "scattergeo"
                      }
                    ],
                    "scattergl": [
                      {
                        "marker": {
                          "colorbar": {
                            "outlinewidth": 0,
                            "ticks": ""
                          }
                        },
                        "type": "scattergl"
                      }
                    ],
                    "scattermapbox": [
                      {
                        "marker": {
                          "colorbar": {
                            "outlinewidth": 0,
                            "ticks": ""
                          }
                        },
                        "type": "scattermapbox"
                      }
                    ],
                    "scatterpolar": [
                      {
                        "marker": {
                          "colorbar": {
                            "outlinewidth": 0,
                            "ticks": ""
                          }
                        },
                        "type": "scatterpolar"
                      }
                    ],
                    "scatterpolargl": [
                      {
                        "marker": {
                          "colorbar": {
                            "outlinewidth": 0,
                            "ticks": ""
                          }
                        },
                        "type": "scatterpolargl"
                      }
                    ],
                    "scatterternary": [
                      {
                        "marker": {
                          "colorbar": {
                            "outlinewidth": 0,
                            "ticks": ""
                          }
                        },
                        "type": "scatterternary"
                      }
                    ],
                    "surface": [
                      {
                        "colorbar": {
                          "outlinewidth": 0,
                          "ticks": ""
                        },
                        "colorscale": [
                          [
                            0,
                            "#0d0887"
                          ],
                          [
                            0.1111111111111111,
                            "#46039f"
                          ],
                          [
                            0.2222222222222222,
                            "#7201a8"
                          ],
                          [
                            0.3333333333333333,
                            "#9c179e"
                          ],
                          [
                            0.4444444444444444,
                            "#bd3786"
                          ],
                          [
                            0.5555555555555556,
                            "#d8576b"
                          ],
                          [
                            0.6666666666666666,
                            "#ed7953"
                          ],
                          [
                            0.7777777777777778,
                            "#fb9f3a"
                          ],
                          [
                            0.8888888888888888,
                            "#fdca26"
                          ],
                          [
                            1,
                            "#f0f921"
                          ]
                        ],
                        "type": "surface"
                      }
                    ],
                    "table": [
                      {
                        "cells": {
                          "fill": {
                            "color": "#EBF0F8"
                          },
                          "line": {
                            "color": "white"
                          }
                        },
                        "header": {
                          "fill": {
                            "color": "#C8D4E3"
                          },
                          "line": {
                            "color": "white"
                          }
                        },
                        "type": "table"
                      }
                    ]
                  },
                  "layout": {
                    "annotationdefaults": {
                      "arrowcolor": "#2a3f5f",
                      "arrowhead": 0,
                      "arrowwidth": 1
                    },
                    "autotypenumbers": "strict",
                    "coloraxis": {
                      "colorbar": {
                        "outlinewidth": 0,
                        "ticks": ""
                      }
                    },
                    "colorscale": {
                      "diverging": [
                        [
                          0,
                          "#8e0152"
                        ],
                        [
                          0.1,
                          "#c51b7d"
                        ],
                        [
                          0.2,
                          "#de77ae"
                        ],
                        [
                          0.3,
                          "#f1b6da"
                        ],
                        [
                          0.4,
                          "#fde0ef"
                        ],
                        [
                          0.5,
                          "#f7f7f7"
                        ],
                        [
                          0.6,
                          "#e6f5d0"
                        ],
                        [
                          0.7,
                          "#b8e186"
                        ],
                        [
                          0.8,
                          "#7fbc41"
                        ],
                        [
                          0.9,
                          "#4d9221"
                        ],
                        [
                          1,
                          "#276419"
                        ]
                      ],
                      "sequential": [
                        [
                          0,
                          "#0d0887"
                        ],
                        [
                          0.1111111111111111,
                          "#46039f"
                        ],
                        [
                          0.2222222222222222,
                          "#7201a8"
                        ],
                        [
                          0.3333333333333333,
                          "#9c179e"
                        ],
                        [
                          0.4444444444444444,
                          "#bd3786"
                        ],
                        [
                          0.5555555555555556,
                          "#d8576b"
                        ],
                        [
                          0.6666666666666666,
                          "#ed7953"
                        ],
                        [
                          0.7777777777777778,
                          "#fb9f3a"
                        ],
                        [
                          0.8888888888888888,
                          "#fdca26"
                        ],
                        [
                          1,
                          "#f0f921"
                        ]
                      ],
                      "sequentialminus": [
                        [
                          0,
                          "#0d0887"
                        ],
                        [
                          0.1111111111111111,
                          "#46039f"
                        ],
                        [
                          0.2222222222222222,
                          "#7201a8"
                        ],
                        [
                          0.3333333333333333,
                          "#9c179e"
                        ],
                        [
                          0.4444444444444444,
                          "#bd3786"
                        ],
                        [
                          0.5555555555555556,
                          "#d8576b"
                        ],
                        [
                          0.6666666666666666,
                          "#ed7953"
                        ],
                        [
                          0.7777777777777778,
                          "#fb9f3a"
                        ],
                        [
                          0.8888888888888888,
                          "#fdca26"
                        ],
                        [
                          1,
                          "#f0f921"
                        ]
                      ]
                    },
                    "colorway": [
                      "#636efa",
                      "#EF553B",
                      "#00cc96",
                      "#ab63fa",
                      "#FFA15A",
                      "#19d3f3",
                      "#FF6692",
                      "#B6E880",
                      "#FF97FF",
                      "#FECB52"
                    ],
                    "font": {
                      "color": "#2a3f5f"
                    },
                    "geo": {
                      "bgcolor": "white",
                      "lakecolor": "white",
                      "landcolor": "#E5ECF6",
                      "showlakes": true,
                      "showland": true,
                      "subunitcolor": "white"
                    },
                    "hoverlabel": {
                      "align": "left"
                    },
                    "hovermode": "closest",
                    "mapbox": {
                      "style": "light"
                    },
                    "paper_bgcolor": "white",
                    "plot_bgcolor": "#E5ECF6",
                    "polar": {
                      "angularaxis": {
                        "gridcolor": "white",
                        "linecolor": "white",
                        "ticks": ""
                      },
                      "bgcolor": "#E5ECF6",
                      "radialaxis": {
                        "gridcolor": "white",
                        "linecolor": "white",
                        "ticks": ""
                      }
                    },
                    "scene": {
                      "xaxis": {
                        "backgroundcolor": "#E5ECF6",
                        "gridcolor": "white",
                        "gridwidth": 2,
                        "linecolor": "white",
                        "showbackground": true,
                        "ticks": "",
                        "zerolinecolor": "white"
                      },
                      "yaxis": {
                        "backgroundcolor": "#E5ECF6",
                        "gridcolor": "white",
                        "gridwidth": 2,
                        "linecolor": "white",
                        "showbackground": true,
                        "ticks": "",
                        "zerolinecolor": "white"
                      },
                      "zaxis": {
                        "backgroundcolor": "#E5ECF6",
                        "gridcolor": "white",
                        "gridwidth": 2,
                        "linecolor": "white",
                        "showbackground": true,
                        "ticks": "",
                        "zerolinecolor": "white"
                      }
                    },
                    "shapedefaults": {
                      "line": {
                        "color": "#2a3f5f"
                      }
                    },
                    "ternary": {
                      "aaxis": {
                        "gridcolor": "white",
                        "linecolor": "white",
                        "ticks": ""
                      },
                      "baxis": {
                        "gridcolor": "white",
                        "linecolor": "white",
                        "ticks": ""
                      },
                      "bgcolor": "#E5ECF6",
                      "caxis": {
                        "gridcolor": "white",
                        "linecolor": "white",
                        "ticks": ""
                      }
                    },
                    "title": {
                      "x": 0.05
                    },
                    "xaxis": {
                      "automargin": true,
                      "gridcolor": "white",
                      "linecolor": "white",
                      "ticks": "",
                      "title": {
                        "standoff": 15
                      },
                      "zerolinecolor": "white",
                      "zerolinewidth": 2
                    },
                    "yaxis": {
                      "automargin": true,
                      "gridcolor": "white",
                      "linecolor": "white",
                      "ticks": "",
                      "title": {
                        "standoff": 15
                      },
                      "zerolinecolor": "white",
                      "zerolinewidth": 2
                    }
                  }
                },
                "title": {
                  "text": "3D Scatter Plot: Age vs Fare vs Pclass"
                }
              }
            }
          },
          "metadata": {},
          "output_type": "display_data"
        }
      ],
      "source": [
        "fig = px.scatter_3d(\n",
        "    data,\n",
        "    x='Age',\n",
        "    y='Fare',\n",
        "    z='Pclass',\n",
        "    color='Survived',  # Use color to differentiate survivors\n",
        "    title=\"3D Scatter Plot: Age vs Fare vs Pclass\",\n",
        "    labels={\"Age\": \"Age\", \"Fare\": \"Fare\", \"Pclass\": \"PClass\", \"Survived\": \"Survival Status\"}\n",
        ")\n",
        "\n",
        "fig.show()"
      ]
    },
    {
      "cell_type": "markdown",
      "metadata": {
        "id": "vfiViCux_9t-"
      },
      "source": [
        "## $\\blacksquare$ Scatter plot (Интерактивный)"
      ]
    },
    {
      "cell_type": "markdown",
      "metadata": {
        "id": "LrAIMqIPNa6K"
      },
      "source": [
        "Этот график демонстрирует взаимосвязь между возрастом и стоимостью билета."
      ]
    },
    {
      "cell_type": "code",
      "execution_count": 28,
      "metadata": {
        "colab": {
          "base_uri": "https://localhost:8080/",
          "height": 542
        },
        "id": "rArY3It2M4jD",
        "outputId": "0e219403-739d-4310-bae0-cd5a61be822e"
      },
      "outputs": [
        {
          "data": {
            "application/vnd.plotly.v1+json": {
              "config": {
                "plotlyServerURL": "https://plot.ly"
              },
              "data": [
                {
                  "hovertemplate": "Age=%{x}<br>Fare=%{y}<extra></extra>",
                  "legendgroup": "",
                  "marker": {
                    "color": "#636efa",
                    "symbol": "circle"
                  },
                  "mode": "markers",
                  "name": "",
                  "showlegend": false,
                  "type": "scattergl",
                  "x": [
                    22,
                    38,
                    26,
                    35,
                    35,
                    null,
                    54,
                    2,
                    27,
                    14,
                    4,
                    58,
                    20,
                    39,
                    14,
                    55,
                    2,
                    null,
                    31,
                    null,
                    35,
                    34,
                    15,
                    28,
                    8,
                    38,
                    null,
                    19,
                    null,
                    null,
                    40,
                    null,
                    null,
                    66,
                    28,
                    42,
                    null,
                    21,
                    18,
                    14,
                    40,
                    27,
                    null,
                    3,
                    19,
                    null,
                    null,
                    null,
                    null,
                    18,
                    7,
                    21,
                    49,
                    29,
                    65,
                    null,
                    21,
                    28.5,
                    5,
                    11,
                    22,
                    38,
                    45,
                    4,
                    null,
                    null,
                    29,
                    19,
                    17,
                    26,
                    32,
                    16,
                    21,
                    26,
                    32,
                    25,
                    null,
                    null,
                    0.83,
                    30,
                    22,
                    29,
                    null,
                    28,
                    17,
                    33,
                    16,
                    null,
                    23,
                    24,
                    29,
                    20,
                    46,
                    26,
                    59,
                    null,
                    71,
                    23,
                    34,
                    34,
                    28,
                    null,
                    21,
                    33,
                    37,
                    28,
                    21,
                    null,
                    38,
                    null,
                    47,
                    14.5,
                    22,
                    20,
                    17,
                    21,
                    70.5,
                    29,
                    24,
                    2,
                    21,
                    null,
                    32.5,
                    32.5,
                    54,
                    12,
                    null,
                    24,
                    null,
                    45,
                    33,
                    20,
                    47,
                    29,
                    25,
                    23,
                    19,
                    37,
                    16,
                    24,
                    null,
                    22,
                    24,
                    19,
                    18,
                    19,
                    27,
                    9,
                    36.5,
                    42,
                    51,
                    22,
                    55.5,
                    40.5,
                    null,
                    51,
                    16,
                    30,
                    null,
                    null,
                    44,
                    40,
                    26,
                    17,
                    1,
                    9,
                    null,
                    45,
                    null,
                    28,
                    61,
                    4,
                    1,
                    21,
                    56,
                    18,
                    null,
                    50,
                    30,
                    36,
                    null,
                    null,
                    9,
                    1,
                    4,
                    null,
                    null,
                    45,
                    40,
                    36,
                    32,
                    19,
                    19,
                    3,
                    44,
                    58,
                    null,
                    42,
                    null,
                    24,
                    28,
                    null,
                    34,
                    45.5,
                    18,
                    2,
                    32,
                    26,
                    16,
                    40,
                    24,
                    35,
                    22,
                    30,
                    null,
                    31,
                    27,
                    42,
                    32,
                    30,
                    16,
                    27,
                    51,
                    null,
                    38,
                    22,
                    19,
                    20.5,
                    18,
                    null,
                    35,
                    29,
                    59,
                    5,
                    24,
                    null,
                    44,
                    8,
                    19,
                    33,
                    null,
                    null,
                    29,
                    22,
                    30,
                    44,
                    25,
                    24,
                    37,
                    54,
                    null,
                    29,
                    62,
                    30,
                    41,
                    29,
                    null,
                    30,
                    35,
                    50,
                    null,
                    3,
                    52,
                    40,
                    null,
                    36,
                    16,
                    25,
                    58,
                    35,
                    null,
                    25,
                    41,
                    37,
                    null,
                    63,
                    45,
                    null,
                    7,
                    35,
                    65,
                    28,
                    16,
                    19,
                    null,
                    33,
                    30,
                    22,
                    42,
                    22,
                    26,
                    19,
                    36,
                    24,
                    24,
                    null,
                    23.5,
                    2,
                    null,
                    50,
                    null,
                    null,
                    19,
                    null,
                    null,
                    0.92,
                    null,
                    17,
                    30,
                    30,
                    24,
                    18,
                    26,
                    28,
                    43,
                    26,
                    24,
                    54,
                    31,
                    40,
                    22,
                    27,
                    30,
                    22,
                    null,
                    36,
                    61,
                    36,
                    31,
                    16,
                    null,
                    45.5,
                    38,
                    16,
                    null,
                    null,
                    29,
                    41,
                    45,
                    45,
                    2,
                    24,
                    28,
                    25,
                    36,
                    24,
                    40,
                    null,
                    3,
                    42,
                    23,
                    null,
                    15,
                    25,
                    null,
                    28,
                    22,
                    38,
                    null,
                    null,
                    40,
                    29,
                    45,
                    35,
                    null,
                    30,
                    60,
                    null,
                    null,
                    24,
                    25,
                    18,
                    19,
                    22,
                    3,
                    null,
                    22,
                    27,
                    20,
                    19,
                    42,
                    1,
                    32,
                    35,
                    null,
                    18,
                    1,
                    36,
                    null,
                    17,
                    36,
                    21,
                    28,
                    23,
                    24,
                    22,
                    31,
                    46,
                    23,
                    28,
                    39,
                    26,
                    21,
                    28,
                    20,
                    34,
                    51,
                    3,
                    21,
                    null,
                    null,
                    null,
                    33,
                    null,
                    44,
                    null,
                    34,
                    18,
                    30,
                    10,
                    null,
                    21,
                    29,
                    28,
                    18,
                    null,
                    28,
                    19,
                    null,
                    32,
                    28,
                    null,
                    42,
                    17,
                    50,
                    14,
                    21,
                    24,
                    64,
                    31,
                    45,
                    20,
                    25,
                    28,
                    null,
                    4,
                    13,
                    34,
                    5,
                    52,
                    36,
                    null,
                    30,
                    49,
                    null,
                    29,
                    65,
                    null,
                    50,
                    null,
                    48,
                    34,
                    47,
                    48,
                    null,
                    38,
                    null,
                    56,
                    null,
                    0.75,
                    null,
                    38,
                    33,
                    23,
                    22,
                    null,
                    34,
                    29,
                    22,
                    2,
                    9,
                    null,
                    50,
                    63,
                    25,
                    null,
                    35,
                    58,
                    30,
                    9,
                    null,
                    21,
                    55,
                    71,
                    21,
                    null,
                    54,
                    null,
                    25,
                    24,
                    17,
                    21,
                    null,
                    37,
                    16,
                    18,
                    33,
                    null,
                    28,
                    26,
                    29,
                    null,
                    36,
                    54,
                    24,
                    47,
                    34,
                    null,
                    36,
                    32,
                    30,
                    22,
                    null,
                    44,
                    null,
                    40.5,
                    50,
                    null,
                    39,
                    23,
                    2,
                    null,
                    17,
                    null,
                    30,
                    7,
                    45,
                    30,
                    null,
                    22,
                    36,
                    9,
                    11,
                    32,
                    50,
                    64,
                    19,
                    null,
                    33,
                    8,
                    17,
                    27,
                    null,
                    22,
                    22,
                    62,
                    48,
                    null,
                    39,
                    36,
                    null,
                    40,
                    28,
                    null,
                    null,
                    24,
                    19,
                    29,
                    null,
                    32,
                    62,
                    53,
                    36,
                    null,
                    16,
                    19,
                    34,
                    39,
                    null,
                    32,
                    25,
                    39,
                    54,
                    36,
                    null,
                    18,
                    47,
                    60,
                    22,
                    null,
                    35,
                    52,
                    47,
                    null,
                    37,
                    36,
                    null,
                    49,
                    null,
                    49,
                    24,
                    null,
                    null,
                    44,
                    35,
                    36,
                    30,
                    27,
                    22,
                    40,
                    39,
                    null,
                    null,
                    null,
                    35,
                    24,
                    34,
                    26,
                    4,
                    26,
                    27,
                    42,
                    20,
                    21,
                    21,
                    61,
                    57,
                    21,
                    26,
                    null,
                    80,
                    51,
                    32,
                    null,
                    9,
                    28,
                    32,
                    31,
                    41,
                    null,
                    20,
                    24,
                    2,
                    null,
                    0.75,
                    48,
                    19,
                    56,
                    null,
                    23,
                    null,
                    18,
                    21,
                    null,
                    18,
                    24,
                    null,
                    32,
                    23,
                    58,
                    50,
                    40,
                    47,
                    36,
                    20,
                    32,
                    25,
                    null,
                    43,
                    null,
                    40,
                    31,
                    70,
                    31,
                    null,
                    18,
                    24.5,
                    18,
                    43,
                    36,
                    null,
                    27,
                    20,
                    14,
                    60,
                    25,
                    14,
                    19,
                    18,
                    15,
                    31,
                    4,
                    null,
                    25,
                    60,
                    52,
                    44,
                    null,
                    49,
                    42,
                    18,
                    35,
                    18,
                    25,
                    26,
                    39,
                    45,
                    42,
                    22,
                    null,
                    24,
                    null,
                    48,
                    29,
                    52,
                    19,
                    38,
                    27,
                    null,
                    33,
                    6,
                    17,
                    34,
                    50,
                    27,
                    20,
                    30,
                    null,
                    25,
                    25,
                    29,
                    11,
                    null,
                    23,
                    23,
                    28.5,
                    48,
                    35,
                    null,
                    null,
                    null,
                    36,
                    21,
                    24,
                    31,
                    70,
                    16,
                    30,
                    19,
                    31,
                    4,
                    6,
                    33,
                    23,
                    48,
                    0.67,
                    28,
                    18,
                    34,
                    33,
                    null,
                    41,
                    20,
                    36,
                    16,
                    51,
                    null,
                    30.5,
                    null,
                    32,
                    24,
                    48,
                    57,
                    null,
                    54,
                    18,
                    null,
                    5,
                    null,
                    43,
                    13,
                    17,
                    29,
                    null,
                    25,
                    25,
                    18,
                    8,
                    1,
                    46,
                    null,
                    16,
                    null,
                    null,
                    25,
                    39,
                    49,
                    31,
                    30,
                    30,
                    34,
                    31,
                    11,
                    0.42,
                    27,
                    31,
                    39,
                    18,
                    39,
                    33,
                    26,
                    39,
                    35,
                    6,
                    30.5,
                    null,
                    23,
                    31,
                    43,
                    10,
                    52,
                    27,
                    38,
                    27,
                    2,
                    null,
                    null,
                    1,
                    null,
                    62,
                    15,
                    0.83,
                    null,
                    23,
                    18,
                    39,
                    21,
                    null,
                    32,
                    null,
                    20,
                    16,
                    30,
                    34.5,
                    17,
                    42,
                    null,
                    35,
                    28,
                    null,
                    4,
                    74,
                    9,
                    16,
                    44,
                    18,
                    45,
                    51,
                    24,
                    null,
                    41,
                    21,
                    48,
                    null,
                    24,
                    42,
                    27,
                    31,
                    null,
                    4,
                    26,
                    47,
                    33,
                    47,
                    28,
                    15,
                    20,
                    19,
                    null,
                    56,
                    25,
                    33,
                    22,
                    28,
                    25,
                    39,
                    27,
                    19,
                    null,
                    26,
                    32,
                    34.5,
                    47,
                    62,
                    27,
                    22,
                    14,
                    30,
                    26,
                    18,
                    21,
                    null,
                    46,
                    23,
                    63,
                    47,
                    24,
                    35,
                    21,
                    27,
                    45,
                    55,
                    9,
                    null,
                    21,
                    48,
                    50,
                    22,
                    22.5,
                    41,
                    null,
                    50,
                    24,
                    33,
                    null,
                    30,
                    18.5,
                    null,
                    21,
                    25,
                    null,
                    39,
                    null,
                    41,
                    30,
                    45,
                    25,
                    45,
                    null,
                    60,
                    36,
                    24,
                    27,
                    20,
                    28,
                    null,
                    10,
                    35,
                    25,
                    null,
                    36,
                    17,
                    32,
                    18,
                    22,
                    13,
                    null,
                    18,
                    47,
                    31,
                    60,
                    24,
                    21,
                    29,
                    28.5,
                    35,
                    32.5,
                    null,
                    55,
                    30,
                    24,
                    6,
                    67,
                    49,
                    null,
                    null,
                    null,
                    27,
                    18,
                    null,
                    2,
                    22,
                    null,
                    27,
                    null,
                    25,
                    25,
                    76,
                    29,
                    20,
                    33,
                    43,
                    27,
                    null,
                    26,
                    16,
                    28,
                    21,
                    null,
                    null,
                    18.5,
                    41,
                    null,
                    36,
                    18.5,
                    63,
                    18,
                    null,
                    1,
                    36,
                    29,
                    12,
                    null,
                    35,
                    28,
                    null,
                    17,
                    22,
                    null,
                    42,
                    24,
                    32,
                    53,
                    null,
                    null,
                    43,
                    24,
                    26.5,
                    26,
                    23,
                    40,
                    10,
                    33,
                    61,
                    28,
                    42,
                    31,
                    null,
                    22,
                    null,
                    30,
                    23,
                    null,
                    60.5,
                    36,
                    13,
                    24,
                    29,
                    23,
                    42,
                    26,
                    null,
                    7,
                    26,
                    null,
                    41,
                    26,
                    48,
                    18,
                    null,
                    22,
                    null,
                    27,
                    23,
                    null,
                    40,
                    15,
                    20,
                    54,
                    36,
                    64,
                    30,
                    37,
                    18,
                    null,
                    27,
                    40,
                    21,
                    17,
                    null,
                    40,
                    34,
                    null,
                    11.5,
                    61,
                    8,
                    33,
                    6,
                    18,
                    23,
                    null,
                    null,
                    0.33,
                    47,
                    8,
                    25,
                    null,
                    35,
                    24,
                    33,
                    25,
                    32,
                    null,
                    17,
                    60,
                    38,
                    42,
                    null,
                    57,
                    50,
                    null,
                    30,
                    21,
                    22,
                    21,
                    53,
                    null,
                    23,
                    null,
                    40.5,
                    36,
                    14,
                    21,
                    21,
                    null,
                    39,
                    20,
                    64,
                    20,
                    18,
                    48,
                    55,
                    45,
                    45,
                    null,
                    null,
                    41,
                    22,
                    42,
                    29,
                    null,
                    0.92,
                    20,
                    27,
                    24,
                    32.5,
                    null,
                    null,
                    28,
                    19,
                    21,
                    36.5,
                    21,
                    29,
                    1,
                    30,
                    null,
                    null,
                    null,
                    null,
                    17,
                    46,
                    null,
                    26,
                    null,
                    null,
                    20,
                    28,
                    40,
                    30,
                    22,
                    23,
                    0.75,
                    null,
                    9,
                    2,
                    36,
                    null,
                    24,
                    null,
                    null,
                    null,
                    30,
                    null,
                    53,
                    36,
                    26,
                    1,
                    null,
                    30,
                    29,
                    32,
                    null,
                    43,
                    24,
                    null,
                    64,
                    30,
                    0.83,
                    55,
                    45,
                    18,
                    22,
                    null,
                    37,
                    55,
                    17,
                    57,
                    19,
                    27,
                    22,
                    26,
                    25,
                    26,
                    33,
                    39,
                    23,
                    12,
                    46,
                    29,
                    21,
                    48,
                    39,
                    null,
                    19,
                    27,
                    30,
                    32,
                    39,
                    25,
                    null,
                    18,
                    32,
                    null,
                    58,
                    null,
                    16,
                    26,
                    38,
                    24,
                    31,
                    45,
                    25,
                    18,
                    49,
                    0.17,
                    50,
                    59,
                    null,
                    null,
                    30,
                    14.5,
                    24,
                    31,
                    27,
                    25,
                    null,
                    null,
                    22,
                    45,
                    29,
                    21,
                    31,
                    49,
                    44,
                    54,
                    45,
                    22,
                    21,
                    55,
                    5,
                    null,
                    26,
                    null,
                    19,
                    null,
                    24,
                    24,
                    57,
                    21,
                    6,
                    23,
                    51,
                    13,
                    47,
                    29,
                    18,
                    24,
                    48,
                    22,
                    31,
                    30,
                    38,
                    22,
                    17,
                    43,
                    20,
                    23,
                    50,
                    null,
                    3,
                    null,
                    37,
                    28,
                    null,
                    39,
                    38.5,
                    null,
                    null
                  ],
                  "xaxis": "x",
                  "y": [
                    7.25,
                    71.2833,
                    7.925,
                    53.1,
                    8.05,
                    8.4583,
                    51.8625,
                    21.075,
                    11.1333,
                    30.0708,
                    16.7,
                    26.55,
                    8.05,
                    31.275,
                    7.8542,
                    16,
                    29.125,
                    13,
                    18,
                    7.225,
                    26,
                    13,
                    8.0292,
                    35.5,
                    21.075,
                    31.3875,
                    7.225,
                    263,
                    7.8792,
                    7.8958,
                    27.7208,
                    146.5208,
                    7.75,
                    10.5,
                    82.1708,
                    52,
                    7.2292,
                    8.05,
                    18,
                    11.2417,
                    9.475,
                    21,
                    7.8958,
                    41.5792,
                    7.8792,
                    8.05,
                    15.5,
                    7.75,
                    21.6792,
                    17.8,
                    39.6875,
                    7.8,
                    76.7292,
                    26,
                    61.9792,
                    35.5,
                    10.5,
                    7.2292,
                    27.75,
                    46.9,
                    7.2292,
                    80,
                    83.475,
                    27.9,
                    27.7208,
                    15.2458,
                    10.5,
                    8.1583,
                    7.925,
                    8.6625,
                    10.5,
                    46.9,
                    73.5,
                    14.4542,
                    56.4958,
                    7.65,
                    7.8958,
                    8.05,
                    29,
                    12.475,
                    9,
                    9.5,
                    7.7875,
                    47.1,
                    10.5,
                    15.85,
                    34.375,
                    8.05,
                    263,
                    8.05,
                    8.05,
                    7.8542,
                    61.175,
                    20.575,
                    7.25,
                    8.05,
                    34.6542,
                    63.3583,
                    23,
                    26,
                    7.8958,
                    7.8958,
                    77.2875,
                    8.6542,
                    7.925,
                    7.8958,
                    7.65,
                    7.775,
                    7.8958,
                    24.15,
                    52,
                    14.4542,
                    8.05,
                    9.825,
                    14.4583,
                    7.925,
                    7.75,
                    21,
                    247.5208,
                    31.275,
                    73.5,
                    8.05,
                    30.0708,
                    13,
                    77.2875,
                    11.2417,
                    7.75,
                    7.1417,
                    22.3583,
                    6.975,
                    7.8958,
                    7.05,
                    14.5,
                    26,
                    13,
                    15.0458,
                    26.2833,
                    53.1,
                    9.2167,
                    79.2,
                    15.2458,
                    7.75,
                    15.85,
                    6.75,
                    11.5,
                    36.75,
                    7.7958,
                    34.375,
                    26,
                    13,
                    12.525,
                    66.6,
                    8.05,
                    14.5,
                    7.3125,
                    61.3792,
                    7.7333,
                    8.05,
                    8.6625,
                    69.55,
                    16.1,
                    15.75,
                    7.775,
                    8.6625,
                    39.6875,
                    20.525,
                    55,
                    27.9,
                    25.925,
                    56.4958,
                    33.5,
                    29.125,
                    11.1333,
                    7.925,
                    30.6958,
                    7.8542,
                    25.4667,
                    28.7125,
                    13,
                    0,
                    69.55,
                    15.05,
                    31.3875,
                    39,
                    22.025,
                    50,
                    15.5,
                    26.55,
                    15.5,
                    7.8958,
                    13,
                    13,
                    7.8542,
                    26,
                    27.7208,
                    146.5208,
                    7.75,
                    8.4042,
                    7.75,
                    13,
                    9.5,
                    69.55,
                    6.4958,
                    7.225,
                    8.05,
                    10.4625,
                    15.85,
                    18.7875,
                    7.75,
                    31,
                    7.05,
                    21,
                    7.25,
                    13,
                    7.75,
                    113.275,
                    7.925,
                    27,
                    76.2917,
                    10.5,
                    8.05,
                    13,
                    8.05,
                    7.8958,
                    90,
                    9.35,
                    10.5,
                    7.25,
                    13,
                    25.4667,
                    83.475,
                    7.775,
                    13.5,
                    31.3875,
                    10.5,
                    7.55,
                    26,
                    26.25,
                    10.5,
                    12.275,
                    14.4542,
                    15.5,
                    10.5,
                    7.125,
                    7.225,
                    90,
                    7.775,
                    14.5,
                    52.5542,
                    26,
                    7.25,
                    10.4625,
                    26.55,
                    16.1,
                    20.2125,
                    15.2458,
                    79.2,
                    86.5,
                    512.3292,
                    26,
                    7.75,
                    31.3875,
                    79.65,
                    0,
                    7.75,
                    10.5,
                    39.6875,
                    7.775,
                    153.4625,
                    135.6333,
                    31,
                    0,
                    19.5,
                    29.7,
                    7.75,
                    77.9583,
                    7.75,
                    0,
                    29.125,
                    20.25,
                    7.75,
                    7.8542,
                    9.5,
                    8.05,
                    26,
                    8.6625,
                    9.5,
                    7.8958,
                    13,
                    7.75,
                    78.85,
                    91.0792,
                    12.875,
                    8.85,
                    7.8958,
                    27.7208,
                    7.2292,
                    151.55,
                    30.5,
                    247.5208,
                    7.75,
                    23.25,
                    0,
                    12.35,
                    8.05,
                    151.55,
                    110.8833,
                    108.9,
                    24,
                    56.9292,
                    83.1583,
                    262.375,
                    26,
                    7.8958,
                    26.25,
                    7.8542,
                    26,
                    14,
                    164.8667,
                    134.5,
                    7.25,
                    7.8958,
                    12.35,
                    29,
                    69.55,
                    135.6333,
                    6.2375,
                    13,
                    20.525,
                    57.9792,
                    23.25,
                    28.5,
                    153.4625,
                    18,
                    133.65,
                    7.8958,
                    66.6,
                    134.5,
                    8.05,
                    35.5,
                    26,
                    263,
                    13,
                    13,
                    13,
                    13,
                    13,
                    16.1,
                    15.9,
                    8.6625,
                    9.225,
                    35,
                    7.2292,
                    17.8,
                    7.225,
                    9.5,
                    55,
                    13,
                    7.8792,
                    7.8792,
                    27.9,
                    27.7208,
                    14.4542,
                    7.05,
                    15.5,
                    7.25,
                    75.25,
                    7.2292,
                    7.75,
                    69.3,
                    55.4417,
                    6.4958,
                    8.05,
                    135.6333,
                    21.075,
                    82.1708,
                    7.25,
                    211.5,
                    4.0125,
                    7.775,
                    227.525,
                    15.7417,
                    7.925,
                    52,
                    7.8958,
                    73.5,
                    46.9,
                    13,
                    7.7292,
                    12,
                    120,
                    7.7958,
                    7.925,
                    113.275,
                    16.7,
                    7.7958,
                    7.8542,
                    26,
                    10.5,
                    12.65,
                    7.925,
                    8.05,
                    9.825,
                    15.85,
                    8.6625,
                    21,
                    7.75,
                    18.75,
                    7.775,
                    25.4667,
                    7.8958,
                    6.8583,
                    90,
                    0,
                    7.925,
                    8.05,
                    32.5,
                    13,
                    13,
                    24.15,
                    7.8958,
                    7.7333,
                    7.875,
                    14.4,
                    20.2125,
                    7.25,
                    26,
                    26,
                    7.75,
                    8.05,
                    26.55,
                    16.1,
                    26,
                    7.125,
                    55.9,
                    120,
                    34.375,
                    18.75,
                    263,
                    10.5,
                    26.25,
                    9.5,
                    7.775,
                    13,
                    8.1125,
                    81.8583,
                    19.5,
                    26.55,
                    19.2583,
                    30.5,
                    27.75,
                    19.9667,
                    27.75,
                    89.1042,
                    8.05,
                    7.8958,
                    26.55,
                    51.8625,
                    10.5,
                    7.75,
                    26.55,
                    8.05,
                    38.5,
                    13,
                    8.05,
                    7.05,
                    0,
                    26.55,
                    7.725,
                    19.2583,
                    7.25,
                    8.6625,
                    27.75,
                    13.7917,
                    9.8375,
                    52,
                    21,
                    7.0458,
                    7.5208,
                    12.2875,
                    46.9,
                    0,
                    8.05,
                    9.5875,
                    91.0792,
                    25.4667,
                    90,
                    29.7,
                    8.05,
                    15.9,
                    19.9667,
                    7.25,
                    30.5,
                    49.5042,
                    8.05,
                    14.4583,
                    78.2667,
                    15.1,
                    151.55,
                    7.7958,
                    8.6625,
                    7.75,
                    7.6292,
                    9.5875,
                    86.5,
                    108.9,
                    26,
                    26.55,
                    22.525,
                    56.4958,
                    7.75,
                    8.05,
                    26.2875,
                    59.4,
                    7.4958,
                    34.0208,
                    10.5,
                    24.15,
                    26,
                    7.8958,
                    93.5,
                    7.8958,
                    7.225,
                    57.9792,
                    7.2292,
                    7.75,
                    10.5,
                    221.7792,
                    7.925,
                    11.5,
                    26,
                    7.2292,
                    7.2292,
                    22.3583,
                    8.6625,
                    26.25,
                    26.55,
                    106.425,
                    14.5,
                    49.5,
                    71,
                    31.275,
                    31.275,
                    26,
                    106.425,
                    26,
                    26,
                    13.8625,
                    20.525,
                    36.75,
                    110.8833,
                    26,
                    7.8292,
                    7.225,
                    7.775,
                    26.55,
                    39.6,
                    227.525,
                    79.65,
                    17.4,
                    7.75,
                    7.8958,
                    13.5,
                    8.05,
                    8.05,
                    24.15,
                    7.8958,
                    21.075,
                    7.2292,
                    7.8542,
                    10.5,
                    51.4792,
                    26.3875,
                    7.75,
                    8.05,
                    14.5,
                    13,
                    55.9,
                    14.4583,
                    7.925,
                    30,
                    110.8833,
                    26,
                    40.125,
                    8.7125,
                    79.65,
                    15,
                    79.2,
                    8.05,
                    8.05,
                    7.125,
                    78.2667,
                    7.25,
                    7.75,
                    26,
                    24.15,
                    33,
                    0,
                    7.225,
                    56.9292,
                    27,
                    7.8958,
                    42.4,
                    8.05,
                    26.55,
                    15.55,
                    7.8958,
                    30.5,
                    41.5792,
                    153.4625,
                    31.275,
                    7.05,
                    15.5,
                    7.75,
                    8.05,
                    65,
                    14.4,
                    16.1,
                    39,
                    10.5,
                    14.4542,
                    52.5542,
                    15.7417,
                    7.8542,
                    16.1,
                    32.3208,
                    12.35,
                    77.9583,
                    7.8958,
                    7.7333,
                    30,
                    7.0542,
                    30.5,
                    0,
                    27.9,
                    13,
                    7.925,
                    26.25,
                    39.6875,
                    16.1,
                    7.8542,
                    69.3,
                    27.9,
                    56.4958,
                    19.2583,
                    76.7292,
                    7.8958,
                    35.5,
                    7.55,
                    7.55,
                    7.8958,
                    23,
                    8.4333,
                    7.8292,
                    6.75,
                    73.5,
                    7.8958,
                    15.5,
                    13,
                    113.275,
                    133.65,
                    7.225,
                    25.5875,
                    7.4958,
                    7.925,
                    73.5,
                    13,
                    7.775,
                    8.05,
                    52,
                    39,
                    52,
                    10.5,
                    13,
                    0,
                    7.775,
                    8.05,
                    9.8417,
                    46.9,
                    512.3292,
                    8.1375,
                    76.7292,
                    9.225,
                    46.9,
                    39,
                    41.5792,
                    39.6875,
                    10.1708,
                    7.7958,
                    211.3375,
                    57,
                    13.4167,
                    56.4958,
                    7.225,
                    26.55,
                    13.5,
                    8.05,
                    7.7333,
                    110.8833,
                    7.65,
                    227.525,
                    26.2875,
                    14.4542,
                    7.7417,
                    7.8542,
                    26,
                    13.5,
                    26.2875,
                    151.55,
                    15.2458,
                    49.5042,
                    26.55,
                    52,
                    9.4833,
                    13,
                    7.65,
                    227.525,
                    10.5,
                    15.5,
                    7.775,
                    33,
                    7.0542,
                    13,
                    13,
                    53.1,
                    8.6625,
                    21,
                    7.7375,
                    26,
                    7.925,
                    211.3375,
                    18.7875,
                    0,
                    13,
                    13,
                    16.1,
                    34.375,
                    512.3292,
                    7.8958,
                    7.8958,
                    30,
                    78.85,
                    262.375,
                    16.1,
                    7.925,
                    71,
                    20.25,
                    13,
                    53.1,
                    7.75,
                    23,
                    12.475,
                    9.5,
                    7.8958,
                    65,
                    14.5,
                    7.7958,
                    11.5,
                    8.05,
                    86.5,
                    14.5,
                    7.125,
                    7.2292,
                    120,
                    7.775,
                    77.9583,
                    39.6,
                    7.75,
                    24.15,
                    8.3625,
                    9.5,
                    7.8542,
                    10.5,
                    7.225,
                    23,
                    7.75,
                    7.75,
                    12.475,
                    7.7375,
                    211.3375,
                    7.2292,
                    57,
                    30,
                    23.45,
                    7.05,
                    7.25,
                    7.4958,
                    29.125,
                    20.575,
                    79.2,
                    7.75,
                    26,
                    69.55,
                    30.6958,
                    7.8958,
                    13,
                    25.9292,
                    8.6833,
                    7.2292,
                    24.15,
                    13,
                    26.25,
                    120,
                    8.5167,
                    6.975,
                    7.775,
                    0,
                    7.775,
                    13,
                    53.1,
                    7.8875,
                    24.15,
                    10.5,
                    31.275,
                    8.05,
                    0,
                    7.925,
                    37.0042,
                    6.45,
                    27.9,
                    93.5,
                    8.6625,
                    0,
                    12.475,
                    39.6875,
                    6.95,
                    56.4958,
                    37.0042,
                    7.75,
                    80,
                    14.4542,
                    18.75,
                    7.2292,
                    7.8542,
                    8.3,
                    83.1583,
                    8.6625,
                    8.05,
                    56.4958,
                    29.7,
                    7.925,
                    10.5,
                    31,
                    6.4375,
                    8.6625,
                    7.55,
                    69.55,
                    7.8958,
                    33,
                    89.1042,
                    31.275,
                    7.775,
                    15.2458,
                    39.4,
                    26,
                    9.35,
                    164.8667,
                    26.55,
                    19.2583,
                    7.2292,
                    14.1083,
                    11.5,
                    25.9292,
                    69.55,
                    13,
                    13,
                    13.8583,
                    50.4958,
                    9.5,
                    11.1333,
                    7.8958,
                    52.5542,
                    5,
                    9,
                    24,
                    7.225,
                    9.8458,
                    7.8958,
                    7.8958,
                    83.1583,
                    26,
                    7.8958,
                    10.5167,
                    10.5,
                    7.05,
                    29.125,
                    13,
                    30,
                    23.45,
                    30,
                    7.75,
                    7.8292,
                    7,
                    9.6875,
                    8.6625,
                    12.2875,
                    9.225,
                    7.6292,
                    29,
                    7.2292,
                    24.15,
                    7.8958,
                    26,
                    82.2667,
                    26,
                    61.175,
                    27.7208,
                    12.35,
                    7.225,
                    7.925,
                    7.225,
                    59.4,
                    3.1708,
                    31.6833,
                    61.3792,
                    262.375,
                    14.5,
                    61.9792,
                    7.225,
                    30.5,
                    21.6792,
                    26,
                    31.5,
                    20.575,
                    23.45,
                    57.75,
                    7.2292,
                    8.05,
                    8.6625,
                    9.5,
                    56.4958,
                    13.4167,
                    26.55,
                    7.85,
                    13,
                    52.5542,
                    7.925,
                    29.7,
                    7.75,
                    76.2917,
                    15.9,
                    60,
                    15.0333,
                    23,
                    263,
                    15.5792,
                    29.125,
                    7.8958,
                    7.65,
                    16.1,
                    262.375,
                    7.8958,
                    13.5,
                    7.75,
                    7.725,
                    262.375,
                    21,
                    7.8792,
                    42.4,
                    28.5375,
                    263,
                    7.75,
                    7.8958,
                    7.925,
                    27.7208,
                    211.5,
                    211.5,
                    8.05,
                    25.7,
                    13,
                    7.75,
                    15.2458,
                    221.7792,
                    26,
                    7.8958,
                    10.7083,
                    14.4542,
                    7.8792,
                    8.05,
                    7.75,
                    23,
                    13.9,
                    7.775,
                    52,
                    8.05,
                    26,
                    7.7958,
                    78.85,
                    7.925,
                    7.8542,
                    8.05,
                    55.4417,
                    26,
                    7.75,
                    7.775,
                    8.5167,
                    22.525,
                    7.8208,
                    7.75,
                    8.7125,
                    13,
                    15.0458,
                    7.7792,
                    31.6792,
                    7.2833,
                    221.7792,
                    14.4542,
                    6.4375,
                    16.7,
                    75.2417,
                    26,
                    15.75,
                    7.75,
                    57.75,
                    7.25,
                    7.75,
                    16.1,
                    7.7958,
                    23.25,
                    13,
                    8.05,
                    8.05,
                    28.5,
                    25.4667,
                    6.4375,
                    7.8958,
                    7.8542,
                    7.225,
                    13,
                    8.05,
                    46.9,
                    46.9,
                    151.55,
                    262.375,
                    26,
                    26.55,
                    18,
                    51.8625,
                    8.05,
                    26.55,
                    26,
                    83.1583,
                    7.8958,
                    null,
                    12.1833,
                    31.3875,
                    7.55,
                    221.7792,
                    7.8542,
                    26.55,
                    13.775,
                    7.7333,
                    15.2458,
                    13.5,
                    7,
                    13,
                    22.025,
                    50.4958,
                    34.375,
                    27.7208,
                    8.9625,
                    7.55,
                    7.225,
                    13.9,
                    7.2292,
                    31.3875,
                    39,
                    36.75,
                    55.4417,
                    39,
                    83.1583,
                    13,
                    83.1583,
                    53.1,
                    7.75,
                    247.5208,
                    16,
                    21,
                    8.05,
                    69.55,
                    13,
                    26,
                    26,
                    14.5,
                    12.35,
                    32.5,
                    7.8542,
                    134.5,
                    7.775,
                    10.5,
                    8.1125,
                    15.5,
                    14.4,
                    227.525,
                    26,
                    10.5,
                    25.7417,
                    7.75,
                    10.5,
                    27.7208,
                    7.8958,
                    22.525,
                    7.05,
                    73.5,
                    26,
                    7.775,
                    42.5,
                    7.8792,
                    164.8667,
                    211.5,
                    8.05,
                    13.8583,
                    8.05,
                    10.5,
                    7.7958,
                    27.4458,
                    15.2458,
                    7.7958,
                    7.75,
                    15.1,
                    13,
                    65,
                    26.55,
                    6.4958,
                    7.8792,
                    71.2833,
                    7.8542,
                    75.25,
                    7.225,
                    13,
                    106.425,
                    27.7208,
                    30,
                    134.5,
                    7.8875,
                    23.45,
                    51.8625,
                    21,
                    32.5,
                    26,
                    14.4542,
                    27.75,
                    7.925,
                    136.7792,
                    9.325,
                    9.5,
                    7.55,
                    7.75,
                    8.05,
                    13,
                    7.775,
                    17.4,
                    7.8542,
                    23,
                    12.1833,
                    12.7375,
                    7.8958,
                    0,
                    7.55,
                    8.05,
                    8.6625,
                    75.2417,
                    7.75,
                    136.7792,
                    15.5,
                    7.225,
                    26,
                    10.5,
                    26,
                    21,
                    10.5,
                    8.6625,
                    13.775,
                    7.75,
                    15.2458,
                    20.2125,
                    7.25,
                    7.25,
                    82.2667,
                    7.2292,
                    8.05,
                    39.6,
                    6.95,
                    7.2292,
                    81.8583,
                    9.5,
                    7.8958,
                    41.5792,
                    21.6792,
                    45.5,
                    7.8542,
                    7.775,
                    15.0458,
                    21,
                    8.6625,
                    7.75,
                    26.55,
                    151.55,
                    9.35,
                    93.5,
                    14.1083,
                    8.6625,
                    7.225,
                    7.575,
                    7.75,
                    135.6333,
                    7.7333,
                    146.5208,
                    10.5,
                    7.8542,
                    31.5,
                    7.775,
                    7.2292,
                    13,
                    26.55,
                    211.3375,
                    7.05,
                    39,
                    79.2,
                    26,
                    13,
                    36.75,
                    29.7,
                    7.225,
                    15.7417,
                    7.8958,
                    26,
                    13,
                    7.2292,
                    31.5,
                    7.2292,
                    10.5,
                    7.5792,
                    69.55,
                    512.3292,
                    14.5,
                    7.65,
                    13,
                    7.2292,
                    13.5,
                    21,
                    63.3583,
                    10.5,
                    73.5,
                    65,
                    20.575,
                    26,
                    51.4792,
                    7.8792,
                    7.75,
                    15.55,
                    69.55,
                    37.0042,
                    21,
                    8.6625,
                    55.4417,
                    69.55,
                    14.4583,
                    39.6875,
                    59.4,
                    13.8583,
                    11.5,
                    134.5,
                    0,
                    13,
                    81.8583,
                    262.375,
                    8.6625,
                    11.5,
                    50,
                    31.3875,
                    7.75,
                    7.8792,
                    14.5,
                    16.1,
                    12.875,
                    65,
                    7.775,
                    13,
                    7.75,
                    21.075,
                    93.5,
                    39.4,
                    20.25,
                    10.5,
                    22.025,
                    60,
                    7.25,
                    79.2,
                    7.775,
                    7.7333,
                    164.8667,
                    21,
                    59.4,
                    47.1,
                    27.7208,
                    13.8625,
                    10.5,
                    211.5,
                    7.7208,
                    13.775,
                    7.75,
                    90,
                    7.775,
                    8.05,
                    108.9,
                    7.25,
                    8.05,
                    22.3583
                  ],
                  "yaxis": "y"
                }
              ],
              "layout": {
                "legend": {
                  "tracegroupgap": 0
                },
                "template": {
                  "data": {
                    "bar": [
                      {
                        "error_x": {
                          "color": "#2a3f5f"
                        },
                        "error_y": {
                          "color": "#2a3f5f"
                        },
                        "marker": {
                          "line": {
                            "color": "#E5ECF6",
                            "width": 0.5
                          },
                          "pattern": {
                            "fillmode": "overlay",
                            "size": 10,
                            "solidity": 0.2
                          }
                        },
                        "type": "bar"
                      }
                    ],
                    "barpolar": [
                      {
                        "marker": {
                          "line": {
                            "color": "#E5ECF6",
                            "width": 0.5
                          },
                          "pattern": {
                            "fillmode": "overlay",
                            "size": 10,
                            "solidity": 0.2
                          }
                        },
                        "type": "barpolar"
                      }
                    ],
                    "carpet": [
                      {
                        "aaxis": {
                          "endlinecolor": "#2a3f5f",
                          "gridcolor": "white",
                          "linecolor": "white",
                          "minorgridcolor": "white",
                          "startlinecolor": "#2a3f5f"
                        },
                        "baxis": {
                          "endlinecolor": "#2a3f5f",
                          "gridcolor": "white",
                          "linecolor": "white",
                          "minorgridcolor": "white",
                          "startlinecolor": "#2a3f5f"
                        },
                        "type": "carpet"
                      }
                    ],
                    "choropleth": [
                      {
                        "colorbar": {
                          "outlinewidth": 0,
                          "ticks": ""
                        },
                        "type": "choropleth"
                      }
                    ],
                    "contour": [
                      {
                        "colorbar": {
                          "outlinewidth": 0,
                          "ticks": ""
                        },
                        "colorscale": [
                          [
                            0,
                            "#0d0887"
                          ],
                          [
                            0.1111111111111111,
                            "#46039f"
                          ],
                          [
                            0.2222222222222222,
                            "#7201a8"
                          ],
                          [
                            0.3333333333333333,
                            "#9c179e"
                          ],
                          [
                            0.4444444444444444,
                            "#bd3786"
                          ],
                          [
                            0.5555555555555556,
                            "#d8576b"
                          ],
                          [
                            0.6666666666666666,
                            "#ed7953"
                          ],
                          [
                            0.7777777777777778,
                            "#fb9f3a"
                          ],
                          [
                            0.8888888888888888,
                            "#fdca26"
                          ],
                          [
                            1,
                            "#f0f921"
                          ]
                        ],
                        "type": "contour"
                      }
                    ],
                    "contourcarpet": [
                      {
                        "colorbar": {
                          "outlinewidth": 0,
                          "ticks": ""
                        },
                        "type": "contourcarpet"
                      }
                    ],
                    "heatmap": [
                      {
                        "colorbar": {
                          "outlinewidth": 0,
                          "ticks": ""
                        },
                        "colorscale": [
                          [
                            0,
                            "#0d0887"
                          ],
                          [
                            0.1111111111111111,
                            "#46039f"
                          ],
                          [
                            0.2222222222222222,
                            "#7201a8"
                          ],
                          [
                            0.3333333333333333,
                            "#9c179e"
                          ],
                          [
                            0.4444444444444444,
                            "#bd3786"
                          ],
                          [
                            0.5555555555555556,
                            "#d8576b"
                          ],
                          [
                            0.6666666666666666,
                            "#ed7953"
                          ],
                          [
                            0.7777777777777778,
                            "#fb9f3a"
                          ],
                          [
                            0.8888888888888888,
                            "#fdca26"
                          ],
                          [
                            1,
                            "#f0f921"
                          ]
                        ],
                        "type": "heatmap"
                      }
                    ],
                    "heatmapgl": [
                      {
                        "colorbar": {
                          "outlinewidth": 0,
                          "ticks": ""
                        },
                        "colorscale": [
                          [
                            0,
                            "#0d0887"
                          ],
                          [
                            0.1111111111111111,
                            "#46039f"
                          ],
                          [
                            0.2222222222222222,
                            "#7201a8"
                          ],
                          [
                            0.3333333333333333,
                            "#9c179e"
                          ],
                          [
                            0.4444444444444444,
                            "#bd3786"
                          ],
                          [
                            0.5555555555555556,
                            "#d8576b"
                          ],
                          [
                            0.6666666666666666,
                            "#ed7953"
                          ],
                          [
                            0.7777777777777778,
                            "#fb9f3a"
                          ],
                          [
                            0.8888888888888888,
                            "#fdca26"
                          ],
                          [
                            1,
                            "#f0f921"
                          ]
                        ],
                        "type": "heatmapgl"
                      }
                    ],
                    "histogram": [
                      {
                        "marker": {
                          "pattern": {
                            "fillmode": "overlay",
                            "size": 10,
                            "solidity": 0.2
                          }
                        },
                        "type": "histogram"
                      }
                    ],
                    "histogram2d": [
                      {
                        "colorbar": {
                          "outlinewidth": 0,
                          "ticks": ""
                        },
                        "colorscale": [
                          [
                            0,
                            "#0d0887"
                          ],
                          [
                            0.1111111111111111,
                            "#46039f"
                          ],
                          [
                            0.2222222222222222,
                            "#7201a8"
                          ],
                          [
                            0.3333333333333333,
                            "#9c179e"
                          ],
                          [
                            0.4444444444444444,
                            "#bd3786"
                          ],
                          [
                            0.5555555555555556,
                            "#d8576b"
                          ],
                          [
                            0.6666666666666666,
                            "#ed7953"
                          ],
                          [
                            0.7777777777777778,
                            "#fb9f3a"
                          ],
                          [
                            0.8888888888888888,
                            "#fdca26"
                          ],
                          [
                            1,
                            "#f0f921"
                          ]
                        ],
                        "type": "histogram2d"
                      }
                    ],
                    "histogram2dcontour": [
                      {
                        "colorbar": {
                          "outlinewidth": 0,
                          "ticks": ""
                        },
                        "colorscale": [
                          [
                            0,
                            "#0d0887"
                          ],
                          [
                            0.1111111111111111,
                            "#46039f"
                          ],
                          [
                            0.2222222222222222,
                            "#7201a8"
                          ],
                          [
                            0.3333333333333333,
                            "#9c179e"
                          ],
                          [
                            0.4444444444444444,
                            "#bd3786"
                          ],
                          [
                            0.5555555555555556,
                            "#d8576b"
                          ],
                          [
                            0.6666666666666666,
                            "#ed7953"
                          ],
                          [
                            0.7777777777777778,
                            "#fb9f3a"
                          ],
                          [
                            0.8888888888888888,
                            "#fdca26"
                          ],
                          [
                            1,
                            "#f0f921"
                          ]
                        ],
                        "type": "histogram2dcontour"
                      }
                    ],
                    "mesh3d": [
                      {
                        "colorbar": {
                          "outlinewidth": 0,
                          "ticks": ""
                        },
                        "type": "mesh3d"
                      }
                    ],
                    "parcoords": [
                      {
                        "line": {
                          "colorbar": {
                            "outlinewidth": 0,
                            "ticks": ""
                          }
                        },
                        "type": "parcoords"
                      }
                    ],
                    "pie": [
                      {
                        "automargin": true,
                        "type": "pie"
                      }
                    ],
                    "scatter": [
                      {
                        "fillpattern": {
                          "fillmode": "overlay",
                          "size": 10,
                          "solidity": 0.2
                        },
                        "type": "scatter"
                      }
                    ],
                    "scatter3d": [
                      {
                        "line": {
                          "colorbar": {
                            "outlinewidth": 0,
                            "ticks": ""
                          }
                        },
                        "marker": {
                          "colorbar": {
                            "outlinewidth": 0,
                            "ticks": ""
                          }
                        },
                        "type": "scatter3d"
                      }
                    ],
                    "scattercarpet": [
                      {
                        "marker": {
                          "colorbar": {
                            "outlinewidth": 0,
                            "ticks": ""
                          }
                        },
                        "type": "scattercarpet"
                      }
                    ],
                    "scattergeo": [
                      {
                        "marker": {
                          "colorbar": {
                            "outlinewidth": 0,
                            "ticks": ""
                          }
                        },
                        "type": "scattergeo"
                      }
                    ],
                    "scattergl": [
                      {
                        "marker": {
                          "colorbar": {
                            "outlinewidth": 0,
                            "ticks": ""
                          }
                        },
                        "type": "scattergl"
                      }
                    ],
                    "scattermapbox": [
                      {
                        "marker": {
                          "colorbar": {
                            "outlinewidth": 0,
                            "ticks": ""
                          }
                        },
                        "type": "scattermapbox"
                      }
                    ],
                    "scatterpolar": [
                      {
                        "marker": {
                          "colorbar": {
                            "outlinewidth": 0,
                            "ticks": ""
                          }
                        },
                        "type": "scatterpolar"
                      }
                    ],
                    "scatterpolargl": [
                      {
                        "marker": {
                          "colorbar": {
                            "outlinewidth": 0,
                            "ticks": ""
                          }
                        },
                        "type": "scatterpolargl"
                      }
                    ],
                    "scatterternary": [
                      {
                        "marker": {
                          "colorbar": {
                            "outlinewidth": 0,
                            "ticks": ""
                          }
                        },
                        "type": "scatterternary"
                      }
                    ],
                    "surface": [
                      {
                        "colorbar": {
                          "outlinewidth": 0,
                          "ticks": ""
                        },
                        "colorscale": [
                          [
                            0,
                            "#0d0887"
                          ],
                          [
                            0.1111111111111111,
                            "#46039f"
                          ],
                          [
                            0.2222222222222222,
                            "#7201a8"
                          ],
                          [
                            0.3333333333333333,
                            "#9c179e"
                          ],
                          [
                            0.4444444444444444,
                            "#bd3786"
                          ],
                          [
                            0.5555555555555556,
                            "#d8576b"
                          ],
                          [
                            0.6666666666666666,
                            "#ed7953"
                          ],
                          [
                            0.7777777777777778,
                            "#fb9f3a"
                          ],
                          [
                            0.8888888888888888,
                            "#fdca26"
                          ],
                          [
                            1,
                            "#f0f921"
                          ]
                        ],
                        "type": "surface"
                      }
                    ],
                    "table": [
                      {
                        "cells": {
                          "fill": {
                            "color": "#EBF0F8"
                          },
                          "line": {
                            "color": "white"
                          }
                        },
                        "header": {
                          "fill": {
                            "color": "#C8D4E3"
                          },
                          "line": {
                            "color": "white"
                          }
                        },
                        "type": "table"
                      }
                    ]
                  },
                  "layout": {
                    "annotationdefaults": {
                      "arrowcolor": "#2a3f5f",
                      "arrowhead": 0,
                      "arrowwidth": 1
                    },
                    "autotypenumbers": "strict",
                    "coloraxis": {
                      "colorbar": {
                        "outlinewidth": 0,
                        "ticks": ""
                      }
                    },
                    "colorscale": {
                      "diverging": [
                        [
                          0,
                          "#8e0152"
                        ],
                        [
                          0.1,
                          "#c51b7d"
                        ],
                        [
                          0.2,
                          "#de77ae"
                        ],
                        [
                          0.3,
                          "#f1b6da"
                        ],
                        [
                          0.4,
                          "#fde0ef"
                        ],
                        [
                          0.5,
                          "#f7f7f7"
                        ],
                        [
                          0.6,
                          "#e6f5d0"
                        ],
                        [
                          0.7,
                          "#b8e186"
                        ],
                        [
                          0.8,
                          "#7fbc41"
                        ],
                        [
                          0.9,
                          "#4d9221"
                        ],
                        [
                          1,
                          "#276419"
                        ]
                      ],
                      "sequential": [
                        [
                          0,
                          "#0d0887"
                        ],
                        [
                          0.1111111111111111,
                          "#46039f"
                        ],
                        [
                          0.2222222222222222,
                          "#7201a8"
                        ],
                        [
                          0.3333333333333333,
                          "#9c179e"
                        ],
                        [
                          0.4444444444444444,
                          "#bd3786"
                        ],
                        [
                          0.5555555555555556,
                          "#d8576b"
                        ],
                        [
                          0.6666666666666666,
                          "#ed7953"
                        ],
                        [
                          0.7777777777777778,
                          "#fb9f3a"
                        ],
                        [
                          0.8888888888888888,
                          "#fdca26"
                        ],
                        [
                          1,
                          "#f0f921"
                        ]
                      ],
                      "sequentialminus": [
                        [
                          0,
                          "#0d0887"
                        ],
                        [
                          0.1111111111111111,
                          "#46039f"
                        ],
                        [
                          0.2222222222222222,
                          "#7201a8"
                        ],
                        [
                          0.3333333333333333,
                          "#9c179e"
                        ],
                        [
                          0.4444444444444444,
                          "#bd3786"
                        ],
                        [
                          0.5555555555555556,
                          "#d8576b"
                        ],
                        [
                          0.6666666666666666,
                          "#ed7953"
                        ],
                        [
                          0.7777777777777778,
                          "#fb9f3a"
                        ],
                        [
                          0.8888888888888888,
                          "#fdca26"
                        ],
                        [
                          1,
                          "#f0f921"
                        ]
                      ]
                    },
                    "colorway": [
                      "#636efa",
                      "#EF553B",
                      "#00cc96",
                      "#ab63fa",
                      "#FFA15A",
                      "#19d3f3",
                      "#FF6692",
                      "#B6E880",
                      "#FF97FF",
                      "#FECB52"
                    ],
                    "font": {
                      "color": "#2a3f5f"
                    },
                    "geo": {
                      "bgcolor": "white",
                      "lakecolor": "white",
                      "landcolor": "#E5ECF6",
                      "showlakes": true,
                      "showland": true,
                      "subunitcolor": "white"
                    },
                    "hoverlabel": {
                      "align": "left"
                    },
                    "hovermode": "closest",
                    "mapbox": {
                      "style": "light"
                    },
                    "paper_bgcolor": "white",
                    "plot_bgcolor": "#E5ECF6",
                    "polar": {
                      "angularaxis": {
                        "gridcolor": "white",
                        "linecolor": "white",
                        "ticks": ""
                      },
                      "bgcolor": "#E5ECF6",
                      "radialaxis": {
                        "gridcolor": "white",
                        "linecolor": "white",
                        "ticks": ""
                      }
                    },
                    "scene": {
                      "xaxis": {
                        "backgroundcolor": "#E5ECF6",
                        "gridcolor": "white",
                        "gridwidth": 2,
                        "linecolor": "white",
                        "showbackground": true,
                        "ticks": "",
                        "zerolinecolor": "white"
                      },
                      "yaxis": {
                        "backgroundcolor": "#E5ECF6",
                        "gridcolor": "white",
                        "gridwidth": 2,
                        "linecolor": "white",
                        "showbackground": true,
                        "ticks": "",
                        "zerolinecolor": "white"
                      },
                      "zaxis": {
                        "backgroundcolor": "#E5ECF6",
                        "gridcolor": "white",
                        "gridwidth": 2,
                        "linecolor": "white",
                        "showbackground": true,
                        "ticks": "",
                        "zerolinecolor": "white"
                      }
                    },
                    "shapedefaults": {
                      "line": {
                        "color": "#2a3f5f"
                      }
                    },
                    "ternary": {
                      "aaxis": {
                        "gridcolor": "white",
                        "linecolor": "white",
                        "ticks": ""
                      },
                      "baxis": {
                        "gridcolor": "white",
                        "linecolor": "white",
                        "ticks": ""
                      },
                      "bgcolor": "#E5ECF6",
                      "caxis": {
                        "gridcolor": "white",
                        "linecolor": "white",
                        "ticks": ""
                      }
                    },
                    "title": {
                      "x": 0.05
                    },
                    "xaxis": {
                      "automargin": true,
                      "gridcolor": "white",
                      "linecolor": "white",
                      "ticks": "",
                      "title": {
                        "standoff": 15
                      },
                      "zerolinecolor": "white",
                      "zerolinewidth": 2
                    },
                    "yaxis": {
                      "automargin": true,
                      "gridcolor": "white",
                      "linecolor": "white",
                      "ticks": "",
                      "title": {
                        "standoff": 15
                      },
                      "zerolinecolor": "white",
                      "zerolinewidth": 2
                    }
                  }
                },
                "title": {
                  "text": "Interactive Scatter Plot: Age vs Fare"
                },
                "xaxis": {
                  "anchor": "y",
                  "domain": [
                    0,
                    1
                  ],
                  "title": {
                    "text": "Age"
                  }
                },
                "yaxis": {
                  "anchor": "x",
                  "domain": [
                    0,
                    1
                  ],
                  "title": {
                    "text": "Fare"
                  }
                }
              }
            }
          },
          "metadata": {},
          "output_type": "display_data"
        }
      ],
      "source": [
        "fig = px.scatter(\n",
        "    data,\n",
        "    x=\"Age\",\n",
        "    y=\"Fare\",\n",
        "    title=\"Interactive Scatter Plot: Age vs Fare\"\n",
        ")\n",
        "\n",
        "fig.show()"
      ]
    },
    {
      "cell_type": "markdown",
      "metadata": {
        "id": "izkF2KLDAUXk"
      },
      "source": [
        "## $\\blacksquare$ Linear plot (with several lines) (Интерактивный)"
      ]
    },
    {
      "cell_type": "markdown",
      "metadata": {
        "id": "0k-THa_mP3Dz"
      },
      "source": [
        "Этот график показывает, как меняется средняя стоимость билета в зависимости от выживаемости и класса пассажиров"
      ]
    },
    {
      "cell_type": "code",
      "execution_count": 29,
      "metadata": {
        "colab": {
          "base_uri": "https://localhost:8080/",
          "height": 542
        },
        "id": "CpkA2VMgOHbT",
        "outputId": "2817df51-8d96-42c8-f025-43f7066608fa"
      },
      "outputs": [
        {
          "data": {
            "application/vnd.plotly.v1+json": {
              "config": {
                "plotlyServerURL": "https://plot.ly"
              },
              "data": [
                {
                  "hovertemplate": "Survived=0.0<br>Pclass=%{x}<br>Fare=%{y}<extra></extra>",
                  "legendgroup": "0.0",
                  "line": {
                    "color": "#636efa",
                    "dash": "solid"
                  },
                  "marker": {
                    "symbol": "circle"
                  },
                  "mode": "lines+markers",
                  "name": "0.0",
                  "orientation": "v",
                  "showlegend": true,
                  "type": "scatter",
                  "x": [
                    1,
                    2,
                    3
                  ],
                  "xaxis": "x",
                  "y": [
                    64.68400749999999,
                    19.412327835051546,
                    13.669364247311828
                  ],
                  "yaxis": "y"
                },
                {
                  "hovertemplate": "Survived=1.0<br>Pclass=%{x}<br>Fare=%{y}<extra></extra>",
                  "legendgroup": "1.0",
                  "line": {
                    "color": "#EF553B",
                    "dash": "solid"
                  },
                  "marker": {
                    "symbol": "circle"
                  },
                  "mode": "lines+markers",
                  "name": "1.0",
                  "orientation": "v",
                  "showlegend": true,
                  "type": "scatter",
                  "x": [
                    1,
                    2,
                    3
                  ],
                  "xaxis": "x",
                  "y": [
                    95.60802867647058,
                    22.0557,
                    13.694887394957984
                  ],
                  "yaxis": "y"
                }
              ],
              "layout": {
                "legend": {
                  "title": {
                    "text": "Survived"
                  },
                  "tracegroupgap": 0
                },
                "template": {
                  "data": {
                    "bar": [
                      {
                        "error_x": {
                          "color": "#2a3f5f"
                        },
                        "error_y": {
                          "color": "#2a3f5f"
                        },
                        "marker": {
                          "line": {
                            "color": "#E5ECF6",
                            "width": 0.5
                          },
                          "pattern": {
                            "fillmode": "overlay",
                            "size": 10,
                            "solidity": 0.2
                          }
                        },
                        "type": "bar"
                      }
                    ],
                    "barpolar": [
                      {
                        "marker": {
                          "line": {
                            "color": "#E5ECF6",
                            "width": 0.5
                          },
                          "pattern": {
                            "fillmode": "overlay",
                            "size": 10,
                            "solidity": 0.2
                          }
                        },
                        "type": "barpolar"
                      }
                    ],
                    "carpet": [
                      {
                        "aaxis": {
                          "endlinecolor": "#2a3f5f",
                          "gridcolor": "white",
                          "linecolor": "white",
                          "minorgridcolor": "white",
                          "startlinecolor": "#2a3f5f"
                        },
                        "baxis": {
                          "endlinecolor": "#2a3f5f",
                          "gridcolor": "white",
                          "linecolor": "white",
                          "minorgridcolor": "white",
                          "startlinecolor": "#2a3f5f"
                        },
                        "type": "carpet"
                      }
                    ],
                    "choropleth": [
                      {
                        "colorbar": {
                          "outlinewidth": 0,
                          "ticks": ""
                        },
                        "type": "choropleth"
                      }
                    ],
                    "contour": [
                      {
                        "colorbar": {
                          "outlinewidth": 0,
                          "ticks": ""
                        },
                        "colorscale": [
                          [
                            0,
                            "#0d0887"
                          ],
                          [
                            0.1111111111111111,
                            "#46039f"
                          ],
                          [
                            0.2222222222222222,
                            "#7201a8"
                          ],
                          [
                            0.3333333333333333,
                            "#9c179e"
                          ],
                          [
                            0.4444444444444444,
                            "#bd3786"
                          ],
                          [
                            0.5555555555555556,
                            "#d8576b"
                          ],
                          [
                            0.6666666666666666,
                            "#ed7953"
                          ],
                          [
                            0.7777777777777778,
                            "#fb9f3a"
                          ],
                          [
                            0.8888888888888888,
                            "#fdca26"
                          ],
                          [
                            1,
                            "#f0f921"
                          ]
                        ],
                        "type": "contour"
                      }
                    ],
                    "contourcarpet": [
                      {
                        "colorbar": {
                          "outlinewidth": 0,
                          "ticks": ""
                        },
                        "type": "contourcarpet"
                      }
                    ],
                    "heatmap": [
                      {
                        "colorbar": {
                          "outlinewidth": 0,
                          "ticks": ""
                        },
                        "colorscale": [
                          [
                            0,
                            "#0d0887"
                          ],
                          [
                            0.1111111111111111,
                            "#46039f"
                          ],
                          [
                            0.2222222222222222,
                            "#7201a8"
                          ],
                          [
                            0.3333333333333333,
                            "#9c179e"
                          ],
                          [
                            0.4444444444444444,
                            "#bd3786"
                          ],
                          [
                            0.5555555555555556,
                            "#d8576b"
                          ],
                          [
                            0.6666666666666666,
                            "#ed7953"
                          ],
                          [
                            0.7777777777777778,
                            "#fb9f3a"
                          ],
                          [
                            0.8888888888888888,
                            "#fdca26"
                          ],
                          [
                            1,
                            "#f0f921"
                          ]
                        ],
                        "type": "heatmap"
                      }
                    ],
                    "heatmapgl": [
                      {
                        "colorbar": {
                          "outlinewidth": 0,
                          "ticks": ""
                        },
                        "colorscale": [
                          [
                            0,
                            "#0d0887"
                          ],
                          [
                            0.1111111111111111,
                            "#46039f"
                          ],
                          [
                            0.2222222222222222,
                            "#7201a8"
                          ],
                          [
                            0.3333333333333333,
                            "#9c179e"
                          ],
                          [
                            0.4444444444444444,
                            "#bd3786"
                          ],
                          [
                            0.5555555555555556,
                            "#d8576b"
                          ],
                          [
                            0.6666666666666666,
                            "#ed7953"
                          ],
                          [
                            0.7777777777777778,
                            "#fb9f3a"
                          ],
                          [
                            0.8888888888888888,
                            "#fdca26"
                          ],
                          [
                            1,
                            "#f0f921"
                          ]
                        ],
                        "type": "heatmapgl"
                      }
                    ],
                    "histogram": [
                      {
                        "marker": {
                          "pattern": {
                            "fillmode": "overlay",
                            "size": 10,
                            "solidity": 0.2
                          }
                        },
                        "type": "histogram"
                      }
                    ],
                    "histogram2d": [
                      {
                        "colorbar": {
                          "outlinewidth": 0,
                          "ticks": ""
                        },
                        "colorscale": [
                          [
                            0,
                            "#0d0887"
                          ],
                          [
                            0.1111111111111111,
                            "#46039f"
                          ],
                          [
                            0.2222222222222222,
                            "#7201a8"
                          ],
                          [
                            0.3333333333333333,
                            "#9c179e"
                          ],
                          [
                            0.4444444444444444,
                            "#bd3786"
                          ],
                          [
                            0.5555555555555556,
                            "#d8576b"
                          ],
                          [
                            0.6666666666666666,
                            "#ed7953"
                          ],
                          [
                            0.7777777777777778,
                            "#fb9f3a"
                          ],
                          [
                            0.8888888888888888,
                            "#fdca26"
                          ],
                          [
                            1,
                            "#f0f921"
                          ]
                        ],
                        "type": "histogram2d"
                      }
                    ],
                    "histogram2dcontour": [
                      {
                        "colorbar": {
                          "outlinewidth": 0,
                          "ticks": ""
                        },
                        "colorscale": [
                          [
                            0,
                            "#0d0887"
                          ],
                          [
                            0.1111111111111111,
                            "#46039f"
                          ],
                          [
                            0.2222222222222222,
                            "#7201a8"
                          ],
                          [
                            0.3333333333333333,
                            "#9c179e"
                          ],
                          [
                            0.4444444444444444,
                            "#bd3786"
                          ],
                          [
                            0.5555555555555556,
                            "#d8576b"
                          ],
                          [
                            0.6666666666666666,
                            "#ed7953"
                          ],
                          [
                            0.7777777777777778,
                            "#fb9f3a"
                          ],
                          [
                            0.8888888888888888,
                            "#fdca26"
                          ],
                          [
                            1,
                            "#f0f921"
                          ]
                        ],
                        "type": "histogram2dcontour"
                      }
                    ],
                    "mesh3d": [
                      {
                        "colorbar": {
                          "outlinewidth": 0,
                          "ticks": ""
                        },
                        "type": "mesh3d"
                      }
                    ],
                    "parcoords": [
                      {
                        "line": {
                          "colorbar": {
                            "outlinewidth": 0,
                            "ticks": ""
                          }
                        },
                        "type": "parcoords"
                      }
                    ],
                    "pie": [
                      {
                        "automargin": true,
                        "type": "pie"
                      }
                    ],
                    "scatter": [
                      {
                        "fillpattern": {
                          "fillmode": "overlay",
                          "size": 10,
                          "solidity": 0.2
                        },
                        "type": "scatter"
                      }
                    ],
                    "scatter3d": [
                      {
                        "line": {
                          "colorbar": {
                            "outlinewidth": 0,
                            "ticks": ""
                          }
                        },
                        "marker": {
                          "colorbar": {
                            "outlinewidth": 0,
                            "ticks": ""
                          }
                        },
                        "type": "scatter3d"
                      }
                    ],
                    "scattercarpet": [
                      {
                        "marker": {
                          "colorbar": {
                            "outlinewidth": 0,
                            "ticks": ""
                          }
                        },
                        "type": "scattercarpet"
                      }
                    ],
                    "scattergeo": [
                      {
                        "marker": {
                          "colorbar": {
                            "outlinewidth": 0,
                            "ticks": ""
                          }
                        },
                        "type": "scattergeo"
                      }
                    ],
                    "scattergl": [
                      {
                        "marker": {
                          "colorbar": {
                            "outlinewidth": 0,
                            "ticks": ""
                          }
                        },
                        "type": "scattergl"
                      }
                    ],
                    "scattermapbox": [
                      {
                        "marker": {
                          "colorbar": {
                            "outlinewidth": 0,
                            "ticks": ""
                          }
                        },
                        "type": "scattermapbox"
                      }
                    ],
                    "scatterpolar": [
                      {
                        "marker": {
                          "colorbar": {
                            "outlinewidth": 0,
                            "ticks": ""
                          }
                        },
                        "type": "scatterpolar"
                      }
                    ],
                    "scatterpolargl": [
                      {
                        "marker": {
                          "colorbar": {
                            "outlinewidth": 0,
                            "ticks": ""
                          }
                        },
                        "type": "scatterpolargl"
                      }
                    ],
                    "scatterternary": [
                      {
                        "marker": {
                          "colorbar": {
                            "outlinewidth": 0,
                            "ticks": ""
                          }
                        },
                        "type": "scatterternary"
                      }
                    ],
                    "surface": [
                      {
                        "colorbar": {
                          "outlinewidth": 0,
                          "ticks": ""
                        },
                        "colorscale": [
                          [
                            0,
                            "#0d0887"
                          ],
                          [
                            0.1111111111111111,
                            "#46039f"
                          ],
                          [
                            0.2222222222222222,
                            "#7201a8"
                          ],
                          [
                            0.3333333333333333,
                            "#9c179e"
                          ],
                          [
                            0.4444444444444444,
                            "#bd3786"
                          ],
                          [
                            0.5555555555555556,
                            "#d8576b"
                          ],
                          [
                            0.6666666666666666,
                            "#ed7953"
                          ],
                          [
                            0.7777777777777778,
                            "#fb9f3a"
                          ],
                          [
                            0.8888888888888888,
                            "#fdca26"
                          ],
                          [
                            1,
                            "#f0f921"
                          ]
                        ],
                        "type": "surface"
                      }
                    ],
                    "table": [
                      {
                        "cells": {
                          "fill": {
                            "color": "#EBF0F8"
                          },
                          "line": {
                            "color": "white"
                          }
                        },
                        "header": {
                          "fill": {
                            "color": "#C8D4E3"
                          },
                          "line": {
                            "color": "white"
                          }
                        },
                        "type": "table"
                      }
                    ]
                  },
                  "layout": {
                    "annotationdefaults": {
                      "arrowcolor": "#2a3f5f",
                      "arrowhead": 0,
                      "arrowwidth": 1
                    },
                    "autotypenumbers": "strict",
                    "coloraxis": {
                      "colorbar": {
                        "outlinewidth": 0,
                        "ticks": ""
                      }
                    },
                    "colorscale": {
                      "diverging": [
                        [
                          0,
                          "#8e0152"
                        ],
                        [
                          0.1,
                          "#c51b7d"
                        ],
                        [
                          0.2,
                          "#de77ae"
                        ],
                        [
                          0.3,
                          "#f1b6da"
                        ],
                        [
                          0.4,
                          "#fde0ef"
                        ],
                        [
                          0.5,
                          "#f7f7f7"
                        ],
                        [
                          0.6,
                          "#e6f5d0"
                        ],
                        [
                          0.7,
                          "#b8e186"
                        ],
                        [
                          0.8,
                          "#7fbc41"
                        ],
                        [
                          0.9,
                          "#4d9221"
                        ],
                        [
                          1,
                          "#276419"
                        ]
                      ],
                      "sequential": [
                        [
                          0,
                          "#0d0887"
                        ],
                        [
                          0.1111111111111111,
                          "#46039f"
                        ],
                        [
                          0.2222222222222222,
                          "#7201a8"
                        ],
                        [
                          0.3333333333333333,
                          "#9c179e"
                        ],
                        [
                          0.4444444444444444,
                          "#bd3786"
                        ],
                        [
                          0.5555555555555556,
                          "#d8576b"
                        ],
                        [
                          0.6666666666666666,
                          "#ed7953"
                        ],
                        [
                          0.7777777777777778,
                          "#fb9f3a"
                        ],
                        [
                          0.8888888888888888,
                          "#fdca26"
                        ],
                        [
                          1,
                          "#f0f921"
                        ]
                      ],
                      "sequentialminus": [
                        [
                          0,
                          "#0d0887"
                        ],
                        [
                          0.1111111111111111,
                          "#46039f"
                        ],
                        [
                          0.2222222222222222,
                          "#7201a8"
                        ],
                        [
                          0.3333333333333333,
                          "#9c179e"
                        ],
                        [
                          0.4444444444444444,
                          "#bd3786"
                        ],
                        [
                          0.5555555555555556,
                          "#d8576b"
                        ],
                        [
                          0.6666666666666666,
                          "#ed7953"
                        ],
                        [
                          0.7777777777777778,
                          "#fb9f3a"
                        ],
                        [
                          0.8888888888888888,
                          "#fdca26"
                        ],
                        [
                          1,
                          "#f0f921"
                        ]
                      ]
                    },
                    "colorway": [
                      "#636efa",
                      "#EF553B",
                      "#00cc96",
                      "#ab63fa",
                      "#FFA15A",
                      "#19d3f3",
                      "#FF6692",
                      "#B6E880",
                      "#FF97FF",
                      "#FECB52"
                    ],
                    "font": {
                      "color": "#2a3f5f"
                    },
                    "geo": {
                      "bgcolor": "white",
                      "lakecolor": "white",
                      "landcolor": "#E5ECF6",
                      "showlakes": true,
                      "showland": true,
                      "subunitcolor": "white"
                    },
                    "hoverlabel": {
                      "align": "left"
                    },
                    "hovermode": "closest",
                    "mapbox": {
                      "style": "light"
                    },
                    "paper_bgcolor": "white",
                    "plot_bgcolor": "#E5ECF6",
                    "polar": {
                      "angularaxis": {
                        "gridcolor": "white",
                        "linecolor": "white",
                        "ticks": ""
                      },
                      "bgcolor": "#E5ECF6",
                      "radialaxis": {
                        "gridcolor": "white",
                        "linecolor": "white",
                        "ticks": ""
                      }
                    },
                    "scene": {
                      "xaxis": {
                        "backgroundcolor": "#E5ECF6",
                        "gridcolor": "white",
                        "gridwidth": 2,
                        "linecolor": "white",
                        "showbackground": true,
                        "ticks": "",
                        "zerolinecolor": "white"
                      },
                      "yaxis": {
                        "backgroundcolor": "#E5ECF6",
                        "gridcolor": "white",
                        "gridwidth": 2,
                        "linecolor": "white",
                        "showbackground": true,
                        "ticks": "",
                        "zerolinecolor": "white"
                      },
                      "zaxis": {
                        "backgroundcolor": "#E5ECF6",
                        "gridcolor": "white",
                        "gridwidth": 2,
                        "linecolor": "white",
                        "showbackground": true,
                        "ticks": "",
                        "zerolinecolor": "white"
                      }
                    },
                    "shapedefaults": {
                      "line": {
                        "color": "#2a3f5f"
                      }
                    },
                    "ternary": {
                      "aaxis": {
                        "gridcolor": "white",
                        "linecolor": "white",
                        "ticks": ""
                      },
                      "baxis": {
                        "gridcolor": "white",
                        "linecolor": "white",
                        "ticks": ""
                      },
                      "bgcolor": "#E5ECF6",
                      "caxis": {
                        "gridcolor": "white",
                        "linecolor": "white",
                        "ticks": ""
                      }
                    },
                    "title": {
                      "x": 0.05
                    },
                    "xaxis": {
                      "automargin": true,
                      "gridcolor": "white",
                      "linecolor": "white",
                      "ticks": "",
                      "title": {
                        "standoff": 15
                      },
                      "zerolinecolor": "white",
                      "zerolinewidth": 2
                    },
                    "yaxis": {
                      "automargin": true,
                      "gridcolor": "white",
                      "linecolor": "white",
                      "ticks": "",
                      "title": {
                        "standoff": 15
                      },
                      "zerolinecolor": "white",
                      "zerolinewidth": 2
                    }
                  }
                },
                "title": {
                  "text": "Average Fare by Class and Survival"
                },
                "xaxis": {
                  "anchor": "y",
                  "domain": [
                    0,
                    1
                  ],
                  "title": {
                    "text": "Pclass"
                  }
                },
                "yaxis": {
                  "anchor": "x",
                  "domain": [
                    0,
                    1
                  ],
                  "title": {
                    "text": "Fare"
                  }
                }
              }
            }
          },
          "metadata": {},
          "output_type": "display_data"
        }
      ],
      "source": [
        "# Calculate the average ticket price for each class and survival rate\n",
        "fare_survival = data.groupby(['Pclass', 'Survived'], observed=True)['Fare'].mean().reset_index()\n",
        "\n",
        "fig = px.line(\n",
        "    fare_survival, x='Pclass', y='Fare',\n",
        "    color='Survived',\n",
        "    markers=True,\n",
        "    title=\"Average Fare by Class and Survival\"\n",
        "\n",
        ")\n",
        "\n",
        "fig.show()"
      ]
    },
    {
      "cell_type": "markdown",
      "metadata": {
        "id": "DM4hBXJpAUsL"
      },
      "source": [
        "## $\\blacksquare$ Histogram (Интерактивный)"
      ]
    },
    {
      "cell_type": "markdown",
      "metadata": {
        "id": "-e2uDHrDQcBD"
      },
      "source": [
        "Построим гистограмму для распределения возрастов пассажиров"
      ]
    },
    {
      "cell_type": "code",
      "execution_count": 30,
      "metadata": {
        "colab": {
          "base_uri": "https://localhost:8080/",
          "height": 542
        },
        "id": "Q1RCqbOVQLtm",
        "outputId": "bf8c6eca-473f-40c4-8a73-ab3781ac25f6"
      },
      "outputs": [
        {
          "data": {
            "application/vnd.plotly.v1+json": {
              "config": {
                "plotlyServerURL": "https://plot.ly"
              },
              "data": [
                {
                  "alignmentgroup": "True",
                  "bingroup": "x",
                  "hovertemplate": "Age=%{x}<br>count=%{y}<extra></extra>",
                  "legendgroup": "",
                  "marker": {
                    "color": "#636efa",
                    "pattern": {
                      "shape": ""
                    }
                  },
                  "name": "",
                  "offsetgroup": "",
                  "orientation": "v",
                  "showlegend": false,
                  "type": "histogram",
                  "x": [
                    22,
                    38,
                    26,
                    35,
                    35,
                    null,
                    54,
                    2,
                    27,
                    14,
                    4,
                    58,
                    20,
                    39,
                    14,
                    55,
                    2,
                    null,
                    31,
                    null,
                    35,
                    34,
                    15,
                    28,
                    8,
                    38,
                    null,
                    19,
                    null,
                    null,
                    40,
                    null,
                    null,
                    66,
                    28,
                    42,
                    null,
                    21,
                    18,
                    14,
                    40,
                    27,
                    null,
                    3,
                    19,
                    null,
                    null,
                    null,
                    null,
                    18,
                    7,
                    21,
                    49,
                    29,
                    65,
                    null,
                    21,
                    28.5,
                    5,
                    11,
                    22,
                    38,
                    45,
                    4,
                    null,
                    null,
                    29,
                    19,
                    17,
                    26,
                    32,
                    16,
                    21,
                    26,
                    32,
                    25,
                    null,
                    null,
                    0.83,
                    30,
                    22,
                    29,
                    null,
                    28,
                    17,
                    33,
                    16,
                    null,
                    23,
                    24,
                    29,
                    20,
                    46,
                    26,
                    59,
                    null,
                    71,
                    23,
                    34,
                    34,
                    28,
                    null,
                    21,
                    33,
                    37,
                    28,
                    21,
                    null,
                    38,
                    null,
                    47,
                    14.5,
                    22,
                    20,
                    17,
                    21,
                    70.5,
                    29,
                    24,
                    2,
                    21,
                    null,
                    32.5,
                    32.5,
                    54,
                    12,
                    null,
                    24,
                    null,
                    45,
                    33,
                    20,
                    47,
                    29,
                    25,
                    23,
                    19,
                    37,
                    16,
                    24,
                    null,
                    22,
                    24,
                    19,
                    18,
                    19,
                    27,
                    9,
                    36.5,
                    42,
                    51,
                    22,
                    55.5,
                    40.5,
                    null,
                    51,
                    16,
                    30,
                    null,
                    null,
                    44,
                    40,
                    26,
                    17,
                    1,
                    9,
                    null,
                    45,
                    null,
                    28,
                    61,
                    4,
                    1,
                    21,
                    56,
                    18,
                    null,
                    50,
                    30,
                    36,
                    null,
                    null,
                    9,
                    1,
                    4,
                    null,
                    null,
                    45,
                    40,
                    36,
                    32,
                    19,
                    19,
                    3,
                    44,
                    58,
                    null,
                    42,
                    null,
                    24,
                    28,
                    null,
                    34,
                    45.5,
                    18,
                    2,
                    32,
                    26,
                    16,
                    40,
                    24,
                    35,
                    22,
                    30,
                    null,
                    31,
                    27,
                    42,
                    32,
                    30,
                    16,
                    27,
                    51,
                    null,
                    38,
                    22,
                    19,
                    20.5,
                    18,
                    null,
                    35,
                    29,
                    59,
                    5,
                    24,
                    null,
                    44,
                    8,
                    19,
                    33,
                    null,
                    null,
                    29,
                    22,
                    30,
                    44,
                    25,
                    24,
                    37,
                    54,
                    null,
                    29,
                    62,
                    30,
                    41,
                    29,
                    null,
                    30,
                    35,
                    50,
                    null,
                    3,
                    52,
                    40,
                    null,
                    36,
                    16,
                    25,
                    58,
                    35,
                    null,
                    25,
                    41,
                    37,
                    null,
                    63,
                    45,
                    null,
                    7,
                    35,
                    65,
                    28,
                    16,
                    19,
                    null,
                    33,
                    30,
                    22,
                    42,
                    22,
                    26,
                    19,
                    36,
                    24,
                    24,
                    null,
                    23.5,
                    2,
                    null,
                    50,
                    null,
                    null,
                    19,
                    null,
                    null,
                    0.92,
                    null,
                    17,
                    30,
                    30,
                    24,
                    18,
                    26,
                    28,
                    43,
                    26,
                    24,
                    54,
                    31,
                    40,
                    22,
                    27,
                    30,
                    22,
                    null,
                    36,
                    61,
                    36,
                    31,
                    16,
                    null,
                    45.5,
                    38,
                    16,
                    null,
                    null,
                    29,
                    41,
                    45,
                    45,
                    2,
                    24,
                    28,
                    25,
                    36,
                    24,
                    40,
                    null,
                    3,
                    42,
                    23,
                    null,
                    15,
                    25,
                    null,
                    28,
                    22,
                    38,
                    null,
                    null,
                    40,
                    29,
                    45,
                    35,
                    null,
                    30,
                    60,
                    null,
                    null,
                    24,
                    25,
                    18,
                    19,
                    22,
                    3,
                    null,
                    22,
                    27,
                    20,
                    19,
                    42,
                    1,
                    32,
                    35,
                    null,
                    18,
                    1,
                    36,
                    null,
                    17,
                    36,
                    21,
                    28,
                    23,
                    24,
                    22,
                    31,
                    46,
                    23,
                    28,
                    39,
                    26,
                    21,
                    28,
                    20,
                    34,
                    51,
                    3,
                    21,
                    null,
                    null,
                    null,
                    33,
                    null,
                    44,
                    null,
                    34,
                    18,
                    30,
                    10,
                    null,
                    21,
                    29,
                    28,
                    18,
                    null,
                    28,
                    19,
                    null,
                    32,
                    28,
                    null,
                    42,
                    17,
                    50,
                    14,
                    21,
                    24,
                    64,
                    31,
                    45,
                    20,
                    25,
                    28,
                    null,
                    4,
                    13,
                    34,
                    5,
                    52,
                    36,
                    null,
                    30,
                    49,
                    null,
                    29,
                    65,
                    null,
                    50,
                    null,
                    48,
                    34,
                    47,
                    48,
                    null,
                    38,
                    null,
                    56,
                    null,
                    0.75,
                    null,
                    38,
                    33,
                    23,
                    22,
                    null,
                    34,
                    29,
                    22,
                    2,
                    9,
                    null,
                    50,
                    63,
                    25,
                    null,
                    35,
                    58,
                    30,
                    9,
                    null,
                    21,
                    55,
                    71,
                    21,
                    null,
                    54,
                    null,
                    25,
                    24,
                    17,
                    21,
                    null,
                    37,
                    16,
                    18,
                    33,
                    null,
                    28,
                    26,
                    29,
                    null,
                    36,
                    54,
                    24,
                    47,
                    34,
                    null,
                    36,
                    32,
                    30,
                    22,
                    null,
                    44,
                    null,
                    40.5,
                    50,
                    null,
                    39,
                    23,
                    2,
                    null,
                    17,
                    null,
                    30,
                    7,
                    45,
                    30,
                    null,
                    22,
                    36,
                    9,
                    11,
                    32,
                    50,
                    64,
                    19,
                    null,
                    33,
                    8,
                    17,
                    27,
                    null,
                    22,
                    22,
                    62,
                    48,
                    null,
                    39,
                    36,
                    null,
                    40,
                    28,
                    null,
                    null,
                    24,
                    19,
                    29,
                    null,
                    32,
                    62,
                    53,
                    36,
                    null,
                    16,
                    19,
                    34,
                    39,
                    null,
                    32,
                    25,
                    39,
                    54,
                    36,
                    null,
                    18,
                    47,
                    60,
                    22,
                    null,
                    35,
                    52,
                    47,
                    null,
                    37,
                    36,
                    null,
                    49,
                    null,
                    49,
                    24,
                    null,
                    null,
                    44,
                    35,
                    36,
                    30,
                    27,
                    22,
                    40,
                    39,
                    null,
                    null,
                    null,
                    35,
                    24,
                    34,
                    26,
                    4,
                    26,
                    27,
                    42,
                    20,
                    21,
                    21,
                    61,
                    57,
                    21,
                    26,
                    null,
                    80,
                    51,
                    32,
                    null,
                    9,
                    28,
                    32,
                    31,
                    41,
                    null,
                    20,
                    24,
                    2,
                    null,
                    0.75,
                    48,
                    19,
                    56,
                    null,
                    23,
                    null,
                    18,
                    21,
                    null,
                    18,
                    24,
                    null,
                    32,
                    23,
                    58,
                    50,
                    40,
                    47,
                    36,
                    20,
                    32,
                    25,
                    null,
                    43,
                    null,
                    40,
                    31,
                    70,
                    31,
                    null,
                    18,
                    24.5,
                    18,
                    43,
                    36,
                    null,
                    27,
                    20,
                    14,
                    60,
                    25,
                    14,
                    19,
                    18,
                    15,
                    31,
                    4,
                    null,
                    25,
                    60,
                    52,
                    44,
                    null,
                    49,
                    42,
                    18,
                    35,
                    18,
                    25,
                    26,
                    39,
                    45,
                    42,
                    22,
                    null,
                    24,
                    null,
                    48,
                    29,
                    52,
                    19,
                    38,
                    27,
                    null,
                    33,
                    6,
                    17,
                    34,
                    50,
                    27,
                    20,
                    30,
                    null,
                    25,
                    25,
                    29,
                    11,
                    null,
                    23,
                    23,
                    28.5,
                    48,
                    35,
                    null,
                    null,
                    null,
                    36,
                    21,
                    24,
                    31,
                    70,
                    16,
                    30,
                    19,
                    31,
                    4,
                    6,
                    33,
                    23,
                    48,
                    0.67,
                    28,
                    18,
                    34,
                    33,
                    null,
                    41,
                    20,
                    36,
                    16,
                    51,
                    null,
                    30.5,
                    null,
                    32,
                    24,
                    48,
                    57,
                    null,
                    54,
                    18,
                    null,
                    5,
                    null,
                    43,
                    13,
                    17,
                    29,
                    null,
                    25,
                    25,
                    18,
                    8,
                    1,
                    46,
                    null,
                    16,
                    null,
                    null,
                    25,
                    39,
                    49,
                    31,
                    30,
                    30,
                    34,
                    31,
                    11,
                    0.42,
                    27,
                    31,
                    39,
                    18,
                    39,
                    33,
                    26,
                    39,
                    35,
                    6,
                    30.5,
                    null,
                    23,
                    31,
                    43,
                    10,
                    52,
                    27,
                    38,
                    27,
                    2,
                    null,
                    null,
                    1,
                    null,
                    62,
                    15,
                    0.83,
                    null,
                    23,
                    18,
                    39,
                    21,
                    null,
                    32,
                    null,
                    20,
                    16,
                    30,
                    34.5,
                    17,
                    42,
                    null,
                    35,
                    28,
                    null,
                    4,
                    74,
                    9,
                    16,
                    44,
                    18,
                    45,
                    51,
                    24,
                    null,
                    41,
                    21,
                    48,
                    null,
                    24,
                    42,
                    27,
                    31,
                    null,
                    4,
                    26,
                    47,
                    33,
                    47,
                    28,
                    15,
                    20,
                    19,
                    null,
                    56,
                    25,
                    33,
                    22,
                    28,
                    25,
                    39,
                    27,
                    19,
                    null,
                    26,
                    32,
                    34.5,
                    47,
                    62,
                    27,
                    22,
                    14,
                    30,
                    26,
                    18,
                    21,
                    null,
                    46,
                    23,
                    63,
                    47,
                    24,
                    35,
                    21,
                    27,
                    45,
                    55,
                    9,
                    null,
                    21,
                    48,
                    50,
                    22,
                    22.5,
                    41,
                    null,
                    50,
                    24,
                    33,
                    null,
                    30,
                    18.5,
                    null,
                    21,
                    25,
                    null,
                    39,
                    null,
                    41,
                    30,
                    45,
                    25,
                    45,
                    null,
                    60,
                    36,
                    24,
                    27,
                    20,
                    28,
                    null,
                    10,
                    35,
                    25,
                    null,
                    36,
                    17,
                    32,
                    18,
                    22,
                    13,
                    null,
                    18,
                    47,
                    31,
                    60,
                    24,
                    21,
                    29,
                    28.5,
                    35,
                    32.5,
                    null,
                    55,
                    30,
                    24,
                    6,
                    67,
                    49,
                    null,
                    null,
                    null,
                    27,
                    18,
                    null,
                    2,
                    22,
                    null,
                    27,
                    null,
                    25,
                    25,
                    76,
                    29,
                    20,
                    33,
                    43,
                    27,
                    null,
                    26,
                    16,
                    28,
                    21,
                    null,
                    null,
                    18.5,
                    41,
                    null,
                    36,
                    18.5,
                    63,
                    18,
                    null,
                    1,
                    36,
                    29,
                    12,
                    null,
                    35,
                    28,
                    null,
                    17,
                    22,
                    null,
                    42,
                    24,
                    32,
                    53,
                    null,
                    null,
                    43,
                    24,
                    26.5,
                    26,
                    23,
                    40,
                    10,
                    33,
                    61,
                    28,
                    42,
                    31,
                    null,
                    22,
                    null,
                    30,
                    23,
                    null,
                    60.5,
                    36,
                    13,
                    24,
                    29,
                    23,
                    42,
                    26,
                    null,
                    7,
                    26,
                    null,
                    41,
                    26,
                    48,
                    18,
                    null,
                    22,
                    null,
                    27,
                    23,
                    null,
                    40,
                    15,
                    20,
                    54,
                    36,
                    64,
                    30,
                    37,
                    18,
                    null,
                    27,
                    40,
                    21,
                    17,
                    null,
                    40,
                    34,
                    null,
                    11.5,
                    61,
                    8,
                    33,
                    6,
                    18,
                    23,
                    null,
                    null,
                    0.33,
                    47,
                    8,
                    25,
                    null,
                    35,
                    24,
                    33,
                    25,
                    32,
                    null,
                    17,
                    60,
                    38,
                    42,
                    null,
                    57,
                    50,
                    null,
                    30,
                    21,
                    22,
                    21,
                    53,
                    null,
                    23,
                    null,
                    40.5,
                    36,
                    14,
                    21,
                    21,
                    null,
                    39,
                    20,
                    64,
                    20,
                    18,
                    48,
                    55,
                    45,
                    45,
                    null,
                    null,
                    41,
                    22,
                    42,
                    29,
                    null,
                    0.92,
                    20,
                    27,
                    24,
                    32.5,
                    null,
                    null,
                    28,
                    19,
                    21,
                    36.5,
                    21,
                    29,
                    1,
                    30,
                    null,
                    null,
                    null,
                    null,
                    17,
                    46,
                    null,
                    26,
                    null,
                    null,
                    20,
                    28,
                    40,
                    30,
                    22,
                    23,
                    0.75,
                    null,
                    9,
                    2,
                    36,
                    null,
                    24,
                    null,
                    null,
                    null,
                    30,
                    null,
                    53,
                    36,
                    26,
                    1,
                    null,
                    30,
                    29,
                    32,
                    null,
                    43,
                    24,
                    null,
                    64,
                    30,
                    0.83,
                    55,
                    45,
                    18,
                    22,
                    null,
                    37,
                    55,
                    17,
                    57,
                    19,
                    27,
                    22,
                    26,
                    25,
                    26,
                    33,
                    39,
                    23,
                    12,
                    46,
                    29,
                    21,
                    48,
                    39,
                    null,
                    19,
                    27,
                    30,
                    32,
                    39,
                    25,
                    null,
                    18,
                    32,
                    null,
                    58,
                    null,
                    16,
                    26,
                    38,
                    24,
                    31,
                    45,
                    25,
                    18,
                    49,
                    0.17,
                    50,
                    59,
                    null,
                    null,
                    30,
                    14.5,
                    24,
                    31,
                    27,
                    25,
                    null,
                    null,
                    22,
                    45,
                    29,
                    21,
                    31,
                    49,
                    44,
                    54,
                    45,
                    22,
                    21,
                    55,
                    5,
                    null,
                    26,
                    null,
                    19,
                    null,
                    24,
                    24,
                    57,
                    21,
                    6,
                    23,
                    51,
                    13,
                    47,
                    29,
                    18,
                    24,
                    48,
                    22,
                    31,
                    30,
                    38,
                    22,
                    17,
                    43,
                    20,
                    23,
                    50,
                    null,
                    3,
                    null,
                    37,
                    28,
                    null,
                    39,
                    38.5,
                    null,
                    null
                  ],
                  "xaxis": "x",
                  "yaxis": "y"
                }
              ],
              "layout": {
                "barmode": "relative",
                "legend": {
                  "tracegroupgap": 0
                },
                "template": {
                  "data": {
                    "bar": [
                      {
                        "error_x": {
                          "color": "#2a3f5f"
                        },
                        "error_y": {
                          "color": "#2a3f5f"
                        },
                        "marker": {
                          "line": {
                            "color": "#E5ECF6",
                            "width": 0.5
                          },
                          "pattern": {
                            "fillmode": "overlay",
                            "size": 10,
                            "solidity": 0.2
                          }
                        },
                        "type": "bar"
                      }
                    ],
                    "barpolar": [
                      {
                        "marker": {
                          "line": {
                            "color": "#E5ECF6",
                            "width": 0.5
                          },
                          "pattern": {
                            "fillmode": "overlay",
                            "size": 10,
                            "solidity": 0.2
                          }
                        },
                        "type": "barpolar"
                      }
                    ],
                    "carpet": [
                      {
                        "aaxis": {
                          "endlinecolor": "#2a3f5f",
                          "gridcolor": "white",
                          "linecolor": "white",
                          "minorgridcolor": "white",
                          "startlinecolor": "#2a3f5f"
                        },
                        "baxis": {
                          "endlinecolor": "#2a3f5f",
                          "gridcolor": "white",
                          "linecolor": "white",
                          "minorgridcolor": "white",
                          "startlinecolor": "#2a3f5f"
                        },
                        "type": "carpet"
                      }
                    ],
                    "choropleth": [
                      {
                        "colorbar": {
                          "outlinewidth": 0,
                          "ticks": ""
                        },
                        "type": "choropleth"
                      }
                    ],
                    "contour": [
                      {
                        "colorbar": {
                          "outlinewidth": 0,
                          "ticks": ""
                        },
                        "colorscale": [
                          [
                            0,
                            "#0d0887"
                          ],
                          [
                            0.1111111111111111,
                            "#46039f"
                          ],
                          [
                            0.2222222222222222,
                            "#7201a8"
                          ],
                          [
                            0.3333333333333333,
                            "#9c179e"
                          ],
                          [
                            0.4444444444444444,
                            "#bd3786"
                          ],
                          [
                            0.5555555555555556,
                            "#d8576b"
                          ],
                          [
                            0.6666666666666666,
                            "#ed7953"
                          ],
                          [
                            0.7777777777777778,
                            "#fb9f3a"
                          ],
                          [
                            0.8888888888888888,
                            "#fdca26"
                          ],
                          [
                            1,
                            "#f0f921"
                          ]
                        ],
                        "type": "contour"
                      }
                    ],
                    "contourcarpet": [
                      {
                        "colorbar": {
                          "outlinewidth": 0,
                          "ticks": ""
                        },
                        "type": "contourcarpet"
                      }
                    ],
                    "heatmap": [
                      {
                        "colorbar": {
                          "outlinewidth": 0,
                          "ticks": ""
                        },
                        "colorscale": [
                          [
                            0,
                            "#0d0887"
                          ],
                          [
                            0.1111111111111111,
                            "#46039f"
                          ],
                          [
                            0.2222222222222222,
                            "#7201a8"
                          ],
                          [
                            0.3333333333333333,
                            "#9c179e"
                          ],
                          [
                            0.4444444444444444,
                            "#bd3786"
                          ],
                          [
                            0.5555555555555556,
                            "#d8576b"
                          ],
                          [
                            0.6666666666666666,
                            "#ed7953"
                          ],
                          [
                            0.7777777777777778,
                            "#fb9f3a"
                          ],
                          [
                            0.8888888888888888,
                            "#fdca26"
                          ],
                          [
                            1,
                            "#f0f921"
                          ]
                        ],
                        "type": "heatmap"
                      }
                    ],
                    "heatmapgl": [
                      {
                        "colorbar": {
                          "outlinewidth": 0,
                          "ticks": ""
                        },
                        "colorscale": [
                          [
                            0,
                            "#0d0887"
                          ],
                          [
                            0.1111111111111111,
                            "#46039f"
                          ],
                          [
                            0.2222222222222222,
                            "#7201a8"
                          ],
                          [
                            0.3333333333333333,
                            "#9c179e"
                          ],
                          [
                            0.4444444444444444,
                            "#bd3786"
                          ],
                          [
                            0.5555555555555556,
                            "#d8576b"
                          ],
                          [
                            0.6666666666666666,
                            "#ed7953"
                          ],
                          [
                            0.7777777777777778,
                            "#fb9f3a"
                          ],
                          [
                            0.8888888888888888,
                            "#fdca26"
                          ],
                          [
                            1,
                            "#f0f921"
                          ]
                        ],
                        "type": "heatmapgl"
                      }
                    ],
                    "histogram": [
                      {
                        "marker": {
                          "pattern": {
                            "fillmode": "overlay",
                            "size": 10,
                            "solidity": 0.2
                          }
                        },
                        "type": "histogram"
                      }
                    ],
                    "histogram2d": [
                      {
                        "colorbar": {
                          "outlinewidth": 0,
                          "ticks": ""
                        },
                        "colorscale": [
                          [
                            0,
                            "#0d0887"
                          ],
                          [
                            0.1111111111111111,
                            "#46039f"
                          ],
                          [
                            0.2222222222222222,
                            "#7201a8"
                          ],
                          [
                            0.3333333333333333,
                            "#9c179e"
                          ],
                          [
                            0.4444444444444444,
                            "#bd3786"
                          ],
                          [
                            0.5555555555555556,
                            "#d8576b"
                          ],
                          [
                            0.6666666666666666,
                            "#ed7953"
                          ],
                          [
                            0.7777777777777778,
                            "#fb9f3a"
                          ],
                          [
                            0.8888888888888888,
                            "#fdca26"
                          ],
                          [
                            1,
                            "#f0f921"
                          ]
                        ],
                        "type": "histogram2d"
                      }
                    ],
                    "histogram2dcontour": [
                      {
                        "colorbar": {
                          "outlinewidth": 0,
                          "ticks": ""
                        },
                        "colorscale": [
                          [
                            0,
                            "#0d0887"
                          ],
                          [
                            0.1111111111111111,
                            "#46039f"
                          ],
                          [
                            0.2222222222222222,
                            "#7201a8"
                          ],
                          [
                            0.3333333333333333,
                            "#9c179e"
                          ],
                          [
                            0.4444444444444444,
                            "#bd3786"
                          ],
                          [
                            0.5555555555555556,
                            "#d8576b"
                          ],
                          [
                            0.6666666666666666,
                            "#ed7953"
                          ],
                          [
                            0.7777777777777778,
                            "#fb9f3a"
                          ],
                          [
                            0.8888888888888888,
                            "#fdca26"
                          ],
                          [
                            1,
                            "#f0f921"
                          ]
                        ],
                        "type": "histogram2dcontour"
                      }
                    ],
                    "mesh3d": [
                      {
                        "colorbar": {
                          "outlinewidth": 0,
                          "ticks": ""
                        },
                        "type": "mesh3d"
                      }
                    ],
                    "parcoords": [
                      {
                        "line": {
                          "colorbar": {
                            "outlinewidth": 0,
                            "ticks": ""
                          }
                        },
                        "type": "parcoords"
                      }
                    ],
                    "pie": [
                      {
                        "automargin": true,
                        "type": "pie"
                      }
                    ],
                    "scatter": [
                      {
                        "fillpattern": {
                          "fillmode": "overlay",
                          "size": 10,
                          "solidity": 0.2
                        },
                        "type": "scatter"
                      }
                    ],
                    "scatter3d": [
                      {
                        "line": {
                          "colorbar": {
                            "outlinewidth": 0,
                            "ticks": ""
                          }
                        },
                        "marker": {
                          "colorbar": {
                            "outlinewidth": 0,
                            "ticks": ""
                          }
                        },
                        "type": "scatter3d"
                      }
                    ],
                    "scattercarpet": [
                      {
                        "marker": {
                          "colorbar": {
                            "outlinewidth": 0,
                            "ticks": ""
                          }
                        },
                        "type": "scattercarpet"
                      }
                    ],
                    "scattergeo": [
                      {
                        "marker": {
                          "colorbar": {
                            "outlinewidth": 0,
                            "ticks": ""
                          }
                        },
                        "type": "scattergeo"
                      }
                    ],
                    "scattergl": [
                      {
                        "marker": {
                          "colorbar": {
                            "outlinewidth": 0,
                            "ticks": ""
                          }
                        },
                        "type": "scattergl"
                      }
                    ],
                    "scattermapbox": [
                      {
                        "marker": {
                          "colorbar": {
                            "outlinewidth": 0,
                            "ticks": ""
                          }
                        },
                        "type": "scattermapbox"
                      }
                    ],
                    "scatterpolar": [
                      {
                        "marker": {
                          "colorbar": {
                            "outlinewidth": 0,
                            "ticks": ""
                          }
                        },
                        "type": "scatterpolar"
                      }
                    ],
                    "scatterpolargl": [
                      {
                        "marker": {
                          "colorbar": {
                            "outlinewidth": 0,
                            "ticks": ""
                          }
                        },
                        "type": "scatterpolargl"
                      }
                    ],
                    "scatterternary": [
                      {
                        "marker": {
                          "colorbar": {
                            "outlinewidth": 0,
                            "ticks": ""
                          }
                        },
                        "type": "scatterternary"
                      }
                    ],
                    "surface": [
                      {
                        "colorbar": {
                          "outlinewidth": 0,
                          "ticks": ""
                        },
                        "colorscale": [
                          [
                            0,
                            "#0d0887"
                          ],
                          [
                            0.1111111111111111,
                            "#46039f"
                          ],
                          [
                            0.2222222222222222,
                            "#7201a8"
                          ],
                          [
                            0.3333333333333333,
                            "#9c179e"
                          ],
                          [
                            0.4444444444444444,
                            "#bd3786"
                          ],
                          [
                            0.5555555555555556,
                            "#d8576b"
                          ],
                          [
                            0.6666666666666666,
                            "#ed7953"
                          ],
                          [
                            0.7777777777777778,
                            "#fb9f3a"
                          ],
                          [
                            0.8888888888888888,
                            "#fdca26"
                          ],
                          [
                            1,
                            "#f0f921"
                          ]
                        ],
                        "type": "surface"
                      }
                    ],
                    "table": [
                      {
                        "cells": {
                          "fill": {
                            "color": "#EBF0F8"
                          },
                          "line": {
                            "color": "white"
                          }
                        },
                        "header": {
                          "fill": {
                            "color": "#C8D4E3"
                          },
                          "line": {
                            "color": "white"
                          }
                        },
                        "type": "table"
                      }
                    ]
                  },
                  "layout": {
                    "annotationdefaults": {
                      "arrowcolor": "#2a3f5f",
                      "arrowhead": 0,
                      "arrowwidth": 1
                    },
                    "autotypenumbers": "strict",
                    "coloraxis": {
                      "colorbar": {
                        "outlinewidth": 0,
                        "ticks": ""
                      }
                    },
                    "colorscale": {
                      "diverging": [
                        [
                          0,
                          "#8e0152"
                        ],
                        [
                          0.1,
                          "#c51b7d"
                        ],
                        [
                          0.2,
                          "#de77ae"
                        ],
                        [
                          0.3,
                          "#f1b6da"
                        ],
                        [
                          0.4,
                          "#fde0ef"
                        ],
                        [
                          0.5,
                          "#f7f7f7"
                        ],
                        [
                          0.6,
                          "#e6f5d0"
                        ],
                        [
                          0.7,
                          "#b8e186"
                        ],
                        [
                          0.8,
                          "#7fbc41"
                        ],
                        [
                          0.9,
                          "#4d9221"
                        ],
                        [
                          1,
                          "#276419"
                        ]
                      ],
                      "sequential": [
                        [
                          0,
                          "#0d0887"
                        ],
                        [
                          0.1111111111111111,
                          "#46039f"
                        ],
                        [
                          0.2222222222222222,
                          "#7201a8"
                        ],
                        [
                          0.3333333333333333,
                          "#9c179e"
                        ],
                        [
                          0.4444444444444444,
                          "#bd3786"
                        ],
                        [
                          0.5555555555555556,
                          "#d8576b"
                        ],
                        [
                          0.6666666666666666,
                          "#ed7953"
                        ],
                        [
                          0.7777777777777778,
                          "#fb9f3a"
                        ],
                        [
                          0.8888888888888888,
                          "#fdca26"
                        ],
                        [
                          1,
                          "#f0f921"
                        ]
                      ],
                      "sequentialminus": [
                        [
                          0,
                          "#0d0887"
                        ],
                        [
                          0.1111111111111111,
                          "#46039f"
                        ],
                        [
                          0.2222222222222222,
                          "#7201a8"
                        ],
                        [
                          0.3333333333333333,
                          "#9c179e"
                        ],
                        [
                          0.4444444444444444,
                          "#bd3786"
                        ],
                        [
                          0.5555555555555556,
                          "#d8576b"
                        ],
                        [
                          0.6666666666666666,
                          "#ed7953"
                        ],
                        [
                          0.7777777777777778,
                          "#fb9f3a"
                        ],
                        [
                          0.8888888888888888,
                          "#fdca26"
                        ],
                        [
                          1,
                          "#f0f921"
                        ]
                      ]
                    },
                    "colorway": [
                      "#636efa",
                      "#EF553B",
                      "#00cc96",
                      "#ab63fa",
                      "#FFA15A",
                      "#19d3f3",
                      "#FF6692",
                      "#B6E880",
                      "#FF97FF",
                      "#FECB52"
                    ],
                    "font": {
                      "color": "#2a3f5f"
                    },
                    "geo": {
                      "bgcolor": "white",
                      "lakecolor": "white",
                      "landcolor": "#E5ECF6",
                      "showlakes": true,
                      "showland": true,
                      "subunitcolor": "white"
                    },
                    "hoverlabel": {
                      "align": "left"
                    },
                    "hovermode": "closest",
                    "mapbox": {
                      "style": "light"
                    },
                    "paper_bgcolor": "white",
                    "plot_bgcolor": "#E5ECF6",
                    "polar": {
                      "angularaxis": {
                        "gridcolor": "white",
                        "linecolor": "white",
                        "ticks": ""
                      },
                      "bgcolor": "#E5ECF6",
                      "radialaxis": {
                        "gridcolor": "white",
                        "linecolor": "white",
                        "ticks": ""
                      }
                    },
                    "scene": {
                      "xaxis": {
                        "backgroundcolor": "#E5ECF6",
                        "gridcolor": "white",
                        "gridwidth": 2,
                        "linecolor": "white",
                        "showbackground": true,
                        "ticks": "",
                        "zerolinecolor": "white"
                      },
                      "yaxis": {
                        "backgroundcolor": "#E5ECF6",
                        "gridcolor": "white",
                        "gridwidth": 2,
                        "linecolor": "white",
                        "showbackground": true,
                        "ticks": "",
                        "zerolinecolor": "white"
                      },
                      "zaxis": {
                        "backgroundcolor": "#E5ECF6",
                        "gridcolor": "white",
                        "gridwidth": 2,
                        "linecolor": "white",
                        "showbackground": true,
                        "ticks": "",
                        "zerolinecolor": "white"
                      }
                    },
                    "shapedefaults": {
                      "line": {
                        "color": "#2a3f5f"
                      }
                    },
                    "ternary": {
                      "aaxis": {
                        "gridcolor": "white",
                        "linecolor": "white",
                        "ticks": ""
                      },
                      "baxis": {
                        "gridcolor": "white",
                        "linecolor": "white",
                        "ticks": ""
                      },
                      "bgcolor": "#E5ECF6",
                      "caxis": {
                        "gridcolor": "white",
                        "linecolor": "white",
                        "ticks": ""
                      }
                    },
                    "title": {
                      "x": 0.05
                    },
                    "xaxis": {
                      "automargin": true,
                      "gridcolor": "white",
                      "linecolor": "white",
                      "ticks": "",
                      "title": {
                        "standoff": 15
                      },
                      "zerolinecolor": "white",
                      "zerolinewidth": 2
                    },
                    "yaxis": {
                      "automargin": true,
                      "gridcolor": "white",
                      "linecolor": "white",
                      "ticks": "",
                      "title": {
                        "standoff": 15
                      },
                      "zerolinecolor": "white",
                      "zerolinewidth": 2
                    }
                  }
                },
                "title": {
                  "text": "Histogram of Passengers' Ages"
                },
                "xaxis": {
                  "anchor": "y",
                  "domain": [
                    0,
                    1
                  ],
                  "title": {
                    "text": "Age"
                  }
                },
                "yaxis": {
                  "anchor": "x",
                  "domain": [
                    0,
                    1
                  ],
                  "title": {
                    "text": "count"
                  }
                }
              }
            }
          },
          "metadata": {},
          "output_type": "display_data"
        }
      ],
      "source": [
        "fig = px.histogram(\n",
        "    data, x='Age',\n",
        "    title=\"Histogram of Passengers' Ages\"\n",
        ")\n",
        "\n",
        "fig.show()"
      ]
    },
    {
      "cell_type": "markdown",
      "metadata": {
        "id": "iq2UqTAJAU1J"
      },
      "source": [
        "## $\\blacksquare$ Bar chart"
      ]
    },
    {
      "cell_type": "markdown",
      "metadata": {
        "id": "oOM0iqErSCrc"
      },
      "source": [
        "Создадим столбчатую диаграмму для отображения стоимости билета по классам"
      ]
    },
    {
      "cell_type": "code",
      "execution_count": 31,
      "metadata": {
        "colab": {
          "base_uri": "https://localhost:8080/",
          "height": 564
        },
        "id": "Gd7yfhbzRBmS",
        "outputId": "4e2807ad-432d-4569-eb96-421cadc70e34"
      },
      "outputs": [
        {
          "data": {
            "image/png": "[encoded data removed]",
            "text/plain": [
              "<Figure size 800x600 with 1 Axes>"
            ]
          },
          "metadata": {},
          "output_type": "display_data"
        }
      ],
      "source": [
        "plt.figure(figsize=(8, 6))\n",
        "sns.barplot(x='Pclass', y='Fare', data=data, errorbar=None)\n",
        "\n",
        "# Adding the title and axis labels\n",
        "plt.title(\"Fare by PClass\")\n",
        "plt.xlabel(\"PClass\")\n",
        "plt.ylabel(\"Fare\")\n",
        "\n",
        "plt.show()"
      ]
    },
    {
      "cell_type": "markdown",
      "metadata": {
        "id": "Spb1jT67AU7G"
      },
      "source": [
        "## $\\blacksquare$ Horizontal bar chart"
      ]
    },
    {
      "cell_type": "markdown",
      "metadata": {
        "id": "EZsdrk67UwSd"
      },
      "source": [
        "Построим график, который покажет количество пассажиров, посадившихся в разных портах"
      ]
    },
    {
      "cell_type": "code",
      "execution_count": 32,
      "metadata": {
        "colab": {
          "base_uri": "https://localhost:8080/",
          "height": 564
        },
        "id": "yE0pKIoqUd1Y",
        "outputId": "9ee84a6e-64b4-48cb-f9e9-622c24314537"
      },
      "outputs": [
        {
          "data": {
            "image/png": "[encoded data removed]",
            "text/plain": [
              "<Figure size 800x600 with 1 Axes>"
            ]
          },
          "metadata": {},
          "output_type": "display_data"
        }
      ],
      "source": [
        "# Counting the number of passengers for each port of embarkation\n",
        "embarked_count = data['Embarked'].value_counts().reset_index()\n",
        "embarked_count.columns = ['Embarked', 'Count']\n",
        "\n",
        "# Creating a horizontal bar chart to display the number of passengers at the ports of embarkation\n",
        "plt.figure(figsize=(8, 6))\n",
        "sns.barplot(x='Count', y='Embarked', data=embarked_count, errorbar=None)\n",
        "\n",
        "# Adding the title and axis labels\n",
        "plt.title(\"Number of Passengers by Embarked Port (Horizontal)\")\n",
        "plt.xlabel(\"Number of Passengers\")\n",
        "plt.ylabel(\"Embarked Port\")\n",
        "\n",
        "plt.show()"
      ]
    },
    {
      "cell_type": "markdown",
      "metadata": {
        "id": "0yxBF7lxAVLa"
      },
      "source": [
        "## $\\blacksquare$ Box chart"
      ]
    },
    {
      "cell_type": "markdown",
      "metadata": {
        "id": "K8hyZv1jcFk8"
      },
      "source": [
        "Создадим box chart для распределения возраста по порту посадки"
      ]
    },
    {
      "cell_type": "code",
      "execution_count": 33,
      "metadata": {
        "colab": {
          "base_uri": "https://localhost:8080/",
          "height": 564
        },
        "id": "LeniST2oZCJq",
        "outputId": "14cecf84-3568-40bb-90e6-13e800bb8212"
      },
      "outputs": [
        {
          "data": {
            "image/png": "[encoded data removed]",
            "text/plain": [
              "<Figure size 1000x600 with 1 Axes>"
            ]
          },
          "metadata": {},
          "output_type": "display_data"
        }
      ],
      "source": [
        "plt.figure(figsize=(10, 6))\n",
        "\n",
        "sns.boxplot(data=data, x='Embarked', y='Age')\n",
        "\n",
        "plt.title('Age Distribution by Port of Embarkation')\n",
        "plt.xlabel('Port of Embarkation')\n",
        "plt.ylabel('Age')\n",
        "\n",
        "plt.show()\n"
      ]
    },
    {
      "cell_type": "markdown",
      "metadata": {
        "id": "bWj38HInAVFy"
      },
      "source": [
        "## $\\blacksquare$ Pie chart (Интерактивный)"
      ]
    },
    {
      "cell_type": "markdown",
      "metadata": {
        "id": "DNN3BzhlYxZU"
      },
      "source": [
        "Создадим круговую диаграмму, которая визуализирует распределение статуса выживания пассажиров"
      ]
    },
    {
      "cell_type": "code",
      "execution_count": 34,
      "metadata": {
        "colab": {
          "base_uri": "https://localhost:8080/",
          "height": 542
        },
        "id": "rUfHYiF4VExq",
        "outputId": "d2e2ebbc-5144-42da-e892-7021d8dc0c4e"
      },
      "outputs": [
        {
          "data": {
            "application/vnd.plotly.v1+json": {
              "config": {
                "plotlyServerURL": "https://plot.ly"
              },
              "data": [
                {
                  "domain": {
                    "x": [
                      0,
                      1
                    ],
                    "y": [
                      0,
                      1
                    ]
                  },
                  "hovertemplate": "Status=%{label}<br>Count=%{value}<extra></extra>",
                  "labels": [
                    "Died",
                    "Survived"
                  ],
                  "legendgroup": "",
                  "name": "",
                  "showlegend": true,
                  "type": "pie",
                  "values": [
                    549,
                    342
                  ]
                }
              ],
              "layout": {
                "legend": {
                  "tracegroupgap": 0
                },
                "template": {
                  "data": {
                    "bar": [
                      {
                        "error_x": {
                          "color": "#2a3f5f"
                        },
                        "error_y": {
                          "color": "#2a3f5f"
                        },
                        "marker": {
                          "line": {
                            "color": "#E5ECF6",
                            "width": 0.5
                          },
                          "pattern": {
                            "fillmode": "overlay",
                            "size": 10,
                            "solidity": 0.2
                          }
                        },
                        "type": "bar"
                      }
                    ],
                    "barpolar": [
                      {
                        "marker": {
                          "line": {
                            "color": "#E5ECF6",
                            "width": 0.5
                          },
                          "pattern": {
                            "fillmode": "overlay",
                            "size": 10,
                            "solidity": 0.2
                          }
                        },
                        "type": "barpolar"
                      }
                    ],
                    "carpet": [
                      {
                        "aaxis": {
                          "endlinecolor": "#2a3f5f",
                          "gridcolor": "white",
                          "linecolor": "white",
                          "minorgridcolor": "white",
                          "startlinecolor": "#2a3f5f"
                        },
                        "baxis": {
                          "endlinecolor": "#2a3f5f",
                          "gridcolor": "white",
                          "linecolor": "white",
                          "minorgridcolor": "white",
                          "startlinecolor": "#2a3f5f"
                        },
                        "type": "carpet"
                      }
                    ],
                    "choropleth": [
                      {
                        "colorbar": {
                          "outlinewidth": 0,
                          "ticks": ""
                        },
                        "type": "choropleth"
                      }
                    ],
                    "contour": [
                      {
                        "colorbar": {
                          "outlinewidth": 0,
                          "ticks": ""
                        },
                        "colorscale": [
                          [
                            0,
                            "#0d0887"
                          ],
                          [
                            0.1111111111111111,
                            "#46039f"
                          ],
                          [
                            0.2222222222222222,
                            "#7201a8"
                          ],
                          [
                            0.3333333333333333,
                            "#9c179e"
                          ],
                          [
                            0.4444444444444444,
                            "#bd3786"
                          ],
                          [
                            0.5555555555555556,
                            "#d8576b"
                          ],
                          [
                            0.6666666666666666,
                            "#ed7953"
                          ],
                          [
                            0.7777777777777778,
                            "#fb9f3a"
                          ],
                          [
                            0.8888888888888888,
                            "#fdca26"
                          ],
                          [
                            1,
                            "#f0f921"
                          ]
                        ],
                        "type": "contour"
                      }
                    ],
                    "contourcarpet": [
                      {
                        "colorbar": {
                          "outlinewidth": 0,
                          "ticks": ""
                        },
                        "type": "contourcarpet"
                      }
                    ],
                    "heatmap": [
                      {
                        "colorbar": {
                          "outlinewidth": 0,
                          "ticks": ""
                        },
                        "colorscale": [
                          [
                            0,
                            "#0d0887"
                          ],
                          [
                            0.1111111111111111,
                            "#46039f"
                          ],
                          [
                            0.2222222222222222,
                            "#7201a8"
                          ],
                          [
                            0.3333333333333333,
                            "#9c179e"
                          ],
                          [
                            0.4444444444444444,
                            "#bd3786"
                          ],
                          [
                            0.5555555555555556,
                            "#d8576b"
                          ],
                          [
                            0.6666666666666666,
                            "#ed7953"
                          ],
                          [
                            0.7777777777777778,
                            "#fb9f3a"
                          ],
                          [
                            0.8888888888888888,
                            "#fdca26"
                          ],
                          [
                            1,
                            "#f0f921"
                          ]
                        ],
                        "type": "heatmap"
                      }
                    ],
                    "heatmapgl": [
                      {
                        "colorbar": {
                          "outlinewidth": 0,
                          "ticks": ""
                        },
                        "colorscale": [
                          [
                            0,
                            "#0d0887"
                          ],
                          [
                            0.1111111111111111,
                            "#46039f"
                          ],
                          [
                            0.2222222222222222,
                            "#7201a8"
                          ],
                          [
                            0.3333333333333333,
                            "#9c179e"
                          ],
                          [
                            0.4444444444444444,
                            "#bd3786"
                          ],
                          [
                            0.5555555555555556,
                            "#d8576b"
                          ],
                          [
                            0.6666666666666666,
                            "#ed7953"
                          ],
                          [
                            0.7777777777777778,
                            "#fb9f3a"
                          ],
                          [
                            0.8888888888888888,
                            "#fdca26"
                          ],
                          [
                            1,
                            "#f0f921"
                          ]
                        ],
                        "type": "heatmapgl"
                      }
                    ],
                    "histogram": [
                      {
                        "marker": {
                          "pattern": {
                            "fillmode": "overlay",
                            "size": 10,
                            "solidity": 0.2
                          }
                        },
                        "type": "histogram"
                      }
                    ],
                    "histogram2d": [
                      {
                        "colorbar": {
                          "outlinewidth": 0,
                          "ticks": ""
                        },
                        "colorscale": [
                          [
                            0,
                            "#0d0887"
                          ],
                          [
                            0.1111111111111111,
                            "#46039f"
                          ],
                          [
                            0.2222222222222222,
                            "#7201a8"
                          ],
                          [
                            0.3333333333333333,
                            "#9c179e"
                          ],
                          [
                            0.4444444444444444,
                            "#bd3786"
                          ],
                          [
                            0.5555555555555556,
                            "#d8576b"
                          ],
                          [
                            0.6666666666666666,
                            "#ed7953"
                          ],
                          [
                            0.7777777777777778,
                            "#fb9f3a"
                          ],
                          [
                            0.8888888888888888,
                            "#fdca26"
                          ],
                          [
                            1,
                            "#f0f921"
                          ]
                        ],
                        "type": "histogram2d"
                      }
                    ],
                    "histogram2dcontour": [
                      {
                        "colorbar": {
                          "outlinewidth": 0,
                          "ticks": ""
                        },
                        "colorscale": [
                          [
                            0,
                            "#0d0887"
                          ],
                          [
                            0.1111111111111111,
                            "#46039f"
                          ],
                          [
                            0.2222222222222222,
                            "#7201a8"
                          ],
                          [
                            0.3333333333333333,
                            "#9c179e"
                          ],
                          [
                            0.4444444444444444,
                            "#bd3786"
                          ],
                          [
                            0.5555555555555556,
                            "#d8576b"
                          ],
                          [
                            0.6666666666666666,
                            "#ed7953"
                          ],
                          [
                            0.7777777777777778,
                            "#fb9f3a"
                          ],
                          [
                            0.8888888888888888,
                            "#fdca26"
                          ],
                          [
                            1,
                            "#f0f921"
                          ]
                        ],
                        "type": "histogram2dcontour"
                      }
                    ],
                    "mesh3d": [
                      {
                        "colorbar": {
                          "outlinewidth": 0,
                          "ticks": ""
                        },
                        "type": "mesh3d"
                      }
                    ],
                    "parcoords": [
                      {
                        "line": {
                          "colorbar": {
                            "outlinewidth": 0,
                            "ticks": ""
                          }
                        },
                        "type": "parcoords"
                      }
                    ],
                    "pie": [
                      {
                        "automargin": true,
                        "type": "pie"
                      }
                    ],
                    "scatter": [
                      {
                        "fillpattern": {
                          "fillmode": "overlay",
                          "size": 10,
                          "solidity": 0.2
                        },
                        "type": "scatter"
                      }
                    ],
                    "scatter3d": [
                      {
                        "line": {
                          "colorbar": {
                            "outlinewidth": 0,
                            "ticks": ""
                          }
                        },
                        "marker": {
                          "colorbar": {
                            "outlinewidth": 0,
                            "ticks": ""
                          }
                        },
                        "type": "scatter3d"
                      }
                    ],
                    "scattercarpet": [
                      {
                        "marker": {
                          "colorbar": {
                            "outlinewidth": 0,
                            "ticks": ""
                          }
                        },
                        "type": "scattercarpet"
                      }
                    ],
                    "scattergeo": [
                      {
                        "marker": {
                          "colorbar": {
                            "outlinewidth": 0,
                            "ticks": ""
                          }
                        },
                        "type": "scattergeo"
                      }
                    ],
                    "scattergl": [
                      {
                        "marker": {
                          "colorbar": {
                            "outlinewidth": 0,
                            "ticks": ""
                          }
                        },
                        "type": "scattergl"
                      }
                    ],
                    "scattermapbox": [
                      {
                        "marker": {
                          "colorbar": {
                            "outlinewidth": 0,
                            "ticks": ""
                          }
                        },
                        "type": "scattermapbox"
                      }
                    ],
                    "scatterpolar": [
                      {
                        "marker": {
                          "colorbar": {
                            "outlinewidth": 0,
                            "ticks": ""
                          }
                        },
                        "type": "scatterpolar"
                      }
                    ],
                    "scatterpolargl": [
                      {
                        "marker": {
                          "colorbar": {
                            "outlinewidth": 0,
                            "ticks": ""
                          }
                        },
                        "type": "scatterpolargl"
                      }
                    ],
                    "scatterternary": [
                      {
                        "marker": {
                          "colorbar": {
                            "outlinewidth": 0,
                            "ticks": ""
                          }
                        },
                        "type": "scatterternary"
                      }
                    ],
                    "surface": [
                      {
                        "colorbar": {
                          "outlinewidth": 0,
                          "ticks": ""
                        },
                        "colorscale": [
                          [
                            0,
                            "#0d0887"
                          ],
                          [
                            0.1111111111111111,
                            "#46039f"
                          ],
                          [
                            0.2222222222222222,
                            "#7201a8"
                          ],
                          [
                            0.3333333333333333,
                            "#9c179e"
                          ],
                          [
                            0.4444444444444444,
                            "#bd3786"
                          ],
                          [
                            0.5555555555555556,
                            "#d8576b"
                          ],
                          [
                            0.6666666666666666,
                            "#ed7953"
                          ],
                          [
                            0.7777777777777778,
                            "#fb9f3a"
                          ],
                          [
                            0.8888888888888888,
                            "#fdca26"
                          ],
                          [
                            1,
                            "#f0f921"
                          ]
                        ],
                        "type": "surface"
                      }
                    ],
                    "table": [
                      {
                        "cells": {
                          "fill": {
                            "color": "#EBF0F8"
                          },
                          "line": {
                            "color": "white"
                          }
                        },
                        "header": {
                          "fill": {
                            "color": "#C8D4E3"
                          },
                          "line": {
                            "color": "white"
                          }
                        },
                        "type": "table"
                      }
                    ]
                  },
                  "layout": {
                    "annotationdefaults": {
                      "arrowcolor": "#2a3f5f",
                      "arrowhead": 0,
                      "arrowwidth": 1
                    },
                    "autotypenumbers": "strict",
                    "coloraxis": {
                      "colorbar": {
                        "outlinewidth": 0,
                        "ticks": ""
                      }
                    },
                    "colorscale": {
                      "diverging": [
                        [
                          0,
                          "#8e0152"
                        ],
                        [
                          0.1,
                          "#c51b7d"
                        ],
                        [
                          0.2,
                          "#de77ae"
                        ],
                        [
                          0.3,
                          "#f1b6da"
                        ],
                        [
                          0.4,
                          "#fde0ef"
                        ],
                        [
                          0.5,
                          "#f7f7f7"
                        ],
                        [
                          0.6,
                          "#e6f5d0"
                        ],
                        [
                          0.7,
                          "#b8e186"
                        ],
                        [
                          0.8,
                          "#7fbc41"
                        ],
                        [
                          0.9,
                          "#4d9221"
                        ],
                        [
                          1,
                          "#276419"
                        ]
                      ],
                      "sequential": [
                        [
                          0,
                          "#0d0887"
                        ],
                        [
                          0.1111111111111111,
                          "#46039f"
                        ],
                        [
                          0.2222222222222222,
                          "#7201a8"
                        ],
                        [
                          0.3333333333333333,
                          "#9c179e"
                        ],
                        [
                          0.4444444444444444,
                          "#bd3786"
                        ],
                        [
                          0.5555555555555556,
                          "#d8576b"
                        ],
                        [
                          0.6666666666666666,
                          "#ed7953"
                        ],
                        [
                          0.7777777777777778,
                          "#fb9f3a"
                        ],
                        [
                          0.8888888888888888,
                          "#fdca26"
                        ],
                        [
                          1,
                          "#f0f921"
                        ]
                      ],
                      "sequentialminus": [
                        [
                          0,
                          "#0d0887"
                        ],
                        [
                          0.1111111111111111,
                          "#46039f"
                        ],
                        [
                          0.2222222222222222,
                          "#7201a8"
                        ],
                        [
                          0.3333333333333333,
                          "#9c179e"
                        ],
                        [
                          0.4444444444444444,
                          "#bd3786"
                        ],
                        [
                          0.5555555555555556,
                          "#d8576b"
                        ],
                        [
                          0.6666666666666666,
                          "#ed7953"
                        ],
                        [
                          0.7777777777777778,
                          "#fb9f3a"
                        ],
                        [
                          0.8888888888888888,
                          "#fdca26"
                        ],
                        [
                          1,
                          "#f0f921"
                        ]
                      ]
                    },
                    "colorway": [
                      "#636efa",
                      "#EF553B",
                      "#00cc96",
                      "#ab63fa",
                      "#FFA15A",
                      "#19d3f3",
                      "#FF6692",
                      "#B6E880",
                      "#FF97FF",
                      "#FECB52"
                    ],
                    "font": {
                      "color": "#2a3f5f"
                    },
                    "geo": {
                      "bgcolor": "white",
                      "lakecolor": "white",
                      "landcolor": "#E5ECF6",
                      "showlakes": true,
                      "showland": true,
                      "subunitcolor": "white"
                    },
                    "hoverlabel": {
                      "align": "left"
                    },
                    "hovermode": "closest",
                    "mapbox": {
                      "style": "light"
                    },
                    "paper_bgcolor": "white",
                    "plot_bgcolor": "#E5ECF6",
                    "polar": {
                      "angularaxis": {
                        "gridcolor": "white",
                        "linecolor": "white",
                        "ticks": ""
                      },
                      "bgcolor": "#E5ECF6",
                      "radialaxis": {
                        "gridcolor": "white",
                        "linecolor": "white",
                        "ticks": ""
                      }
                    },
                    "scene": {
                      "xaxis": {
                        "backgroundcolor": "#E5ECF6",
                        "gridcolor": "white",
                        "gridwidth": 2,
                        "linecolor": "white",
                        "showbackground": true,
                        "ticks": "",
                        "zerolinecolor": "white"
                      },
                      "yaxis": {
                        "backgroundcolor": "#E5ECF6",
                        "gridcolor": "white",
                        "gridwidth": 2,
                        "linecolor": "white",
                        "showbackground": true,
                        "ticks": "",
                        "zerolinecolor": "white"
                      },
                      "zaxis": {
                        "backgroundcolor": "#E5ECF6",
                        "gridcolor": "white",
                        "gridwidth": 2,
                        "linecolor": "white",
                        "showbackground": true,
                        "ticks": "",
                        "zerolinecolor": "white"
                      }
                    },
                    "shapedefaults": {
                      "line": {
                        "color": "#2a3f5f"
                      }
                    },
                    "ternary": {
                      "aaxis": {
                        "gridcolor": "white",
                        "linecolor": "white",
                        "ticks": ""
                      },
                      "baxis": {
                        "gridcolor": "white",
                        "linecolor": "white",
                        "ticks": ""
                      },
                      "bgcolor": "#E5ECF6",
                      "caxis": {
                        "gridcolor": "white",
                        "linecolor": "white",
                        "ticks": ""
                      }
                    },
                    "title": {
                      "x": 0.05
                    },
                    "xaxis": {
                      "automargin": true,
                      "gridcolor": "white",
                      "linecolor": "white",
                      "ticks": "",
                      "title": {
                        "standoff": 15
                      },
                      "zerolinecolor": "white",
                      "zerolinewidth": 2
                    },
                    "yaxis": {
                      "automargin": true,
                      "gridcolor": "white",
                      "linecolor": "white",
                      "ticks": "",
                      "title": {
                        "standoff": 15
                      },
                      "zerolinecolor": "white",
                      "zerolinewidth": 2
                    }
                  }
                },
                "title": {
                  "text": "Percentage of survivors and dead passengers on the Titanic"
                }
              }
            }
          },
          "metadata": {},
          "output_type": "display_data"
        }
      ],
      "source": [
        "# Prepare the data\n",
        "# Group the data by the 'Survived' column and count the amount for each value\n",
        "survival_counts = data['Survived'].value_counts().reset_index()\n",
        "survival_counts.columns = ['Survived', 'Count']\n",
        "\n",
        "# Add labels for convenience (0 - Died, 1 - Survived)\n",
        "survival_counts['Status'] = survival_counts['Survived'].replace({0: 'Died', 1: 'Survived'})\n",
        "\n",
        "fig = px.pie(\n",
        "    survival_counts,\n",
        "    values='Count',\n",
        "    names='Status',  # labels\n",
        "    title='Percentage of survivors and dead passengers on the Titanic'\n",
        ")\n",
        "\n",
        "fig.show()"
      ]
    },
    {
      "cell_type": "markdown",
      "metadata": {
        "id": "OSjBJlbxAVA2"
      },
      "source": [
        "## $\\blacksquare$ Sunburst chart  (Интерактивный)"
      ]
    },
    {
      "cell_type": "markdown",
      "metadata": {
        "id": "b6u45J2ShP6U"
      },
      "source": [
        "Создаем Sunburst диаграмму для отображения распределения выживших и погибших по классам и полу на Титанике"
      ]
    },
    {
      "cell_type": "code",
      "execution_count": 35,
      "metadata": {
        "colab": {
          "base_uri": "https://localhost:8080/",
          "height": 542
        },
        "id": "7ObAkw6yavMb",
        "outputId": "9ba65316-02a0-4199-9468-cda48b3ee38f"
      },
      "outputs": [
        {
          "data": {
            "application/vnd.plotly.v1+json": {
              "config": {
                "plotlyServerURL": "https://plot.ly"
              },
              "data": [
                {
                  "branchvalues": "total",
                  "domain": {
                    "x": [
                      0,
                      1
                    ],
                    "y": [
                      0,
                      1
                    ]
                  },
                  "hovertemplate": "labels=%{label}<br>count=%{value}<br>parent=%{parent}<br>id=%{id}<extra></extra>",
                  "ids": [
                    "1/female/Died",
                    "2/female/Died",
                    "3/female/Died",
                    "1/male/Died",
                    "2/male/Died",
                    "3/male/Died",
                    "1/female/Survived",
                    "2/female/Survived",
                    "3/female/Survived",
                    "1/male/Survived",
                    "2/male/Survived",
                    "3/male/Survived",
                    "1/female",
                    "2/female",
                    "3/female",
                    "1/male",
                    "2/male",
                    "3/male",
                    "1",
                    "2",
                    "3"
                  ],
                  "labels": [
                    "Died",
                    "Died",
                    "Died",
                    "Died",
                    "Died",
                    "Died",
                    "Survived",
                    "Survived",
                    "Survived",
                    "Survived",
                    "Survived",
                    "Survived",
                    "female",
                    "female",
                    "female",
                    "male",
                    "male",
                    "male",
                    "1",
                    "2",
                    "3"
                  ],
                  "name": "",
                  "parents": [
                    "1/female",
                    "2/female",
                    "3/female",
                    "1/male",
                    "2/male",
                    "3/male",
                    "1/female",
                    "2/female",
                    "3/female",
                    "1/male",
                    "2/male",
                    "3/male",
                    "1",
                    "2",
                    "3",
                    "1",
                    "2",
                    "3",
                    "",
                    "",
                    ""
                  ],
                  "type": "sunburst",
                  "values": [
                    3,
                    6,
                    72,
                    77,
                    91,
                    300,
                    91,
                    70,
                    72,
                    45,
                    17,
                    47,
                    94,
                    76,
                    144,
                    122,
                    108,
                    347,
                    216,
                    184,
                    491
                  ]
                }
              ],
              "layout": {
                "legend": {
                  "tracegroupgap": 0
                },
                "template": {
                  "data": {
                    "bar": [
                      {
                        "error_x": {
                          "color": "#2a3f5f"
                        },
                        "error_y": {
                          "color": "#2a3f5f"
                        },
                        "marker": {
                          "line": {
                            "color": "#E5ECF6",
                            "width": 0.5
                          },
                          "pattern": {
                            "fillmode": "overlay",
                            "size": 10,
                            "solidity": 0.2
                          }
                        },
                        "type": "bar"
                      }
                    ],
                    "barpolar": [
                      {
                        "marker": {
                          "line": {
                            "color": "#E5ECF6",
                            "width": 0.5
                          },
                          "pattern": {
                            "fillmode": "overlay",
                            "size": 10,
                            "solidity": 0.2
                          }
                        },
                        "type": "barpolar"
                      }
                    ],
                    "carpet": [
                      {
                        "aaxis": {
                          "endlinecolor": "#2a3f5f",
                          "gridcolor": "white",
                          "linecolor": "white",
                          "minorgridcolor": "white",
                          "startlinecolor": "#2a3f5f"
                        },
                        "baxis": {
                          "endlinecolor": "#2a3f5f",
                          "gridcolor": "white",
                          "linecolor": "white",
                          "minorgridcolor": "white",
                          "startlinecolor": "#2a3f5f"
                        },
                        "type": "carpet"
                      }
                    ],
                    "choropleth": [
                      {
                        "colorbar": {
                          "outlinewidth": 0,
                          "ticks": ""
                        },
                        "type": "choropleth"
                      }
                    ],
                    "contour": [
                      {
                        "colorbar": {
                          "outlinewidth": 0,
                          "ticks": ""
                        },
                        "colorscale": [
                          [
                            0,
                            "#0d0887"
                          ],
                          [
                            0.1111111111111111,
                            "#46039f"
                          ],
                          [
                            0.2222222222222222,
                            "#7201a8"
                          ],
                          [
                            0.3333333333333333,
                            "#9c179e"
                          ],
                          [
                            0.4444444444444444,
                            "#bd3786"
                          ],
                          [
                            0.5555555555555556,
                            "#d8576b"
                          ],
                          [
                            0.6666666666666666,
                            "#ed7953"
                          ],
                          [
                            0.7777777777777778,
                            "#fb9f3a"
                          ],
                          [
                            0.8888888888888888,
                            "#fdca26"
                          ],
                          [
                            1,
                            "#f0f921"
                          ]
                        ],
                        "type": "contour"
                      }
                    ],
                    "contourcarpet": [
                      {
                        "colorbar": {
                          "outlinewidth": 0,
                          "ticks": ""
                        },
                        "type": "contourcarpet"
                      }
                    ],
                    "heatmap": [
                      {
                        "colorbar": {
                          "outlinewidth": 0,
                          "ticks": ""
                        },
                        "colorscale": [
                          [
                            0,
                            "#0d0887"
                          ],
                          [
                            0.1111111111111111,
                            "#46039f"
                          ],
                          [
                            0.2222222222222222,
                            "#7201a8"
                          ],
                          [
                            0.3333333333333333,
                            "#9c179e"
                          ],
                          [
                            0.4444444444444444,
                            "#bd3786"
                          ],
                          [
                            0.5555555555555556,
                            "#d8576b"
                          ],
                          [
                            0.6666666666666666,
                            "#ed7953"
                          ],
                          [
                            0.7777777777777778,
                            "#fb9f3a"
                          ],
                          [
                            0.8888888888888888,
                            "#fdca26"
                          ],
                          [
                            1,
                            "#f0f921"
                          ]
                        ],
                        "type": "heatmap"
                      }
                    ],
                    "heatmapgl": [
                      {
                        "colorbar": {
                          "outlinewidth": 0,
                          "ticks": ""
                        },
                        "colorscale": [
                          [
                            0,
                            "#0d0887"
                          ],
                          [
                            0.1111111111111111,
                            "#46039f"
                          ],
                          [
                            0.2222222222222222,
                            "#7201a8"
                          ],
                          [
                            0.3333333333333333,
                            "#9c179e"
                          ],
                          [
                            0.4444444444444444,
                            "#bd3786"
                          ],
                          [
                            0.5555555555555556,
                            "#d8576b"
                          ],
                          [
                            0.6666666666666666,
                            "#ed7953"
                          ],
                          [
                            0.7777777777777778,
                            "#fb9f3a"
                          ],
                          [
                            0.8888888888888888,
                            "#fdca26"
                          ],
                          [
                            1,
                            "#f0f921"
                          ]
                        ],
                        "type": "heatmapgl"
                      }
                    ],
                    "histogram": [
                      {
                        "marker": {
                          "pattern": {
                            "fillmode": "overlay",
                            "size": 10,
                            "solidity": 0.2
                          }
                        },
                        "type": "histogram"
                      }
                    ],
                    "histogram2d": [
                      {
                        "colorbar": {
                          "outlinewidth": 0,
                          "ticks": ""
                        },
                        "colorscale": [
                          [
                            0,
                            "#0d0887"
                          ],
                          [
                            0.1111111111111111,
                            "#46039f"
                          ],
                          [
                            0.2222222222222222,
                            "#7201a8"
                          ],
                          [
                            0.3333333333333333,
                            "#9c179e"
                          ],
                          [
                            0.4444444444444444,
                            "#bd3786"
                          ],
                          [
                            0.5555555555555556,
                            "#d8576b"
                          ],
                          [
                            0.6666666666666666,
                            "#ed7953"
                          ],
                          [
                            0.7777777777777778,
                            "#fb9f3a"
                          ],
                          [
                            0.8888888888888888,
                            "#fdca26"
                          ],
                          [
                            1,
                            "#f0f921"
                          ]
                        ],
                        "type": "histogram2d"
                      }
                    ],
                    "histogram2dcontour": [
                      {
                        "colorbar": {
                          "outlinewidth": 0,
                          "ticks": ""
                        },
                        "colorscale": [
                          [
                            0,
                            "#0d0887"
                          ],
                          [
                            0.1111111111111111,
                            "#46039f"
                          ],
                          [
                            0.2222222222222222,
                            "#7201a8"
                          ],
                          [
                            0.3333333333333333,
                            "#9c179e"
                          ],
                          [
                            0.4444444444444444,
                            "#bd3786"
                          ],
                          [
                            0.5555555555555556,
                            "#d8576b"
                          ],
                          [
                            0.6666666666666666,
                            "#ed7953"
                          ],
                          [
                            0.7777777777777778,
                            "#fb9f3a"
                          ],
                          [
                            0.8888888888888888,
                            "#fdca26"
                          ],
                          [
                            1,
                            "#f0f921"
                          ]
                        ],
                        "type": "histogram2dcontour"
                      }
                    ],
                    "mesh3d": [
                      {
                        "colorbar": {
                          "outlinewidth": 0,
                          "ticks": ""
                        },
                        "type": "mesh3d"
                      }
                    ],
                    "parcoords": [
                      {
                        "line": {
                          "colorbar": {
                            "outlinewidth": 0,
                            "ticks": ""
                          }
                        },
                        "type": "parcoords"
                      }
                    ],
                    "pie": [
                      {
                        "automargin": true,
                        "type": "pie"
                      }
                    ],
                    "scatter": [
                      {
                        "fillpattern": {
                          "fillmode": "overlay",
                          "size": 10,
                          "solidity": 0.2
                        },
                        "type": "scatter"
                      }
                    ],
                    "scatter3d": [
                      {
                        "line": {
                          "colorbar": {
                            "outlinewidth": 0,
                            "ticks": ""
                          }
                        },
                        "marker": {
                          "colorbar": {
                            "outlinewidth": 0,
                            "ticks": ""
                          }
                        },
                        "type": "scatter3d"
                      }
                    ],
                    "scattercarpet": [
                      {
                        "marker": {
                          "colorbar": {
                            "outlinewidth": 0,
                            "ticks": ""
                          }
                        },
                        "type": "scattercarpet"
                      }
                    ],
                    "scattergeo": [
                      {
                        "marker": {
                          "colorbar": {
                            "outlinewidth": 0,
                            "ticks": ""
                          }
                        },
                        "type": "scattergeo"
                      }
                    ],
                    "scattergl": [
                      {
                        "marker": {
                          "colorbar": {
                            "outlinewidth": 0,
                            "ticks": ""
                          }
                        },
                        "type": "scattergl"
                      }
                    ],
                    "scattermapbox": [
                      {
                        "marker": {
                          "colorbar": {
                            "outlinewidth": 0,
                            "ticks": ""
                          }
                        },
                        "type": "scattermapbox"
                      }
                    ],
                    "scatterpolar": [
                      {
                        "marker": {
                          "colorbar": {
                            "outlinewidth": 0,
                            "ticks": ""
                          }
                        },
                        "type": "scatterpolar"
                      }
                    ],
                    "scatterpolargl": [
                      {
                        "marker": {
                          "colorbar": {
                            "outlinewidth": 0,
                            "ticks": ""
                          }
                        },
                        "type": "scatterpolargl"
                      }
                    ],
                    "scatterternary": [
                      {
                        "marker": {
                          "colorbar": {
                            "outlinewidth": 0,
                            "ticks": ""
                          }
                        },
                        "type": "scatterternary"
                      }
                    ],
                    "surface": [
                      {
                        "colorbar": {
                          "outlinewidth": 0,
                          "ticks": ""
                        },
                        "colorscale": [
                          [
                            0,
                            "#0d0887"
                          ],
                          [
                            0.1111111111111111,
                            "#46039f"
                          ],
                          [
                            0.2222222222222222,
                            "#7201a8"
                          ],
                          [
                            0.3333333333333333,
                            "#9c179e"
                          ],
                          [
                            0.4444444444444444,
                            "#bd3786"
                          ],
                          [
                            0.5555555555555556,
                            "#d8576b"
                          ],
                          [
                            0.6666666666666666,
                            "#ed7953"
                          ],
                          [
                            0.7777777777777778,
                            "#fb9f3a"
                          ],
                          [
                            0.8888888888888888,
                            "#fdca26"
                          ],
                          [
                            1,
                            "#f0f921"
                          ]
                        ],
                        "type": "surface"
                      }
                    ],
                    "table": [
                      {
                        "cells": {
                          "fill": {
                            "color": "#EBF0F8"
                          },
                          "line": {
                            "color": "white"
                          }
                        },
                        "header": {
                          "fill": {
                            "color": "#C8D4E3"
                          },
                          "line": {
                            "color": "white"
                          }
                        },
                        "type": "table"
                      }
                    ]
                  },
                  "layout": {
                    "annotationdefaults": {
                      "arrowcolor": "#2a3f5f",
                      "arrowhead": 0,
                      "arrowwidth": 1
                    },
                    "autotypenumbers": "strict",
                    "coloraxis": {
                      "colorbar": {
                        "outlinewidth": 0,
                        "ticks": ""
                      }
                    },
                    "colorscale": {
                      "diverging": [
                        [
                          0,
                          "#8e0152"
                        ],
                        [
                          0.1,
                          "#c51b7d"
                        ],
                        [
                          0.2,
                          "#de77ae"
                        ],
                        [
                          0.3,
                          "#f1b6da"
                        ],
                        [
                          0.4,
                          "#fde0ef"
                        ],
                        [
                          0.5,
                          "#f7f7f7"
                        ],
                        [
                          0.6,
                          "#e6f5d0"
                        ],
                        [
                          0.7,
                          "#b8e186"
                        ],
                        [
                          0.8,
                          "#7fbc41"
                        ],
                        [
                          0.9,
                          "#4d9221"
                        ],
                        [
                          1,
                          "#276419"
                        ]
                      ],
                      "sequential": [
                        [
                          0,
                          "#0d0887"
                        ],
                        [
                          0.1111111111111111,
                          "#46039f"
                        ],
                        [
                          0.2222222222222222,
                          "#7201a8"
                        ],
                        [
                          0.3333333333333333,
                          "#9c179e"
                        ],
                        [
                          0.4444444444444444,
                          "#bd3786"
                        ],
                        [
                          0.5555555555555556,
                          "#d8576b"
                        ],
                        [
                          0.6666666666666666,
                          "#ed7953"
                        ],
                        [
                          0.7777777777777778,
                          "#fb9f3a"
                        ],
                        [
                          0.8888888888888888,
                          "#fdca26"
                        ],
                        [
                          1,
                          "#f0f921"
                        ]
                      ],
                      "sequentialminus": [
                        [
                          0,
                          "#0d0887"
                        ],
                        [
                          0.1111111111111111,
                          "#46039f"
                        ],
                        [
                          0.2222222222222222,
                          "#7201a8"
                        ],
                        [
                          0.3333333333333333,
                          "#9c179e"
                        ],
                        [
                          0.4444444444444444,
                          "#bd3786"
                        ],
                        [
                          0.5555555555555556,
                          "#d8576b"
                        ],
                        [
                          0.6666666666666666,
                          "#ed7953"
                        ],
                        [
                          0.7777777777777778,
                          "#fb9f3a"
                        ],
                        [
                          0.8888888888888888,
                          "#fdca26"
                        ],
                        [
                          1,
                          "#f0f921"
                        ]
                      ]
                    },
                    "colorway": [
                      "#636efa",
                      "#EF553B",
                      "#00cc96",
                      "#ab63fa",
                      "#FFA15A",
                      "#19d3f3",
                      "#FF6692",
                      "#B6E880",
                      "#FF97FF",
                      "#FECB52"
                    ],
                    "font": {
                      "color": "#2a3f5f"
                    },
                    "geo": {
                      "bgcolor": "white",
                      "lakecolor": "white",
                      "landcolor": "#E5ECF6",
                      "showlakes": true,
                      "showland": true,
                      "subunitcolor": "white"
                    },
                    "hoverlabel": {
                      "align": "left"
                    },
                    "hovermode": "closest",
                    "mapbox": {
                      "style": "light"
                    },
                    "paper_bgcolor": "white",
                    "plot_bgcolor": "#E5ECF6",
                    "polar": {
                      "angularaxis": {
                        "gridcolor": "white",
                        "linecolor": "white",
                        "ticks": ""
                      },
                      "bgcolor": "#E5ECF6",
                      "radialaxis": {
                        "gridcolor": "white",
                        "linecolor": "white",
                        "ticks": ""
                      }
                    },
                    "scene": {
                      "xaxis": {
                        "backgroundcolor": "#E5ECF6",
                        "gridcolor": "white",
                        "gridwidth": 2,
                        "linecolor": "white",
                        "showbackground": true,
                        "ticks": "",
                        "zerolinecolor": "white"
                      },
                      "yaxis": {
                        "backgroundcolor": "#E5ECF6",
                        "gridcolor": "white",
                        "gridwidth": 2,
                        "linecolor": "white",
                        "showbackground": true,
                        "ticks": "",
                        "zerolinecolor": "white"
                      },
                      "zaxis": {
                        "backgroundcolor": "#E5ECF6",
                        "gridcolor": "white",
                        "gridwidth": 2,
                        "linecolor": "white",
                        "showbackground": true,
                        "ticks": "",
                        "zerolinecolor": "white"
                      }
                    },
                    "shapedefaults": {
                      "line": {
                        "color": "#2a3f5f"
                      }
                    },
                    "ternary": {
                      "aaxis": {
                        "gridcolor": "white",
                        "linecolor": "white",
                        "ticks": ""
                      },
                      "baxis": {
                        "gridcolor": "white",
                        "linecolor": "white",
                        "ticks": ""
                      },
                      "bgcolor": "#E5ECF6",
                      "caxis": {
                        "gridcolor": "white",
                        "linecolor": "white",
                        "ticks": ""
                      }
                    },
                    "title": {
                      "x": 0.05
                    },
                    "xaxis": {
                      "automargin": true,
                      "gridcolor": "white",
                      "linecolor": "white",
                      "ticks": "",
                      "title": {
                        "standoff": 15
                      },
                      "zerolinecolor": "white",
                      "zerolinewidth": 2
                    },
                    "yaxis": {
                      "automargin": true,
                      "gridcolor": "white",
                      "linecolor": "white",
                      "ticks": "",
                      "title": {
                        "standoff": 15
                      },
                      "zerolinecolor": "white",
                      "zerolinewidth": 2
                    }
                  }
                },
                "title": {
                  "text": "Distribution of survivors and dead by class and gender on the Titanic"
                }
              }
            }
          },
          "metadata": {},
          "output_type": "display_data"
        }
      ],
      "source": [
        "# Make sure that there are no missing values in the key columns in the data\n",
        "data = data[['Pclass', 'Sex', 'Survived']].dropna()\n",
        "\n",
        "# Add tags for the survival status\n",
        "data['Survival Status'] = data['Survived'].map({0: 'Died', 1: 'Survived'}).astype(str)\n",
        "\n",
        "fig = px.sunburst(\n",
        "    data,\n",
        "    path=['Pclass', 'Sex', 'Survival Status'],  # Hierarchy to display\n",
        "    title='Distribution of survivors and dead by class and gender on the Titanic'\n",
        ")\n",
        "\n",
        "fig.show()"
      ]
    },
    {
      "cell_type": "markdown",
      "metadata": {
        "id": "40dpXhzmueZ9"
      },
      "source": [
        "## $\\Rightarrow$ Итоги визуализации"
      ]
    },
    {
      "cell_type": "markdown",
      "metadata": {
        "id": "ziaqRy29ulZk"
      },
      "source": [
        "В этом разделе было выполнено:\n",
        "\n",
        "- **11** различных графиков (из требуемых 10), с использованием библиотек `seaborn`, `plotly`, `matplotlib`\n",
        "- **6** интерактивных графиков (из требуемых 5)\n",
        "- **1** 3D график (из требуемых 1)\n",
        "- **8** перечисленных необходимых графиков (из требуемых 8)"
      ]
    },
    {
      "cell_type": "markdown",
      "metadata": {
        "id": "tqjII2LIAySy"
      },
      "source": [
        " # $\\blacksquare$ (Доп., +2 балла) Сделать Sankey Diagram в Plotly на данных датасета"
      ]
    },
    {
      "cell_type": "markdown",
      "metadata": {
        "id": "se4lO2oBk9aW"
      },
      "source": [
        "Создадим диаграмму sankey по потокам по классам, полу и выживаемости"
      ]
    },
    {
      "cell_type": "code",
      "execution_count": 36,
      "metadata": {
        "colab": {
          "base_uri": "https://localhost:8080/",
          "height": 542
        },
        "id": "j0XaPH-yj3Qw",
        "outputId": "de044b25-b777-4ece-dfc8-7cbdc5f3100c"
      },
      "outputs": [
        {
          "data": {
            "application/vnd.plotly.v1+json": {
              "config": {
                "plotlyServerURL": "https://plot.ly"
              },
              "data": [
                {
                  "link": {
                    "source": [
                      0,
                      0,
                      1,
                      1,
                      2,
                      2,
                      3,
                      4,
                      3,
                      4
                    ],
                    "target": [
                      3,
                      4,
                      3,
                      4,
                      3,
                      4,
                      5,
                      5,
                      6,
                      6
                    ],
                    "value": [
                      122,
                      94,
                      108,
                      76,
                      347,
                      144,
                      109,
                      233,
                      468,
                      81
                    ]
                  },
                  "node": {
                    "label": [
                      "Pclass 1",
                      "Pclass 2",
                      "Pclass 3",
                      "Male",
                      "Female",
                      "Survived",
                      "Not Survived"
                    ],
                    "line": {
                      "color": "black",
                      "width": 0.5
                    },
                    "pad": 15,
                    "thickness": 20
                  },
                  "type": "sankey"
                }
              ],
              "layout": {
                "font": {
                  "size": 10
                },
                "template": {
                  "data": {
                    "bar": [
                      {
                        "error_x": {
                          "color": "#2a3f5f"
                        },
                        "error_y": {
                          "color": "#2a3f5f"
                        },
                        "marker": {
                          "line": {
                            "color": "#E5ECF6",
                            "width": 0.5
                          },
                          "pattern": {
                            "fillmode": "overlay",
                            "size": 10,
                            "solidity": 0.2
                          }
                        },
                        "type": "bar"
                      }
                    ],
                    "barpolar": [
                      {
                        "marker": {
                          "line": {
                            "color": "#E5ECF6",
                            "width": 0.5
                          },
                          "pattern": {
                            "fillmode": "overlay",
                            "size": 10,
                            "solidity": 0.2
                          }
                        },
                        "type": "barpolar"
                      }
                    ],
                    "carpet": [
                      {
                        "aaxis": {
                          "endlinecolor": "#2a3f5f",
                          "gridcolor": "white",
                          "linecolor": "white",
                          "minorgridcolor": "white",
                          "startlinecolor": "#2a3f5f"
                        },
                        "baxis": {
                          "endlinecolor": "#2a3f5f",
                          "gridcolor": "white",
                          "linecolor": "white",
                          "minorgridcolor": "white",
                          "startlinecolor": "#2a3f5f"
                        },
                        "type": "carpet"
                      }
                    ],
                    "choropleth": [
                      {
                        "colorbar": {
                          "outlinewidth": 0,
                          "ticks": ""
                        },
                        "type": "choropleth"
                      }
                    ],
                    "contour": [
                      {
                        "colorbar": {
                          "outlinewidth": 0,
                          "ticks": ""
                        },
                        "colorscale": [
                          [
                            0,
                            "#0d0887"
                          ],
                          [
                            0.1111111111111111,
                            "#46039f"
                          ],
                          [
                            0.2222222222222222,
                            "#7201a8"
                          ],
                          [
                            0.3333333333333333,
                            "#9c179e"
                          ],
                          [
                            0.4444444444444444,
                            "#bd3786"
                          ],
                          [
                            0.5555555555555556,
                            "#d8576b"
                          ],
                          [
                            0.6666666666666666,
                            "#ed7953"
                          ],
                          [
                            0.7777777777777778,
                            "#fb9f3a"
                          ],
                          [
                            0.8888888888888888,
                            "#fdca26"
                          ],
                          [
                            1,
                            "#f0f921"
                          ]
                        ],
                        "type": "contour"
                      }
                    ],
                    "contourcarpet": [
                      {
                        "colorbar": {
                          "outlinewidth": 0,
                          "ticks": ""
                        },
                        "type": "contourcarpet"
                      }
                    ],
                    "heatmap": [
                      {
                        "colorbar": {
                          "outlinewidth": 0,
                          "ticks": ""
                        },
                        "colorscale": [
                          [
                            0,
                            "#0d0887"
                          ],
                          [
                            0.1111111111111111,
                            "#46039f"
                          ],
                          [
                            0.2222222222222222,
                            "#7201a8"
                          ],
                          [
                            0.3333333333333333,
                            "#9c179e"
                          ],
                          [
                            0.4444444444444444,
                            "#bd3786"
                          ],
                          [
                            0.5555555555555556,
                            "#d8576b"
                          ],
                          [
                            0.6666666666666666,
                            "#ed7953"
                          ],
                          [
                            0.7777777777777778,
                            "#fb9f3a"
                          ],
                          [
                            0.8888888888888888,
                            "#fdca26"
                          ],
                          [
                            1,
                            "#f0f921"
                          ]
                        ],
                        "type": "heatmap"
                      }
                    ],
                    "heatmapgl": [
                      {
                        "colorbar": {
                          "outlinewidth": 0,
                          "ticks": ""
                        },
                        "colorscale": [
                          [
                            0,
                            "#0d0887"
                          ],
                          [
                            0.1111111111111111,
                            "#46039f"
                          ],
                          [
                            0.2222222222222222,
                            "#7201a8"
                          ],
                          [
                            0.3333333333333333,
                            "#9c179e"
                          ],
                          [
                            0.4444444444444444,
                            "#bd3786"
                          ],
                          [
                            0.5555555555555556,
                            "#d8576b"
                          ],
                          [
                            0.6666666666666666,
                            "#ed7953"
                          ],
                          [
                            0.7777777777777778,
                            "#fb9f3a"
                          ],
                          [
                            0.8888888888888888,
                            "#fdca26"
                          ],
                          [
                            1,
                            "#f0f921"
                          ]
                        ],
                        "type": "heatmapgl"
                      }
                    ],
                    "histogram": [
                      {
                        "marker": {
                          "pattern": {
                            "fillmode": "overlay",
                            "size": 10,
                            "solidity": 0.2
                          }
                        },
                        "type": "histogram"
                      }
                    ],
                    "histogram2d": [
                      {
                        "colorbar": {
                          "outlinewidth": 0,
                          "ticks": ""
                        },
                        "colorscale": [
                          [
                            0,
                            "#0d0887"
                          ],
                          [
                            0.1111111111111111,
                            "#46039f"
                          ],
                          [
                            0.2222222222222222,
                            "#7201a8"
                          ],
                          [
                            0.3333333333333333,
                            "#9c179e"
                          ],
                          [
                            0.4444444444444444,
                            "#bd3786"
                          ],
                          [
                            0.5555555555555556,
                            "#d8576b"
                          ],
                          [
                            0.6666666666666666,
                            "#ed7953"
                          ],
                          [
                            0.7777777777777778,
                            "#fb9f3a"
                          ],
                          [
                            0.8888888888888888,
                            "#fdca26"
                          ],
                          [
                            1,
                            "#f0f921"
                          ]
                        ],
                        "type": "histogram2d"
                      }
                    ],
                    "histogram2dcontour": [
                      {
                        "colorbar": {
                          "outlinewidth": 0,
                          "ticks": ""
                        },
                        "colorscale": [
                          [
                            0,
                            "#0d0887"
                          ],
                          [
                            0.1111111111111111,
                            "#46039f"
                          ],
                          [
                            0.2222222222222222,
                            "#7201a8"
                          ],
                          [
                            0.3333333333333333,
                            "#9c179e"
                          ],
                          [
                            0.4444444444444444,
                            "#bd3786"
                          ],
                          [
                            0.5555555555555556,
                            "#d8576b"
                          ],
                          [
                            0.6666666666666666,
                            "#ed7953"
                          ],
                          [
                            0.7777777777777778,
                            "#fb9f3a"
                          ],
                          [
                            0.8888888888888888,
                            "#fdca26"
                          ],
                          [
                            1,
                            "#f0f921"
                          ]
                        ],
                        "type": "histogram2dcontour"
                      }
                    ],
                    "mesh3d": [
                      {
                        "colorbar": {
                          "outlinewidth": 0,
                          "ticks": ""
                        },
                        "type": "mesh3d"
                      }
                    ],
                    "parcoords": [
                      {
                        "line": {
                          "colorbar": {
                            "outlinewidth": 0,
                            "ticks": ""
                          }
                        },
                        "type": "parcoords"
                      }
                    ],
                    "pie": [
                      {
                        "automargin": true,
                        "type": "pie"
                      }
                    ],
                    "scatter": [
                      {
                        "fillpattern": {
                          "fillmode": "overlay",
                          "size": 10,
                          "solidity": 0.2
                        },
                        "type": "scatter"
                      }
                    ],
                    "scatter3d": [
                      {
                        "line": {
                          "colorbar": {
                            "outlinewidth": 0,
                            "ticks": ""
                          }
                        },
                        "marker": {
                          "colorbar": {
                            "outlinewidth": 0,
                            "ticks": ""
                          }
                        },
                        "type": "scatter3d"
                      }
                    ],
                    "scattercarpet": [
                      {
                        "marker": {
                          "colorbar": {
                            "outlinewidth": 0,
                            "ticks": ""
                          }
                        },
                        "type": "scattercarpet"
                      }
                    ],
                    "scattergeo": [
                      {
                        "marker": {
                          "colorbar": {
                            "outlinewidth": 0,
                            "ticks": ""
                          }
                        },
                        "type": "scattergeo"
                      }
                    ],
                    "scattergl": [
                      {
                        "marker": {
                          "colorbar": {
                            "outlinewidth": 0,
                            "ticks": ""
                          }
                        },
                        "type": "scattergl"
                      }
                    ],
                    "scattermapbox": [
                      {
                        "marker": {
                          "colorbar": {
                            "outlinewidth": 0,
                            "ticks": ""
                          }
                        },
                        "type": "scattermapbox"
                      }
                    ],
                    "scatterpolar": [
                      {
                        "marker": {
                          "colorbar": {
                            "outlinewidth": 0,
                            "ticks": ""
                          }
                        },
                        "type": "scatterpolar"
                      }
                    ],
                    "scatterpolargl": [
                      {
                        "marker": {
                          "colorbar": {
                            "outlinewidth": 0,
                            "ticks": ""
                          }
                        },
                        "type": "scatterpolargl"
                      }
                    ],
                    "scatterternary": [
                      {
                        "marker": {
                          "colorbar": {
                            "outlinewidth": 0,
                            "ticks": ""
                          }
                        },
                        "type": "scatterternary"
                      }
                    ],
                    "surface": [
                      {
                        "colorbar": {
                          "outlinewidth": 0,
                          "ticks": ""
                        },
                        "colorscale": [
                          [
                            0,
                            "#0d0887"
                          ],
                          [
                            0.1111111111111111,
                            "#46039f"
                          ],
                          [
                            0.2222222222222222,
                            "#7201a8"
                          ],
                          [
                            0.3333333333333333,
                            "#9c179e"
                          ],
                          [
                            0.4444444444444444,
                            "#bd3786"
                          ],
                          [
                            0.5555555555555556,
                            "#d8576b"
                          ],
                          [
                            0.6666666666666666,
                            "#ed7953"
                          ],
                          [
                            0.7777777777777778,
                            "#fb9f3a"
                          ],
                          [
                            0.8888888888888888,
                            "#fdca26"
                          ],
                          [
                            1,
                            "#f0f921"
                          ]
                        ],
                        "type": "surface"
                      }
                    ],
                    "table": [
                      {
                        "cells": {
                          "fill": {
                            "color": "#EBF0F8"
                          },
                          "line": {
                            "color": "white"
                          }
                        },
                        "header": {
                          "fill": {
                            "color": "#C8D4E3"
                          },
                          "line": {
                            "color": "white"
                          }
                        },
                        "type": "table"
                      }
                    ]
                  },
                  "layout": {
                    "annotationdefaults": {
                      "arrowcolor": "#2a3f5f",
                      "arrowhead": 0,
                      "arrowwidth": 1
                    },
                    "autotypenumbers": "strict",
                    "coloraxis": {
                      "colorbar": {
                        "outlinewidth": 0,
                        "ticks": ""
                      }
                    },
                    "colorscale": {
                      "diverging": [
                        [
                          0,
                          "#8e0152"
                        ],
                        [
                          0.1,
                          "#c51b7d"
                        ],
                        [
                          0.2,
                          "#de77ae"
                        ],
                        [
                          0.3,
                          "#f1b6da"
                        ],
                        [
                          0.4,
                          "#fde0ef"
                        ],
                        [
                          0.5,
                          "#f7f7f7"
                        ],
                        [
                          0.6,
                          "#e6f5d0"
                        ],
                        [
                          0.7,
                          "#b8e186"
                        ],
                        [
                          0.8,
                          "#7fbc41"
                        ],
                        [
                          0.9,
                          "#4d9221"
                        ],
                        [
                          1,
                          "#276419"
                        ]
                      ],
                      "sequential": [
                        [
                          0,
                          "#0d0887"
                        ],
                        [
                          0.1111111111111111,
                          "#46039f"
                        ],
                        [
                          0.2222222222222222,
                          "#7201a8"
                        ],
                        [
                          0.3333333333333333,
                          "#9c179e"
                        ],
                        [
                          0.4444444444444444,
                          "#bd3786"
                        ],
                        [
                          0.5555555555555556,
                          "#d8576b"
                        ],
                        [
                          0.6666666666666666,
                          "#ed7953"
                        ],
                        [
                          0.7777777777777778,
                          "#fb9f3a"
                        ],
                        [
                          0.8888888888888888,
                          "#fdca26"
                        ],
                        [
                          1,
                          "#f0f921"
                        ]
                      ],
                      "sequentialminus": [
                        [
                          0,
                          "#0d0887"
                        ],
                        [
                          0.1111111111111111,
                          "#46039f"
                        ],
                        [
                          0.2222222222222222,
                          "#7201a8"
                        ],
                        [
                          0.3333333333333333,
                          "#9c179e"
                        ],
                        [
                          0.4444444444444444,
                          "#bd3786"
                        ],
                        [
                          0.5555555555555556,
                          "#d8576b"
                        ],
                        [
                          0.6666666666666666,
                          "#ed7953"
                        ],
                        [
                          0.7777777777777778,
                          "#fb9f3a"
                        ],
                        [
                          0.8888888888888888,
                          "#fdca26"
                        ],
                        [
                          1,
                          "#f0f921"
                        ]
                      ]
                    },
                    "colorway": [
                      "#636efa",
                      "#EF553B",
                      "#00cc96",
                      "#ab63fa",
                      "#FFA15A",
                      "#19d3f3",
                      "#FF6692",
                      "#B6E880",
                      "#FF97FF",
                      "#FECB52"
                    ],
                    "font": {
                      "color": "#2a3f5f"
                    },
                    "geo": {
                      "bgcolor": "white",
                      "lakecolor": "white",
                      "landcolor": "#E5ECF6",
                      "showlakes": true,
                      "showland": true,
                      "subunitcolor": "white"
                    },
                    "hoverlabel": {
                      "align": "left"
                    },
                    "hovermode": "closest",
                    "mapbox": {
                      "style": "light"
                    },
                    "paper_bgcolor": "white",
                    "plot_bgcolor": "#E5ECF6",
                    "polar": {
                      "angularaxis": {
                        "gridcolor": "white",
                        "linecolor": "white",
                        "ticks": ""
                      },
                      "bgcolor": "#E5ECF6",
                      "radialaxis": {
                        "gridcolor": "white",
                        "linecolor": "white",
                        "ticks": ""
                      }
                    },
                    "scene": {
                      "xaxis": {
                        "backgroundcolor": "#E5ECF6",
                        "gridcolor": "white",
                        "gridwidth": 2,
                        "linecolor": "white",
                        "showbackground": true,
                        "ticks": "",
                        "zerolinecolor": "white"
                      },
                      "yaxis": {
                        "backgroundcolor": "#E5ECF6",
                        "gridcolor": "white",
                        "gridwidth": 2,
                        "linecolor": "white",
                        "showbackground": true,
                        "ticks": "",
                        "zerolinecolor": "white"
                      },
                      "zaxis": {
                        "backgroundcolor": "#E5ECF6",
                        "gridcolor": "white",
                        "gridwidth": 2,
                        "linecolor": "white",
                        "showbackground": true,
                        "ticks": "",
                        "zerolinecolor": "white"
                      }
                    },
                    "shapedefaults": {
                      "line": {
                        "color": "#2a3f5f"
                      }
                    },
                    "ternary": {
                      "aaxis": {
                        "gridcolor": "white",
                        "linecolor": "white",
                        "ticks": ""
                      },
                      "baxis": {
                        "gridcolor": "white",
                        "linecolor": "white",
                        "ticks": ""
                      },
                      "bgcolor": "#E5ECF6",
                      "caxis": {
                        "gridcolor": "white",
                        "linecolor": "white",
                        "ticks": ""
                      }
                    },
                    "title": {
                      "x": 0.05
                    },
                    "xaxis": {
                      "automargin": true,
                      "gridcolor": "white",
                      "linecolor": "white",
                      "ticks": "",
                      "title": {
                        "standoff": 15
                      },
                      "zerolinecolor": "white",
                      "zerolinewidth": 2
                    },
                    "yaxis": {
                      "automargin": true,
                      "gridcolor": "white",
                      "linecolor": "white",
                      "ticks": "",
                      "title": {
                        "standoff": 15
                      },
                      "zerolinecolor": "white",
                      "zerolinewidth": 2
                    }
                  }
                },
                "title": {
                  "text": "Sankey chart: Flows by Class, Gender, and Survival"
                }
              }
            }
          },
          "metadata": {},
          "output_type": "display_data"
        }
      ],
      "source": [
        "# Defining labels for nodes\n",
        "labels = ['Pclass 1', 'Pclass 2', 'Pclass 3', 'Male', 'Female', 'Survived', 'Not Survived']\n",
        "\n",
        "# Creating streams between categories\n",
        "source = ['Pclass 1', 'Pclass 1', 'Pclass 2', 'Pclass 2', 'Pclass 3', 'Pclass 3', 'Male', 'Female', 'Male', 'Female']\n",
        "target = ['Male', 'Female', 'Male', 'Female', 'Male', 'Female', 'Survived', 'Survived', 'Not Survived', 'Not Survived']\n",
        "values = [\n",
        "    data[(data['Pclass'] == 1) & (data['Sex'] == 'male')].shape[0],  # Number of male in 1 PClass\n",
        "    data[(data['Pclass'] == 1) & (data['Sex'] == 'female')].shape[0],  # Number of female in 1 PClass\n",
        "\n",
        "    data[(data['Pclass'] == 2) & (data['Sex'] == 'male')].shape[0],  # Number of male in 2 PClass\n",
        "    data[(data['Pclass'] == 2) & (data['Sex'] == 'female')].shape[0],  # Number of female in 2 PClass\n",
        "\n",
        "    data[(data['Pclass'] == 3) & (data['Sex'] == 'male')].shape[0],  # Number of male in 3 PClass\n",
        "    data[(data['Pclass'] == 3) & (data['Sex'] == 'female')].shape[0],  # Number of female in 3 PClass\n",
        "\n",
        "\n",
        "    data[(data['Survived'] == 1) & (data['Sex'] == 'male')].shape[0],  # Number of survived male\n",
        "    data[(data['Survived'] == 1) & (data['Sex'] == 'female')].shape[0],  # Number of survived female\n",
        "\n",
        "    data[(data['Survived'] == 0) & (data['Sex'] == 'male')].shape[0],  # Number of notsurvived male\n",
        "    data[(data['Survived'] == 0) & (data['Sex'] == 'female')].shape[0]   # Number of notsurvived female\n",
        "]\n",
        "\n",
        "# Indexes for sources and targets\n",
        "sources = [labels.index(src) for src in source]\n",
        "targets = [labels.index(tgt) for tgt in target]\n",
        "\n",
        "# Creating a sankey chart\n",
        "fig = go.Figure(go.Sankey(\n",
        "    node=dict(\n",
        "        pad=15,\n",
        "        thickness=20,\n",
        "        line=dict(color=\"black\", width=0.5),\n",
        "        label=labels\n",
        "    ),\n",
        "    link=dict(\n",
        "        source=sources,\n",
        "        target=targets,\n",
        "        value=values\n",
        "    )\n",
        "))\n",
        "\n",
        "fig.update_layout(title_text=\"Sankey chart: Flows by Class, Gender, and Survival\", font_size=10)\n",
        "fig.show()"
      ]
    }
  ],
  "metadata": {
    "colab": {
      "provenance": [],
      "toc_visible": true
    },
    "kernelspec": {
      "display_name": "Python 3",
      "name": "python3"
    },
    "language_info": {
      "codemirror_mode": {
        "name": "ipython",
        "version": 3
      },
      "file_extension": ".py",
      "mimetype": "text/x-python",
      "name": "python",
      "nbconvert_exporter": "python",
      "pygments_lexer": "ipython3",
      "version": "3.11.6"
    }
  },
  "nbformat": 4,
  "nbformat_minor": 0
}
